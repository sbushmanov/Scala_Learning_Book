{
 "cells": [
  {
   "cell_type": "markdown",
   "metadata": {
    "jp-MarkdownHeadingCollapsed": true,
    "toc": true
   },
   "source": [
    "<h1>Table of Contents<span class=\"tocSkip\"></span></h1>\n",
    "<div class=\"toc\"><ul class=\"toc-item\"><li><span><a href=\"#Isn't-it-beautiful?\" data-toc-modified-id=\"Isn't-it-beautiful?-1\"><span class=\"toc-item-num\">1&nbsp;&nbsp;</span>Isn't it beautiful?</a></span></li><li><span><a href=\"#Chapter_2\" data-toc-modified-id=\"Chapter_2-2\"><span class=\"toc-item-num\">2&nbsp;&nbsp;</span>Chapter_2</a></span><ul class=\"toc-item\"><li><span><a href=\"#Basic-types:\" data-toc-modified-id=\"Basic-types:-2.1\"><span class=\"toc-item-num\">2.1&nbsp;&nbsp;</span>Basic types:</a></span></li><li><span><a href=\"#Format-of-initiating-a-value-or-a-vatiable\" data-toc-modified-id=\"Format-of-initiating-a-value-or-a-vatiable-2.2\"><span class=\"toc-item-num\">2.2&nbsp;&nbsp;</span>Format of initiating a value or a vatiable</a></span></li><li><span><a href=\"#Type-conversion:-&quot;Upconversion&quot;:\" data-toc-modified-id=\"Type-conversion:-&quot;Upconversion&quot;:-2.3\"><span class=\"toc-item-num\">2.3&nbsp;&nbsp;</span>Type conversion: \"Upconversion\":</a></span></li><li><span><a href=\"#&quot;Downconversion&quot;\" data-toc-modified-id=\"&quot;Downconversion&quot;-2.4\"><span class=\"toc-item-num\">2.4&nbsp;&nbsp;</span>\"Downconversion\"</a></span></li><li><span><a href=\"#String-interpolation:\" data-toc-modified-id=\"String-interpolation:-2.5\"><span class=\"toc-item-num\">2.5&nbsp;&nbsp;</span>String interpolation:</a></span></li><li><span><a href=\"#Tuples\" data-toc-modified-id=\"Tuples-2.6\"><span class=\"toc-item-num\">2.6&nbsp;&nbsp;</span>Tuples</a></span></li></ul></li><li><span><a href=\"#Chapter_3\" data-toc-modified-id=\"Chapter_3-3\"><span class=\"toc-item-num\">3&nbsp;&nbsp;</span>Chapter_3</a></span><ul class=\"toc-item\"><li><span><a href=\"#Expressions\" data-toc-modified-id=\"Expressions-3.1\"><span class=\"toc-item-num\">3.1&nbsp;&nbsp;</span>Expressions</a></span></li><li><span><a href=\"#&quot;Match&quot;-expression\" data-toc-modified-id=\"&quot;Match&quot;-expression-3.2\"><span class=\"toc-item-num\">3.2&nbsp;&nbsp;</span>\"Match\" expression</a></span><ul class=\"toc-item\"><li><span><a href=\"#No-match-is-found:\" data-toc-modified-id=\"No-match-is-found:-3.2.1\"><span class=\"toc-item-num\">3.2.1&nbsp;&nbsp;</span>No match is found:</a></span></li></ul></li><li><span><a href=\"#Case-without-match\" data-toc-modified-id=\"Case-without-match-3.3\"><span class=\"toc-item-num\">3.3&nbsp;&nbsp;</span><code>Case</code> without <code>match</code></a></span><ul class=\"toc-item\"><li><span><a href=\"#Unpacking-tuples\" data-toc-modified-id=\"Unpacking-tuples-3.3.1\"><span class=\"toc-item-num\">3.3.1&nbsp;&nbsp;</span>Unpacking tuples</a></span></li><li><span><a href=\"#Matching-Type\" data-toc-modified-id=\"Matching-Type-3.3.2\"><span class=\"toc-item-num\">3.3.2&nbsp;&nbsp;</span>Matching <code>Type</code></a></span></li></ul></li><li><span><a href=\"#Use-of-curly-braces:\" data-toc-modified-id=\"Use-of-curly-braces:-3.4\"><span class=\"toc-item-num\">3.4&nbsp;&nbsp;</span>Use of curly braces:</a></span><ul class=\"toc-item\"><li><ul class=\"toc-item\"><li><span><a href=\"#Beware!!!-:\" data-toc-modified-id=\"Beware!!!-:-3.4.0.1\"><span class=\"toc-item-num\">3.4.0.1&nbsp;&nbsp;</span>Beware!!! :</a></span></li></ul></li></ul></li><li><span><a href=\"#Matching-with-wildcards:\" data-toc-modified-id=\"Matching-with-wildcards:-3.5\"><span class=\"toc-item-num\">3.5&nbsp;&nbsp;</span>Matching with wildcards:</a></span></li><li><span><a href=\"#Pattern-guards\" data-toc-modified-id=\"Pattern-guards-3.6\"><span class=\"toc-item-num\">3.6&nbsp;&nbsp;</span>Pattern guards</a></span></li><li><span><a href=\"#&quot;for&quot;-loop\" data-toc-modified-id=\"&quot;for&quot;-loop-3.7\"><span class=\"toc-item-num\">3.7&nbsp;&nbsp;</span>\"for\" loop</a></span></li><li><span><a href=\"#Iterator-Guards\" data-toc-modified-id=\"Iterator-Guards-3.8\"><span class=\"toc-item-num\">3.8&nbsp;&nbsp;</span>Iterator Guards</a></span></li></ul></li><li><span><a href=\"#Chapter_4:-Functions\" data-toc-modified-id=\"Chapter_4:-Functions-4\"><span class=\"toc-item-num\">4&nbsp;&nbsp;</span>Chapter_4: Functions</a></span><ul class=\"toc-item\"><li><span><a href=\"#Tail-recursion\" data-toc-modified-id=\"Tail-recursion-4.1\"><span class=\"toc-item-num\">4.1&nbsp;&nbsp;</span>Tail recursion</a></span></li></ul></li><li><span><a href=\"#Chapter-#-5:-First-Class-Functions\" data-toc-modified-id=\"Chapter-#-5:-First-Class-Functions-5\"><span class=\"toc-item-num\">5&nbsp;&nbsp;</span>Chapter # 5: First Class Functions</a></span><ul class=\"toc-item\"><li><span><a href=\"#Anonymous-function\" data-toc-modified-id=\"Anonymous-function-5.1\"><span class=\"toc-item-num\">5.1&nbsp;&nbsp;</span>Anonymous function</a></span></li><li><span><a href=\"#Anonymous-without-args\" data-toc-modified-id=\"Anonymous-without-args-5.2\"><span class=\"toc-item-num\">5.2&nbsp;&nbsp;</span>Anonymous without args</a></span></li></ul></li><li><span><a href=\"#5-ways-to-define-functions\" data-toc-modified-id=\"5-ways-to-define-functions-6\"><span class=\"toc-item-num\">6&nbsp;&nbsp;</span>5 ways to define functions</a></span><ul class=\"toc-item\"><li><span><a href=\"#def-keyeword\" data-toc-modified-id=\"def-keyeword-6.1\"><span class=\"toc-item-num\">6.1&nbsp;&nbsp;</span>def keyeword</a></span></li><li><span><a href=\"#assigned-function-val\" data-toc-modified-id=\"assigned-function-val-6.2\"><span class=\"toc-item-num\">6.2&nbsp;&nbsp;</span>assigned function val</a></span></li><li><span><a href=\"#anonimous-function\" data-toc-modified-id=\"anonimous-function-6.3\"><span class=\"toc-item-num\">6.3&nbsp;&nbsp;</span>anonimous function</a></span></li><li><span><a href=\"#placeholder-syntax\" data-toc-modified-id=\"placeholder-syntax-6.4\"><span class=\"toc-item-num\">6.4&nbsp;&nbsp;</span>placeholder syntax</a></span></li><li><span><a href=\"#partially-applied-functions\" data-toc-modified-id=\"partially-applied-functions-6.5\"><span class=\"toc-item-num\">6.5&nbsp;&nbsp;</span>partially applied functions</a></span></li></ul></li><li><span><a href=\"#Currying\" data-toc-modified-id=\"Currying-7\"><span class=\"toc-item-num\">7&nbsp;&nbsp;</span>Currying</a></span></li><li><span><a href=\"#Assigning-functions-with-placeholder\" data-toc-modified-id=\"Assigning-functions-with-placeholder-8\"><span class=\"toc-item-num\">8&nbsp;&nbsp;</span>Assigning functions with placeholder</a></span></li><li><span><a href=\"#Chapter-6.-Common-Collections\" data-toc-modified-id=\"Chapter-6.-Common-Collections-9\"><span class=\"toc-item-num\">9&nbsp;&nbsp;</span>Chapter 6. Common Collections</a></span><ul class=\"toc-item\"><li><span><a href=\"#Sequences----ordered-collection-of-elements:\" data-toc-modified-id=\"Sequences----ordered-collection-of-elements:-9.1\"><span class=\"toc-item-num\">9.1&nbsp;&nbsp;</span>Sequences -- ordered collection of elements:</a></span></li><li><span><a href=\"#Sets:\" data-toc-modified-id=\"Sets:-9.2\"><span class=\"toc-item-num\">9.2&nbsp;&nbsp;</span>Sets:</a></span></li><li><span><a href=\"#Collections-methods-are:\" data-toc-modified-id=\"Collections-methods-are:-9.3\"><span class=\"toc-item-num\">9.3&nbsp;&nbsp;</span>Collections methods are:</a></span><ul class=\"toc-item\"><li><span><a href=\"#Head\" data-toc-modified-id=\"Head-9.3.1\"><span class=\"toc-item-num\">9.3.1&nbsp;&nbsp;</span>Head</a></span></li><li><span><a href=\"#Foreach\" data-toc-modified-id=\"Foreach-9.3.2\"><span class=\"toc-item-num\">9.3.2&nbsp;&nbsp;</span>Foreach</a></span></li><li><span><a href=\"#Map\" data-toc-modified-id=\"Map-9.3.3\"><span class=\"toc-item-num\">9.3.3&nbsp;&nbsp;</span>Map</a></span></li><li><span><a href=\"#5-Faces-of-map-:\" data-toc-modified-id=\"5-Faces-of-map-:-9.3.4\"><span class=\"toc-item-num\">9.3.4&nbsp;&nbsp;</span>5 Faces of <code>map</code> :</a></span><ul class=\"toc-item\"><li><span><a href=\"#Map-with-anonymous-lambda\" data-toc-modified-id=\"Map-with-anonymous-lambda-9.3.4.1\"><span class=\"toc-item-num\">9.3.4.1&nbsp;&nbsp;</span>Map with anonymous lambda</a></span></li><li><span><a href=\"#Map-with-curly-braces\" data-toc-modified-id=\"Map-with-curly-braces-9.3.4.2\"><span class=\"toc-item-num\">9.3.4.2&nbsp;&nbsp;</span>Map with curly braces</a></span></li><li><span><a href=\"#Map-in-an-operator-notation\" data-toc-modified-id=\"Map-in-an-operator-notation-9.3.4.3\"><span class=\"toc-item-num\">9.3.4.3&nbsp;&nbsp;</span>Map in an operator notation</a></span></li><li><span><a href=\"#Map-with-type-inference\" data-toc-modified-id=\"Map-with-type-inference-9.3.4.4\"><span class=\"toc-item-num\">9.3.4.4&nbsp;&nbsp;</span>Map with type inference</a></span></li><li><span><a href=\"#Map-with-single-variable-in-function-body\" data-toc-modified-id=\"Map-with-single-variable-in-function-body-9.3.4.5\"><span class=\"toc-item-num\">9.3.4.5&nbsp;&nbsp;</span>Map with single variable in function body</a></span></li></ul></li><li><span><a href=\"#Reduce-family\" data-toc-modified-id=\"Reduce-family-9.3.5\"><span class=\"toc-item-num\">9.3.5&nbsp;&nbsp;</span>Reduce family</a></span></li></ul></li><li><span><a href=\"#List-operators:-append,-prepend,-etc\" data-toc-modified-id=\"List-operators:-append,-prepend,-etc-9.4\"><span class=\"toc-item-num\">9.4&nbsp;&nbsp;</span>List operators: <code>append</code>, <code>prepend</code>, etc</a></span></li><li><span><a href=\"#Map-methods\" data-toc-modified-id=\"Map-methods-9.5\"><span class=\"toc-item-num\">9.5&nbsp;&nbsp;</span>Map methods</a></span></li><li><span><a href=\"#Chapter-7\" data-toc-modified-id=\"Chapter-7-9.6\"><span class=\"toc-item-num\">9.6&nbsp;&nbsp;</span>Chapter 7</a></span></li></ul></li><li><span><a href=\"#Compiling-Scala-code\" data-toc-modified-id=\"Compiling-Scala-code-10\"><span class=\"toc-item-num\">10&nbsp;&nbsp;</span>Compiling Scala code</a></span></li></ul></div>"
   ]
  },
  {
   "cell_type": "markdown",
   "metadata": {},
   "source": [
    "# Isn't it beautiful?"
   ]
  },
  {
   "cell_type": "code",
   "execution_count": 1,
   "metadata": {
    "ExecuteTime": {
     "end_time": "2022-03-08T11:20:03.172642Z",
     "start_time": "2022-03-08T11:19:58.575Z"
    }
   },
   "outputs": [
    {
     "data": {
      "text/plain": [
       "\u001b[36mres1\u001b[39m: \u001b[32mString\u001b[39m = \u001b[32m\"Scala library version 2.13.9 -- Copyright 2002-2022, LAMP/EPFL and Lightbend, Inc.\"\u001b[39m"
      ]
     },
     "execution_count": 1,
     "metadata": {},
     "output_type": "execute_result"
    }
   ],
   "source": [
    "scala.util.Properties.versionMsg"
   ]
  },
  {
   "cell_type": "code",
   "execution_count": 2,
   "metadata": {
    "ExecuteTime": {
     "end_time": "2022-03-08T11:21:29.483816Z",
     "start_time": "2022-03-08T11:21:28.198Z"
    }
   },
   "outputs": [
    {
     "data": {
      "text/plain": [
       "\u001b[36mmp\u001b[39m: \u001b[32mMap\u001b[39m[\u001b[32mChar\u001b[39m, \u001b[32mInt\u001b[39m] = \u001b[33mHashMap\u001b[39m(\u001b[32m'e'\u001b[39m -> \u001b[32m1\u001b[39m, \u001b[32m'l'\u001b[39m -> \u001b[32m3\u001b[39m, \u001b[32m'h'\u001b[39m -> \u001b[32m4\u001b[39m, \u001b[32m'o'\u001b[39m -> \u001b[32m1\u001b[39m)"
      ]
     },
     "execution_count": 2,
     "metadata": {},
     "output_type": "execute_result"
    }
   ],
   "source": [
    "val mp = (\"Helll! ohhh....\"\n",
    "          .toLowerCase\n",
    "          .toList\n",
    "          .filter(_.isLetter)\n",
    "          .groupBy(identity)\n",
    "          .map(x => x._1 -> x._2.size)\n",
    "         )"
   ]
  },
  {
   "cell_type": "code",
   "execution_count": 5,
   "metadata": {
    "ExecuteTime": {
     "end_time": "2022-03-08T11:21:50.655717Z",
     "start_time": "2022-03-08T11:21:49.731Z"
    }
   },
   "outputs": [
    {
     "data": {
      "text/plain": [
       "\u001b[36mmp\u001b[39m: \u001b[32mSeq\u001b[39m[(\u001b[32mChar\u001b[39m, \u001b[32mInt\u001b[39m)] = \u001b[33mList\u001b[39m((\u001b[32m'h'\u001b[39m, \u001b[32m4\u001b[39m), (\u001b[32m'l'\u001b[39m, \u001b[32m3\u001b[39m), (\u001b[32m'e'\u001b[39m, \u001b[32m1\u001b[39m), (\u001b[32m'o'\u001b[39m, \u001b[32m1\u001b[39m))"
      ]
     },
     "execution_count": 5,
     "metadata": {},
     "output_type": "execute_result"
    }
   ],
   "source": [
    "val mp = (\"Helll! ohhh....\"\n",
    "          .toLowerCase\n",
    "          .filter(_.isLetter)\n",
    "          .groupBy(identity)\n",
    "          .map(x => x._1 -> x._2.size)\n",
    "          .toSeq\n",
    "          .sortBy(-_._2)\n",
    "         )"
   ]
  },
  {
   "cell_type": "code",
   "execution_count": 2,
   "metadata": {},
   "outputs": [
    {
     "data": {
      "text/plain": [
       "\u001b[36mls\u001b[39m: \u001b[32mList\u001b[39m[\u001b[32mString\u001b[39m] = \u001b[33mList\u001b[39m(\u001b[32m\"a\"\u001b[39m, \u001b[32m\"b\"\u001b[39m, \u001b[32m\"a\"\u001b[39m)\n",
       "\u001b[36mms\u001b[39m: \u001b[32mMap\u001b[39m[\u001b[32mString\u001b[39m, \u001b[32mInt\u001b[39m] = \u001b[33mMap\u001b[39m(\u001b[32m\"a\"\u001b[39m -> \u001b[32m1\u001b[39m, \u001b[32m\"b\"\u001b[39m -> \u001b[32m2\u001b[39m)\n",
       "\u001b[36mres2_2\u001b[39m: \u001b[32mList\u001b[39m[\u001b[32mInt\u001b[39m] = \u001b[33mList\u001b[39m(\u001b[32m1\u001b[39m, \u001b[32m2\u001b[39m, \u001b[32m1\u001b[39m)"
      ]
     },
     "execution_count": 2,
     "metadata": {},
     "output_type": "execute_result"
    }
   ],
   "source": [
    "val ls = List(\"a\", \"b\" , \"a\")\n",
    "val ms = Map(\"a\" -> 1, \"b\" -> 2)\n",
    "\n",
    "ls.map(ms)"
   ]
  },
  {
   "cell_type": "code",
   "execution_count": 4,
   "metadata": {},
   "outputs": [
    {
     "data": {
      "text/plain": [
       "\u001b[36mls2\u001b[39m: \u001b[32mList\u001b[39m[\u001b[32mString\u001b[39m] = \u001b[33mList\u001b[39m(\u001b[32m\"a\"\u001b[39m, \u001b[32m\"b\"\u001b[39m, \u001b[32m\"c\"\u001b[39m)\n",
       "\u001b[36mres4_1\u001b[39m: \u001b[32mList\u001b[39m[\u001b[32mInt\u001b[39m] = \u001b[33mList\u001b[39m(\u001b[32m1\u001b[39m, \u001b[32m2\u001b[39m, \u001b[32m-1\u001b[39m)"
      ]
     },
     "execution_count": 4,
     "metadata": {},
     "output_type": "execute_result"
    }
   ],
   "source": [
    "val ls2 = List(\"a\",\"b\",\"c\")\n",
    "ls2.map( ms.getOrElse(_, -1) )"
   ]
  },
  {
   "cell_type": "markdown",
   "metadata": {},
   "source": [
    "# Chapter_2\n",
    "\n",
    "Scala has:\n",
    "\n",
    "- `literals`\n",
    "- `values` : immutable\n",
    "- `variables` : mutable\n",
    "- `type` : type of a `value` or a `variable`\n",
    "\n",
    "## Basic types:\n",
    "\n",
    "`Byte, Short, Int, Long, Char, String, Float, Double, Boolean`\n",
    "\n",
    "\n",
    "## Format of initiating a value or a vatiable\n",
    "\n",
    "`val <name> [: <type> ] = <literal>`  \n",
    "`var <name> [: <type> ] = <literal>`\n",
    "\n",
    "`type` is optional and inferred, but defining `type ` is highly recommended:\n",
    "\n",
    "- saves compile time"
   ]
  },
  {
   "cell_type": "code",
   "execution_count": 13,
   "metadata": {
    "ExecuteTime": {
     "end_time": "2021-09-25T04:46:28.108565Z",
     "start_time": "2021-09-25T04:46:27.977Z"
    }
   },
   "outputs": [
    {
     "data": {
      "text/plain": [
       "\u001b[36mx\u001b[39m: \u001b[32mInt\u001b[39m = \u001b[32m3\u001b[39m"
      ]
     },
     "execution_count": 13,
     "metadata": {},
     "output_type": "execute_result"
    }
   ],
   "source": [
    "val x:Int = 3"
   ]
  },
  {
   "cell_type": "code",
   "execution_count": 14,
   "metadata": {
    "ExecuteTime": {
     "end_time": "2021-09-25T04:46:37.132941Z",
     "start_time": "2021-09-25T04:46:36.962Z"
    }
   },
   "outputs": [
    {
     "data": {
      "text/html": [
       "<div class=\"jp-RenderedText\">\n",
       "<pre><code><span style=\"color: rgb(0, 187, 187)\"><span class=\"ansi-cyan-fg\">y</span></span>: <span style=\"color: rgb(0, 187, 0)\"><span class=\"ansi-green-fg\">Double</span></span> = <style>@keyframes fadein { from { opacity: 0; } to { opacity: 1; } }</style><span style=\"animation: fadein 2s;\"><span style=\"color: rgb(0, 187, 0)\"><span class=\"ansi-green-fg\">5.0</span></span></span></code></pre>\n",
       "</div>"
      ],
      "text/plain": [
       "\u001b[36my\u001b[39m: \u001b[32mDouble\u001b[39m = \u001b[32m5.0\u001b[39m"
      ]
     },
     "metadata": {},
     "output_type": "display_data"
    }
   ],
   "source": [
    "var y:Double = 3.1"
   ]
  },
  {
   "cell_type": "code",
   "execution_count": 15,
   "metadata": {
    "ExecuteTime": {
     "end_time": "2021-09-25T04:46:41.169598Z",
     "start_time": "2021-09-25T04:46:41.025Z"
    }
   },
   "outputs": [
    {
     "data": {
      "text/plain": [
       "\u001b[36mres14_1\u001b[39m: \u001b[32mClass\u001b[39m[\u001b[32mDouble\u001b[39m] = double"
      ]
     },
     "execution_count": 15,
     "metadata": {},
     "output_type": "execute_result"
    }
   ],
   "source": [
    "// Variable class/type is preserved\n",
    "y = 5\n",
    "y.getClass"
   ]
  },
  {
   "cell_type": "code",
   "execution_count": 1,
   "metadata": {},
   "outputs": [
    {
     "data": {
      "text/plain": [
       "\u001b[36mres1\u001b[39m: \u001b[32mInt\u001b[39m = \u001b[32m1072\u001b[39m"
      ]
     },
     "execution_count": 1,
     "metadata": {},
     "output_type": "execute_result"
    }
   ],
   "source": [
    "\"а\".hashCode"
   ]
  },
  {
   "cell_type": "code",
   "execution_count": 16,
   "metadata": {
    "ExecuteTime": {
     "end_time": "2021-09-25T04:46:44.184277Z",
     "start_time": "2021-09-25T04:46:44.040Z"
    }
   },
   "outputs": [
    {
     "data": {
      "text/plain": [
       "\u001b[36mres15\u001b[39m: \u001b[32mInt\u001b[39m = \u001b[32m97\u001b[39m"
      ]
     },
     "execution_count": 16,
     "metadata": {},
     "output_type": "execute_result"
    }
   ],
   "source": [
    "\"a\".hashCode"
   ]
  },
  {
   "cell_type": "code",
   "execution_count": 2,
   "metadata": {},
   "outputs": [
    {
     "name": "stderr",
     "output_type": "stream",
     "text": [
      "cell3.sc:1: type mismatch;\n",
      " found   : Int\n",
      " required: String => ?\n",
      "val res3 = List(\"a\", \"а\").map(hashCode)\n",
      "                              ^\n",
      "Compilation Failed"
     ]
    }
   ],
   "source": [
    "//doesnt work\n",
    "List(\"a\", \"а\").map(hashCode)"
   ]
  },
  {
   "cell_type": "code",
   "execution_count": 3,
   "metadata": {},
   "outputs": [
    {
     "data": {
      "text/plain": [
       "\u001b[36mres3\u001b[39m: \u001b[32mList\u001b[39m[\u001b[32mInt\u001b[39m] = \u001b[33mList\u001b[39m(\u001b[32m97\u001b[39m, \u001b[32m1072\u001b[39m)"
      ]
     },
     "execution_count": 3,
     "metadata": {},
     "output_type": "execute_result"
    }
   ],
   "source": [
    "//does work\n",
    "List(\"a\", \"а\").map(_.hashCode)"
   ]
  },
  {
   "cell_type": "code",
   "execution_count": 4,
   "metadata": {},
   "outputs": [
    {
     "data": {
      "text/plain": [
       "defined \u001b[32mfunction\u001b[39m \u001b[36mhashCode\u001b[39m\n",
       "\u001b[36mres4_1\u001b[39m: \u001b[32mList\u001b[39m[\u001b[32mInt\u001b[39m] = \u001b[33mList\u001b[39m(\u001b[32m97\u001b[39m, \u001b[32m1072\u001b[39m)"
      ]
     },
     "execution_count": 4,
     "metadata": {},
     "output_type": "execute_result"
    }
   ],
   "source": [
    "//does work\n",
    "def hashCode(s: String): Int = s.hashCode\n",
    "List(\"a\", \"а\").map(hashCode)"
   ]
  },
  {
   "cell_type": "code",
   "execution_count": 10,
   "metadata": {
    "ExecuteTime": {
     "end_time": "2021-09-25T04:38:43.966214Z",
     "start_time": "2021-09-25T04:38:43.801Z"
    }
   },
   "outputs": [
    {
     "data": {
      "text/plain": [
       "\u001b[36mres9\u001b[39m: (\u001b[32mInt\u001b[39m, \u001b[32mInt\u001b[39m, \u001b[32mInt\u001b[39m) = (\u001b[32m5\u001b[39m, \u001b[32m97\u001b[39m, \u001b[32m65\u001b[39m)"
      ]
     },
     "execution_count": 10,
     "metadata": {},
     "output_type": "execute_result"
    }
   ],
   "source": [
    "(5.hashCode, \"a\".hashCode, \"A\".hashCode)"
   ]
  },
  {
   "cell_type": "code",
   "execution_count": 8,
   "metadata": {
    "ExecuteTime": {
     "end_time": "2022-02-27T16:34:23.368647Z",
     "start_time": "2022-02-27T16:34:23.206Z"
    }
   },
   "outputs": [
    {
     "data": {
      "text/plain": [
       "\u001b[36mres7\u001b[39m: (\u001b[32mInt\u001b[39m, \u001b[32mInt\u001b[39m) = (\u001b[32m97\u001b[39m, \u001b[32m97\u001b[39m)"
      ]
     },
     "execution_count": 8,
     "metadata": {},
     "output_type": "execute_result"
    }
   ],
   "source": [
    "(\"a\".hashCode, 'a'.hashCode)"
   ]
  },
  {
   "cell_type": "code",
   "execution_count": 11,
   "metadata": {
    "ExecuteTime": {
     "end_time": "2021-09-25T04:39:01.168520Z",
     "start_time": "2021-09-25T04:39:01.010Z"
    }
   },
   "outputs": [
    {
     "data": {
      "text/plain": [
       "\u001b[36maHashCode\u001b[39m: \u001b[32mInt\u001b[39m = \u001b[32m97\u001b[39m"
      ]
     },
     "execution_count": 11,
     "metadata": {},
     "output_type": "execute_result"
    }
   ],
   "source": [
    "val aHashCode:Int = 'a'"
   ]
  },
  {
   "cell_type": "code",
   "execution_count": 7,
   "metadata": {},
   "outputs": [
    {
     "data": {
      "text/plain": [
       "\u001b[36mres6\u001b[0m: \u001b[32mDouble\u001b[0m = \u001b[32m5.0\u001b[0m"
      ]
     },
     "metadata": {},
     "output_type": "display_data"
    }
   ],
   "source": [
    "y // Class of a variable is preserved"
   ]
  },
  {
   "cell_type": "code",
   "execution_count": 12,
   "metadata": {
    "ExecuteTime": {
     "end_time": "2021-09-25T04:40:20.755640Z",
     "start_time": "2021-09-25T04:40:20.590Z"
    }
   },
   "outputs": [
    {
     "data": {
      "text/html": [
       "<div class=\"jp-RenderedText\">\n",
       "<pre><code><span style=\"color: rgb(0, 187, 187)\"><span class=\"ansi-cyan-fg\">z</span></span>: <span style=\"color: rgb(0, 187, 0)\"><span class=\"ansi-green-fg\">Int</span></span> = <span style=\"color: rgb(0, 187, 0)\"><span class=\"ansi-green-fg\">5</span></span>\n",
       "<span style=\"color: rgb(0, 187, 187)\"><span class=\"ansi-cyan-fg\">res11_1</span></span>: <span style=\"color: rgb(0, 187, 0)\"><span class=\"ansi-green-fg\">Int</span></span> = <span style=\"color: rgb(0, 187, 0)\"><span class=\"ansi-green-fg\">1</span></span></code></pre>\n",
       "</div>"
      ],
      "text/plain": [
       "\u001b[36mz\u001b[39m: \u001b[32mInt\u001b[39m = \u001b[32m5\u001b[39m\n",
       "\u001b[36mres11_1\u001b[39m: \u001b[32mInt\u001b[39m = \u001b[32m1\u001b[39m"
      ]
     },
     "metadata": {},
     "output_type": "display_data"
    }
   ],
   "source": [
    "// Class of a variable is preserved and affects how calculation is performed\n",
    "var z:Int = 5\n",
    "z/4 "
   ]
  },
  {
   "cell_type": "code",
   "execution_count": 12,
   "metadata": {
    "ExecuteTime": {
     "end_time": "2021-09-25T04:40:30.540149Z",
     "start_time": "2021-09-25T04:40:30.451Z"
    }
   },
   "outputs": [
    {
     "name": "stderr",
     "output_type": "stream",
     "text": [
      "cmd12.sc:1: type mismatch;\n",
      " found   : String(\"Hello!\")\n",
      " required: Int\n",
      "val res12 = z = \"Hello!\" // fails because of type inconsistence\n",
      "                ^Compilation Failed"
     ]
    },
    {
     "ename": "",
     "evalue": "",
     "output_type": "error",
     "traceback": [
      "Compilation Failed"
     ]
    }
   ],
   "source": [
    "z = \"Hello!\" // fails because of type inconsistence"
   ]
  },
  {
   "cell_type": "markdown",
   "metadata": {},
   "source": [
    "Explicit `type` specification may be substituted by specifying type of the literal to be assigned:  \n",
    "\n",
    "- Int - unadorned integer is ` Int` by default\n",
    "- Int: ` 0x ` prefix.\n",
    "- Long: ` l ` or `L` , suffix\n",
    "- Double: unadorned decimal is ` Double ` by default\n",
    "- Float: ` f `\n",
    "- Double: ` d `\n",
    "\n",
    "Suffixes are case insensitive!"
   ]
  },
  {
   "cell_type": "code",
   "execution_count": 17,
   "metadata": {
    "ExecuteTime": {
     "end_time": "2021-09-25T04:47:22.751338Z",
     "start_time": "2021-09-25T04:47:22.565Z"
    }
   },
   "outputs": [
    {
     "data": {
      "text/plain": [
       "\u001b[36ma\u001b[39m: \u001b[32mInt\u001b[39m = \u001b[32m5\u001b[39m\n",
       "\u001b[36maa\u001b[39m: \u001b[32mInt\u001b[39m = \u001b[32m5\u001b[39m\n",
       "\u001b[36mb\u001b[39m: \u001b[32mLong\u001b[39m = \u001b[32m5L\u001b[39m\n",
       "\u001b[36mbb\u001b[39m: \u001b[32mLong\u001b[39m = \u001b[32m5L\u001b[39m\n",
       "\u001b[36mc\u001b[39m: \u001b[32mFloat\u001b[39m = \u001b[32m5.0F\u001b[39m\n",
       "\u001b[36md\u001b[39m: \u001b[32mDouble\u001b[39m = \u001b[32m5.0\u001b[39m\n",
       "\u001b[36me\u001b[39m: \u001b[32mDouble\u001b[39m = \u001b[32m5.0\u001b[39m\n",
       "\u001b[36mf\u001b[39m: \u001b[32mDouble\u001b[39m = \u001b[32m5.0\u001b[39m"
      ]
     },
     "execution_count": 17,
     "metadata": {},
     "output_type": "execute_result"
    }
   ],
   "source": [
    "val a = 5\n",
    "val aa = 0x5\n",
    "val b = 5l\n",
    "val bb = 5L\n",
    "val c = 5f\n",
    "val d = 5.0\n",
    "val e = 5d\n",
    "val f = 5D"
   ]
  },
  {
   "cell_type": "markdown",
   "metadata": {},
   "source": [
    "## Type conversion: \"Upconversion\":\n",
    "\n",
    "no information is lost"
   ]
  },
  {
   "cell_type": "code",
   "execution_count": 18,
   "metadata": {
    "ExecuteTime": {
     "end_time": "2021-09-25T04:47:40.472418Z",
     "start_time": "2021-09-25T04:47:40.331Z"
    }
   },
   "outputs": [
    {
     "data": {
      "text/plain": [
       "\u001b[36mx\u001b[39m: \u001b[32mInt\u001b[39m = \u001b[32m5\u001b[39m\n",
       "\u001b[36my\u001b[39m: \u001b[32mLong\u001b[39m = \u001b[32m5L\u001b[39m\n",
       "\u001b[36mz\u001b[39m: \u001b[32mFloat\u001b[39m = \u001b[32m5.0F\u001b[39m"
      ]
     },
     "execution_count": 18,
     "metadata": {},
     "output_type": "execute_result"
    }
   ],
   "source": [
    "val x:Int = 5\n",
    "val y:Long = x\n",
    "val z:Float = y"
   ]
  },
  {
   "cell_type": "markdown",
   "metadata": {},
   "source": [
    "## \"Downconversion\"\n",
    "\n",
    "Automatic \"downconversion\" fails (\"info is lost\"):"
   ]
  },
  {
   "cell_type": "code",
   "execution_count": 10,
   "metadata": {},
   "outputs": [
    {
     "ename": "",
     "evalue": "",
     "output_type": "error",
     "traceback": [
      "\u001b[31mMain.scala:26: type mismatch;",
      " found   : Float",
      " required: Long",
      "}.apply",
      "  ^\u001b[0m"
     ]
    }
   ],
   "source": [
    "val a:Long = z"
   ]
  },
  {
   "cell_type": "code",
   "execution_count": 10,
   "metadata": {},
   "outputs": [
    {
     "ename": "",
     "evalue": "",
     "output_type": "error",
     "traceback": [
      "\u001b[31mMain.scala:26: type mismatch;",
      " found   : Float",
      " required: String",
      "}.apply",
      "  ^\u001b[0m"
     ]
    }
   ],
   "source": [
    "val a:String = z"
   ]
  },
  {
   "cell_type": "markdown",
   "metadata": {},
   "source": [
    "However \"downconversion\" may be **ENFORCED** with `toType` methods:"
   ]
  },
  {
   "cell_type": "code",
   "execution_count": 11,
   "metadata": {},
   "outputs": [
    {
     "data": {
      "text/plain": [
       "\u001b[36mres10_0\u001b[0m: \u001b[32mLong\u001b[0m = \u001b[32m5L\u001b[0m\n",
       "\u001b[36mres10_1\u001b[0m: \u001b[32mString\u001b[0m = \u001b[32m\"5.0\"\u001b[0m"
      ]
     },
     "metadata": {},
     "output_type": "display_data"
    }
   ],
   "source": [
    "z.toLong\n",
    "z.toString"
   ]
  },
  {
   "cell_type": "code",
   "execution_count": 5,
   "metadata": {},
   "outputs": [
    {
     "data": {
      "text/plain": [
       "\u001b[36mres5\u001b[39m: \u001b[32mInt\u001b[39m = \u001b[32m2\u001b[39m"
      ]
     },
     "execution_count": 5,
     "metadata": {},
     "output_type": "execute_result"
    }
   ],
   "source": [
    "2.5.toInt"
   ]
  },
  {
   "cell_type": "code",
   "execution_count": 7,
   "metadata": {},
   "outputs": [
    {
     "data": {
      "text/plain": [
       "\u001b[36mres7\u001b[39m: \u001b[32mLong\u001b[39m = \u001b[32m3L\u001b[39m"
      ]
     },
     "execution_count": 7,
     "metadata": {},
     "output_type": "execute_result"
    }
   ],
   "source": [
    "math.round(2.6)"
   ]
  },
  {
   "cell_type": "markdown",
   "metadata": {},
   "source": [
    "## String interpolation:\n",
    "\n",
    "1. ` s ` literal before string\n",
    "1. ` f ` literal, if particualar formatting is specified\n",
    "2. ` $ `  sign before value or variable to be inserted\n",
    "2. ` { } ` curly brackets for an expression (could be omitted for a single variable)"
   ]
  },
  {
   "cell_type": "code",
   "execution_count": 19,
   "metadata": {
    "ExecuteTime": {
     "end_time": "2021-09-25T04:50:38.148369Z",
     "start_time": "2021-09-25T04:50:37.889Z"
    }
   },
   "outputs": [
    {
     "name": "stdout",
     "output_type": "stream",
     "text": [
      "π approximate value is 3.1415929203539825.\n",
      "'3*π' approximate value is 9.424778761061948.\n",
      "π approximate value is 3.1415929203539825.\n",
      "\n",
      "π approximate value is 3.14.\n",
      "π approximate value is 3.14."
     ]
    },
    {
     "data": {
      "text/plain": [
       "\u001b[36mπ\u001b[39m: \u001b[32mDouble\u001b[39m = \u001b[32m3.1415929203539825\u001b[39m"
      ]
     },
     "execution_count": 19,
     "metadata": {},
     "output_type": "execute_result"
    }
   ],
   "source": [
    "val π = 355/113D\n",
    "\n",
    "println(s\"π approximate value is ${π}.\")\n",
    "println(s\"'3*π' approximate value is ${3*π}.\")\n",
    "println(s\"π approximate value is $π.\")\n",
    "println()\n",
    "println(f\"π approximate value is $π%.2f.\")\n",
    "printf(f\"π approximate value is $π%.2f.\")"
   ]
  },
  {
   "cell_type": "code",
   "execution_count": 12,
   "metadata": {},
   "outputs": [
    {
     "data": {
      "text/plain": [
       "\u001b[36mprice\u001b[39m: \u001b[32mDouble\u001b[39m = \u001b[32m9.99\u001b[39m\n",
       "\u001b[36mquantity\u001b[39m: \u001b[32mInt\u001b[39m = \u001b[32m5\u001b[39m\n",
       "\u001b[36mtotal\u001b[39m: \u001b[32mDouble\u001b[39m = \u001b[32m49.95\u001b[39m\n",
       "\u001b[36mres12_3\u001b[39m: \u001b[32mString\u001b[39m = \u001b[32m\"The total cost is $49.95.\"\u001b[39m"
      ]
     },
     "execution_count": 12,
     "metadata": {},
     "output_type": "execute_result"
    }
   ],
   "source": [
    "val price = 9.99\n",
    "val quantity = 5\n",
    "val total = price * quantity\n",
    "f\"The total cost is $$${total}%.2f.\""
   ]
  },
  {
   "cell_type": "code",
   "execution_count": 10,
   "metadata": {},
   "outputs": [
    {
     "data": {
      "text/plain": [
       "\u001b[36mprice\u001b[39m: \u001b[32mDouble\u001b[39m = \u001b[32m9.99\u001b[39m\n",
       "\u001b[36mquantity\u001b[39m: \u001b[32mInt\u001b[39m = \u001b[32m5\u001b[39m\n",
       "\u001b[36mtotal\u001b[39m: \u001b[32mDouble\u001b[39m = \u001b[32m49.95\u001b[39m\n",
       "\u001b[36mres10_3\u001b[39m: \u001b[32mString\u001b[39m = \u001b[32m\"The total cost is 49.95%.\"\u001b[39m"
      ]
     },
     "execution_count": 10,
     "metadata": {},
     "output_type": "execute_result"
    }
   ],
   "source": [
    "val price = 9.99\n",
    "val quantity = 5\n",
    "val total = price * quantity\n",
    "f\"The total cost is ${total}%.2f%%.\""
   ]
  },
  {
   "cell_type": "code",
   "execution_count": 11,
   "metadata": {},
   "outputs": [
    {
     "data": {
      "text/plain": [
       "\u001b[36mprice\u001b[39m: \u001b[32mDouble\u001b[39m = \u001b[32m9.99\u001b[39m\n",
       "\u001b[36mquantity\u001b[39m: \u001b[32mInt\u001b[39m = \u001b[32m5\u001b[39m\n",
       "\u001b[36mtotal\u001b[39m: \u001b[32mDouble\u001b[39m = \u001b[32m49.95\u001b[39m\n",
       "\u001b[36mres11_3\u001b[39m: \u001b[32mString\u001b[39m = \u001b[32m\"The total cost is %49.95.\"\u001b[39m"
      ]
     },
     "execution_count": 11,
     "metadata": {},
     "output_type": "execute_result"
    }
   ],
   "source": [
    "val price = 9.99\n",
    "val quantity = 5\n",
    "val total = price * quantity\n",
    "f\"The total cost is %%${total}%.2f.\""
   ]
  },
  {
   "cell_type": "code",
   "execution_count": 10,
   "metadata": {},
   "outputs": [
    {
     "data": {
      "text/plain": [
       "\u001b[36mprice\u001b[39m: \u001b[32mDouble\u001b[39m = \u001b[32m9.99\u001b[39m\n",
       "\u001b[36mquantity\u001b[39m: \u001b[32mInt\u001b[39m = \u001b[32m5\u001b[39m\n",
       "\u001b[36mtotal\u001b[39m: \u001b[32mDouble\u001b[39m = \u001b[32m49.95\u001b[39m\n",
       "\u001b[36mres10_3\u001b[39m: \u001b[32mString\u001b[39m = \u001b[32m\"The total cost is 49.95%.\"\u001b[39m"
      ]
     },
     "execution_count": 10,
     "metadata": {},
     "output_type": "execute_result"
    }
   ],
   "source": [
    "val price = 9.99\n",
    "val quantity = 5\n",
    "val total = price * quantity\n",
    "f\"The total cost is ${total}%.2f%%.\""
   ]
  },
  {
   "cell_type": "markdown",
   "metadata": {},
   "source": [
    "<pre>\n",
    "<b>Summary</b>\n",
    "\n",
    "    $$ => $\n",
    "    %% => %\n",
    "    \\\\ => \\\n",
    "    \\\" => \"\n",
    "</pre>"
   ]
  },
  {
   "cell_type": "markdown",
   "metadata": {},
   "source": [
    "## Tuples  \n",
    "\n",
    "Type inference:"
   ]
  },
  {
   "cell_type": "code",
   "execution_count": 20,
   "metadata": {
    "ExecuteTime": {
     "end_time": "2021-09-25T04:50:42.530024Z",
     "start_time": "2021-09-25T04:50:42.388Z"
    }
   },
   "outputs": [
    {
     "data": {
      "text/plain": [
       "\u001b[36mx\u001b[39m: (\u001b[32mInt\u001b[39m, \u001b[32mDouble\u001b[39m) = (\u001b[32m5\u001b[39m, \u001b[32m5.0\u001b[39m)"
      ]
     },
     "execution_count": 20,
     "metadata": {},
     "output_type": "execute_result"
    }
   ],
   "source": [
    "val x = (5, 5.0)"
   ]
  },
  {
   "cell_type": "markdown",
   "metadata": {},
   "source": [
    "Unnecessary typification:"
   ]
  },
  {
   "cell_type": "code",
   "execution_count": 145,
   "metadata": {},
   "outputs": [
    {
     "data": {
      "text/plain": [
       "\u001b[36my\u001b[0m: (\u001b[32mDouble\u001b[0m, \u001b[32mInt\u001b[0m) = \u001b[33m\u001b[0m(\u001b[32m5.0\u001b[0m, \u001b[32m5\u001b[0m)"
      ]
     },
     "metadata": {},
     "output_type": "display_data"
    }
   ],
   "source": [
    "val y:(Double, Int) = (5.0, 5)"
   ]
  },
  {
   "cell_type": "markdown",
   "metadata": {},
   "source": [
    "Array of tuples:"
   ]
  },
  {
   "cell_type": "code",
   "execution_count": 13,
   "metadata": {
    "ExecuteTime": {
     "end_time": "2022-02-27T16:41:30.037607Z",
     "start_time": "2022-02-27T16:41:29.812Z"
    }
   },
   "outputs": [
    {
     "data": {
      "text/plain": [
       "\u001b[36my\u001b[39m: \u001b[32mArray\u001b[39m[(\u001b[32mDouble\u001b[39m, \u001b[32mInt\u001b[39m)] = \u001b[33mArray\u001b[39m((\u001b[32m5.0\u001b[39m, \u001b[32m5\u001b[39m), (\u001b[32m3.3\u001b[39m, \u001b[32m1\u001b[39m))"
      ]
     },
     "execution_count": 13,
     "metadata": {},
     "output_type": "execute_result"
    }
   ],
   "source": [
    "val y:Array[(Double, Int)] = Array((5.0, 5),(3.3,1))"
   ]
  },
  {
   "cell_type": "code",
   "execution_count": 14,
   "metadata": {
    "ExecuteTime": {
     "end_time": "2022-02-27T16:41:33.995093Z",
     "start_time": "2022-02-27T16:41:33.852Z"
    }
   },
   "outputs": [
    {
     "data": {
      "text/plain": [
       "\u001b[36mres14\u001b[39m: \u001b[32mClass\u001b[39m[\u001b[32mT\u001b[39m] = class [Lscala.Tuple2;"
      ]
     },
     "execution_count": 14,
     "metadata": {},
     "output_type": "execute_result"
    }
   ],
   "source": [
    "y.getClass"
   ]
  },
  {
   "cell_type": "code",
   "execution_count": 15,
   "metadata": {},
   "outputs": [
    {
     "data": {
      "text/plain": [
       "defined \u001b[32mclass\u001b[39m \u001b[36mPerson\u001b[39m\n",
       "\u001b[36mp1\u001b[39m: \u001b[32mPerson\u001b[39m = \u001b[33mPerson\u001b[39m(age = \u001b[32m55\u001b[39m, name = \u001b[32m\"Sergey\"\u001b[39m)\n",
       "\u001b[36mp2\u001b[39m: \u001b[32mPerson\u001b[39m = \u001b[33mPerson\u001b[39m(age = \u001b[32m40\u001b[39m, name = \u001b[32m\"Ira\"\u001b[39m)\n",
       "\u001b[36mls\u001b[39m: \u001b[32mArray\u001b[39m[\u001b[32mPerson\u001b[39m] = \u001b[33mArray\u001b[39m(\n",
       "  \u001b[33mPerson\u001b[39m(age = \u001b[32m55\u001b[39m, name = \u001b[32m\"Sergey\"\u001b[39m),\n",
       "  \u001b[33mPerson\u001b[39m(age = \u001b[32m40\u001b[39m, name = \u001b[32m\"Ira\"\u001b[39m)\n",
       ")\n",
       "\u001b[36mres15_4\u001b[39m: \u001b[32mClass\u001b[39m[\u001b[32mT\u001b[39m] = class [Lammonite.$sess.cell15$Helper$Person;"
      ]
     },
     "execution_count": 15,
     "metadata": {},
     "output_type": "execute_result"
    }
   ],
   "source": [
    "case class Person(age: Int, name: String)\n",
    "val p1 = Person(55, \"Sergey\")\n",
    "val p2 = Person(40, \"Ira\")\n",
    "\n",
    "val ls = Array(p1, p2)\n",
    "\n",
    "ls.getClass"
   ]
  },
  {
   "cell_type": "markdown",
   "metadata": {},
   "source": [
    "<pre>\n",
    "<b>Summary</b>\n",
    "        In both examples above\n",
    "        \"[L...\" stands for array of \"referense\" objects\n",
    "        i.e. classes or tuples\n",
    "</pre>"
   ]
  },
  {
   "cell_type": "markdown",
   "metadata": {},
   "source": [
    "# Chapter_3"
   ]
  },
  {
   "cell_type": "markdown",
   "metadata": {},
   "source": [
    "## Expressions\n",
    "\n",
    "Expression is any code returning a value. Expression may, or may not, be enclosed in curly brackets:\n",
    "\n",
    "` val <identifier>[: <type>] = { expression } `   \n",
    "` var <identifier>[: <type>] = expression `  \n",
    "\n",
    "Expression blocks can span as many lines as you need."
   ]
  },
  {
   "cell_type": "code",
   "execution_count": 25,
   "metadata": {
    "ExecuteTime": {
     "end_time": "2021-09-25T05:20:04.764258Z",
     "start_time": "2021-09-25T05:20:04.620Z"
    }
   },
   "outputs": [
    {
     "name": "stdout",
     "output_type": "stream",
     "text": [
      "x is positive\n"
     ]
    },
    {
     "data": {
      "text/plain": [
       "\u001b[36mx\u001b[39m: \u001b[32mInt\u001b[39m = \u001b[32m4\u001b[39m"
      ]
     },
     "execution_count": 25,
     "metadata": {},
     "output_type": "execute_result"
    }
   ],
   "source": [
    "val x = 4\n",
    "\n",
    "if (x > 0)\n",
    "  println(\"x is positive\")\n",
    "else\n",
    "  println(\" x is not positive\")"
   ]
  },
  {
   "cell_type": "code",
   "execution_count": 29,
   "metadata": {
    "ExecuteTime": {
     "end_time": "2021-09-25T05:27:38.065518Z",
     "start_time": "2021-09-25T05:27:37.941Z"
    }
   },
   "outputs": [
    {
     "name": "stdout",
     "output_type": "stream",
     "text": [
      "x is negative\n"
     ]
    },
    {
     "data": {
      "text/plain": [
       "\u001b[36mx\u001b[39m: \u001b[32mInt\u001b[39m = \u001b[32m-100\u001b[39m"
      ]
     },
     "execution_count": 29,
     "metadata": {},
     "output_type": "execute_result"
    }
   ],
   "source": [
    "// check out style guide https://docs.scala-lang.org/style/control-structures.html\n",
    "// ALWAYS: print statements in curly braces\n",
    "// ALWAYS: yield statement without any braces with preceding round parens\n",
    "\n",
    "\n",
    "val x = -100\n",
    "\n",
    "if (x > 0) \n",
    "  { println(\"x is positive\") }\n",
    "else\n",
    "  { println(\"x is negative\") }"
   ]
  },
  {
   "cell_type": "code",
   "execution_count": 26,
   "metadata": {
    "ExecuteTime": {
     "end_time": "2021-09-25T05:23:37.727981Z",
     "start_time": "2021-09-25T05:23:37.579Z"
    }
   },
   "outputs": [
    {
     "data": {
      "text/plain": [
       "\u001b[36mx\u001b[39m: \u001b[32mInt\u001b[39m = \u001b[32m3\u001b[39m\n",
       "\u001b[36my\u001b[39m: \u001b[32mInt\u001b[39m = \u001b[32m4\u001b[39m"
      ]
     },
     "execution_count": 26,
     "metadata": {},
     "output_type": "execute_result"
    }
   ],
   "source": [
    "val x = 3\n",
    "val y = 4"
   ]
  },
  {
   "cell_type": "markdown",
   "metadata": {},
   "source": [
    "`If` is an expression itself, returning a value:"
   ]
  },
  {
   "cell_type": "code",
   "execution_count": 27,
   "metadata": {
    "ExecuteTime": {
     "end_time": "2021-09-25T05:23:41.109462Z",
     "start_time": "2021-09-25T05:23:40.978Z"
    }
   },
   "outputs": [
    {
     "data": {
      "text/plain": [
       "\u001b[36mz\u001b[39m: \u001b[32mInt\u001b[39m = \u001b[32m4\u001b[39m"
      ]
     },
     "execution_count": 27,
     "metadata": {},
     "output_type": "execute_result"
    }
   ],
   "source": [
    "val z = if (x > y) x else y"
   ]
  },
  {
   "cell_type": "code",
   "execution_count": 28,
   "metadata": {
    "ExecuteTime": {
     "end_time": "2021-09-25T05:23:56.739910Z",
     "start_time": "2021-09-25T05:23:56.613Z"
    }
   },
   "outputs": [
    {
     "name": "stdout",
     "output_type": "stream",
     "text": [
      "x is less than y\n"
     ]
    },
    {
     "data": {
      "text/plain": [
       "\u001b[36mz\u001b[39m: \u001b[32mAnyVal\u001b[39m = ()"
      ]
     },
     "execution_count": 28,
     "metadata": {},
     "output_type": "execute_result"
    }
   ],
   "source": [
    "val z = if (x > y) x else { println(\"x is less than y\") }"
   ]
  },
  {
   "cell_type": "markdown",
   "metadata": {},
   "source": [
    "## \"Match\" expression\n",
    "\n",
    "\n",
    "> ` <expression> `  match {  \n",
    "    case ` <pattern> `  => `  <expression2> `  \n",
    "    [ case... ]  \n",
    "    case ` variable ` => ` variable `  \n",
    "}\n",
    "\n",
    "### No match is found:\n",
    "\n",
    "- If there is no match, returned ` variable ` is assigned  ` <expression> `  value\n",
    "\n",
    "- Another \"catch all\" possibility is with wildcard:\n",
    "\n",
    "> ` <expression> `  match {  \n",
    "    case ` <pattern> `  => `  <expression2> `  \n",
    "    [ case... ]  \n",
    "    case ` _ `  => ` variable `  \n",
    "}\n",
    "\n",
    "**Once a match is found, only the code for the matched case is executed. Code execution does not\n",
    "fall through the remaining cases.**   \n",
    "\n",
    "**Case statement always requires curly braces**"
   ]
  },
  {
   "cell_type": "code",
   "execution_count": 1,
   "metadata": {
    "ExecuteTime": {
     "end_time": "2022-02-28T03:19:09.147722Z",
     "start_time": "2022-02-28T03:19:05.696Z"
    }
   },
   "outputs": [
    {
     "data": {
      "text/plain": [
       "defined \u001b[32mfunction\u001b[39m \u001b[36mdayOfWeek\u001b[39m\n",
       "\u001b[36mres0_1\u001b[39m: \u001b[32mString\u001b[39m = \u001b[32m\"Wednesday\"\u001b[39m"
      ]
     },
     "execution_count": 1,
     "metadata": {},
     "output_type": "execute_result"
    }
   ],
   "source": [
    "def dayOfWeek(n: Int): String = n match {\n",
    "    case 1 => \"Monday\"\n",
    "    case 2 => \"Tuesday\"\n",
    "    case 3 => \"Wednesday\"\n",
    "    case 4 => \"Thursday\"\n",
    "    case 5 => \"Friday\"\n",
    "    case 6 => \"Saturday\"\n",
    "    case 7 => \"Sunday\"\n",
    "    case _ => \"Unknown\"\n",
    "}\n",
    "\n",
    "dayOfWeek(3)"
   ]
  },
  {
   "cell_type": "code",
   "execution_count": 9,
   "metadata": {
    "ExecuteTime": {
     "end_time": "2022-02-28T03:24:55.541854Z",
     "start_time": "2022-02-28T03:24:55.399Z"
    }
   },
   "outputs": [
    {
     "data": {
      "text/plain": [
       "defined \u001b[32mfunction\u001b[39m \u001b[36mdayOfWeek\u001b[39m\n",
       "\u001b[36mres8_1\u001b[39m: \u001b[32mAny\u001b[39m = \u001b[32m10\u001b[39m"
      ]
     },
     "execution_count": 9,
     "metadata": {},
     "output_type": "execute_result"
    }
   ],
   "source": [
    "def dayOfWeek(n: Int) = n match {\n",
    "    case 1 => \"Monday\"\n",
    "    case 2 => \"Tuesday\"\n",
    "    case 3 => \"Wednesday\"\n",
    "    case 4 => \"Thursday\"\n",
    "    case 5 => \"Friday\"\n",
    "    case 6 => \"Saturday\"\n",
    "    case 7 => \"Sunday\"\n",
    "    case x => x\n",
    "}\n",
    "\n",
    "dayOfWeek(10)"
   ]
  },
  {
   "cell_type": "code",
   "execution_count": 13,
   "metadata": {
    "ExecuteTime": {
     "end_time": "2022-02-27T16:46:32.407687Z",
     "start_time": "2022-02-27T16:46:32.255Z"
    }
   },
   "outputs": [
    {
     "data": {
      "text/plain": [
       "defined \u001b[32mfunction\u001b[39m \u001b[36mhigher\u001b[39m\n",
       "\u001b[36mres12_1\u001b[39m: \u001b[32mString\u001b[39m = \u001b[32m\"No\"\u001b[39m"
      ]
     },
     "execution_count": 13,
     "metadata": {},
     "output_type": "execute_result"
    }
   ],
   "source": [
    "def higher(x: Int, y: Int): String = (x > y) match {\n",
    "    case true => \"Yes\"\n",
    "    case false => \"No\"\n",
    "} \n",
    "\n",
    "higher(3, 5)"
   ]
  },
  {
   "cell_type": "markdown",
   "metadata": {},
   "source": [
    "## `Case` without `match` \n",
    "(a.k.a. pattern matching with anon or partial functions)\n",
    "\n",
    "http://blog.bruchez.name/2011/10/scala-partial-functions-without-phd.html    \n",
    "\n",
    "http://danielwestheide.com/blog/2012/12/12/the-neophytes-guide-to-scala-part-4-pattern-matching-anonymous-functions.html\n",
    "\n",
    "### Unpacking tuples"
   ]
  },
  {
   "cell_type": "code",
   "execution_count": 14,
   "metadata": {
    "ExecuteTime": {
     "end_time": "2022-02-27T16:48:27.313142Z",
     "start_time": "2022-02-27T16:48:27.147Z"
    }
   },
   "outputs": [
    {
     "data": {
      "text/plain": [
       "\u001b[36mwordFrequencies\u001b[39m: \u001b[32mList\u001b[39m[(\u001b[32mString\u001b[39m, \u001b[32mInt\u001b[39m)] = \u001b[33mList\u001b[39m(\n",
       "  (\u001b[32m\"habitual\"\u001b[39m, \u001b[32m6\u001b[39m),\n",
       "  (\u001b[32m\"and\"\u001b[39m, \u001b[32m56\u001b[39m),\n",
       "  (\u001b[32m\"consuetudinary\"\u001b[39m, \u001b[32m2\u001b[39m)\n",
       ")"
      ]
     },
     "execution_count": 14,
     "metadata": {},
     "output_type": "execute_result"
    }
   ],
   "source": [
    "val wordFrequencies = List((\"habitual\", 6),(\"and\", 56),(\"consuetudinary\", 2))"
   ]
  },
  {
   "cell_type": "code",
   "execution_count": 15,
   "metadata": {
    "ExecuteTime": {
     "end_time": "2022-02-27T16:49:15.738948Z",
     "start_time": "2022-02-27T16:49:15.594Z"
    }
   },
   "outputs": [
    {
     "data": {
      "text/plain": [
       "\u001b[36mres14\u001b[39m: \u001b[32mList\u001b[39m[\u001b[32mInt\u001b[39m] = \u001b[33mList\u001b[39m(\u001b[32m56\u001b[39m)"
      ]
     },
     "execution_count": 15,
     "metadata": {},
     "output_type": "execute_result"
    }
   ],
   "source": [
    "wordFrequencies.filter(_._2 >= 30).map(x => x._2)"
   ]
  },
  {
   "cell_type": "code",
   "execution_count": 44,
   "metadata": {
    "ExecuteTime": {
     "end_time": "2021-06-23T20:44:26.318084Z",
     "start_time": "2021-06-23T20:44:25.791Z"
    }
   },
   "outputs": [
    {
     "data": {
      "text/plain": [
       "\u001b[36mres43\u001b[39m: \u001b[32mList\u001b[39m[\u001b[32mInt\u001b[39m] = \u001b[33mList\u001b[39m(\u001b[32m56\u001b[39m)"
      ]
     },
     "execution_count": 44,
     "metadata": {},
     "output_type": "execute_result"
    }
   ],
   "source": [
    "wordFrequencies.collect{ case (k, v) if (v > 50) => v } // case always goes in curly brackets"
   ]
  },
  {
   "cell_type": "code",
   "execution_count": null,
   "metadata": {},
   "outputs": [],
   "source": [
    "case class Person(name: String, age: Int)\n",
    "\n",
    "val p1 = Person(\"Sergey\", 52)\n",
    "val p2 = Person(\"Dasha\", 10)\n",
    "\n",
    "p1 match { case Person(n, a) => println(s\"name is $n, age is $a\") }\n",
    "\n",
    "List(p1, p2).collect { case Person(n, a) if a > 50 => (n, a) }"
   ]
  },
  {
   "cell_type": "markdown",
   "metadata": {},
   "source": [
    "### Matching `Type`"
   ]
  },
  {
   "cell_type": "code",
   "execution_count": 34,
   "metadata": {
    "ExecuteTime": {
     "end_time": "2021-09-25T05:59:49.391199Z",
     "start_time": "2021-09-25T05:59:49.142Z"
    }
   },
   "outputs": [
    {
     "data": {
      "text/plain": [
       "\u001b[36mx\u001b[39m: \u001b[32mList\u001b[39m[\u001b[32mAny\u001b[39m] = \u001b[33mList\u001b[39m(\u001b[32m\"dog\"\u001b[39m, \u001b[32m3\u001b[39m, \u001b[32m5\u001b[39m, \u001b[32m6\u001b[39m)\n",
       "\u001b[36mres33_1\u001b[39m: \u001b[32mList\u001b[39m[\u001b[32mInt\u001b[39m] = \u001b[33mList\u001b[39m(\u001b[32m4\u001b[39m, \u001b[32m6\u001b[39m, \u001b[32m7\u001b[39m)"
      ]
     },
     "execution_count": 34,
     "metadata": {},
     "output_type": "execute_result"
    }
   ],
   "source": [
    "val x = List(\"dog\", 3, 5, 6)\n",
    "\n",
    "x.collect{ case i:Int => i+1 }"
   ]
  },
  {
   "cell_type": "code",
   "execution_count": 35,
   "metadata": {
    "ExecuteTime": {
     "end_time": "2021-09-25T06:00:10.805782Z",
     "start_time": "2021-09-25T06:00:10.673Z"
    }
   },
   "outputs": [
    {
     "data": {
      "text/plain": [
       "\u001b[36mres34\u001b[39m: \u001b[32mList\u001b[39m[\u001b[32mAny\u001b[39m] = \u001b[33mList\u001b[39m(\u001b[32m3\u001b[39m, \u001b[32m5\u001b[39m, \u001b[32m6\u001b[39m)"
      ]
     },
     "execution_count": 35,
     "metadata": {},
     "output_type": "execute_result"
    }
   ],
   "source": [
    "// Note the type of return\n",
    "x.filter(_.isInstanceOf[Int])"
   ]
  },
  {
   "cell_type": "code",
   "execution_count": 36,
   "metadata": {
    "ExecuteTime": {
     "end_time": "2021-09-25T06:00:23.360760Z",
     "start_time": "2021-09-25T06:00:23.163Z"
    }
   },
   "outputs": [
    {
     "data": {
      "text/plain": [
       "\u001b[36mres35\u001b[39m: \u001b[32mList\u001b[39m[\u001b[32mInt\u001b[39m] = \u001b[33mList\u001b[39m(\u001b[32m3\u001b[39m, \u001b[32m5\u001b[39m)"
      ]
     },
     "execution_count": 36,
     "metadata": {},
     "output_type": "execute_result"
    }
   ],
   "source": [
    "x.collect{ case i:Int if i%2 != 0 => i}"
   ]
  },
  {
   "cell_type": "code",
   "execution_count": 37,
   "metadata": {
    "ExecuteTime": {
     "end_time": "2021-09-25T06:00:53.672658Z",
     "start_time": "2021-09-25T06:00:53.493Z"
    }
   },
   "outputs": [
    {
     "data": {
      "text/plain": [
       "defined \u001b[32mfunction\u001b[39m \u001b[36mfoo\u001b[39m\n",
       "\u001b[36mres36_1\u001b[39m: \u001b[32mAny\u001b[39m = \u001b[32m3\u001b[39m"
      ]
     },
     "execution_count": 37,
     "metadata": {},
     "output_type": "execute_result"
    }
   ],
   "source": [
    "def foo(x:Any): Any = x match {\n",
    "    case x:String => x.length\n",
    "    case x:List[Any] => x.length\n",
    "    case x:Int => x\n",
    "    case _ => \"not known\"\n",
    "}\n",
    "\n",
    "foo(List(1,2,3))"
   ]
  },
  {
   "cell_type": "code",
   "execution_count": 38,
   "metadata": {
    "ExecuteTime": {
     "end_time": "2021-09-25T06:01:11.782965Z",
     "start_time": "2021-09-25T06:01:11.562Z"
    }
   },
   "outputs": [
    {
     "data": {
      "text/plain": [
       "\u001b[36mxmap\u001b[39m: \u001b[32mList\u001b[39m[(\u001b[32mString\u001b[39m, \u001b[32mInt\u001b[39m)] = \u001b[33mList\u001b[39m(\n",
       "  (\u001b[32m\"habitual\"\u001b[39m, \u001b[32m6\u001b[39m),\n",
       "  (\u001b[32m\"and\"\u001b[39m, \u001b[32m56\u001b[39m),\n",
       "  (\u001b[32m\"consuetudinary\"\u001b[39m, \u001b[32m2\u001b[39m)\n",
       ")\n",
       "\u001b[36mres37_1\u001b[39m: \u001b[32mList\u001b[39m[\u001b[32mString\u001b[39m] = \u001b[33mList\u001b[39m(\u001b[32m\"and\"\u001b[39m)"
      ]
     },
     "execution_count": 38,
     "metadata": {},
     "output_type": "execute_result"
    }
   ],
   "source": [
    "val xmap = List((\"habitual\", 6),(\"and\", 56),(\"consuetudinary\", 2))\n",
    "xmap.collect{ case (k,v) if v>30 => k }"
   ]
  },
  {
   "cell_type": "code",
   "execution_count": 39,
   "metadata": {
    "ExecuteTime": {
     "end_time": "2021-06-23T20:37:09.520206Z",
     "start_time": "2021-06-23T20:37:08.965Z"
    }
   },
   "outputs": [
    {
     "data": {
      "text/plain": [
       "\u001b[36mres38\u001b[39m: \u001b[32mList\u001b[39m[\u001b[32mString\u001b[39m] = \u001b[33mList\u001b[39m(\u001b[32m\"and\"\u001b[39m)"
      ]
     },
     "execution_count": 39,
     "metadata": {},
     "output_type": "execute_result"
    }
   ],
   "source": [
    "xmap.filter(_._2 > 30).map(_._1)"
   ]
  },
  {
   "cell_type": "markdown",
   "metadata": {},
   "source": [
    "## Use of curly braces:  \n",
    "\n",
    "http://stackoverflow.com/questions/4386127/what-is-the-formal-difference-in-scala-between-braces-and-parentheses-and-when\n",
    "\n",
    "**\"MUST\" uses** of curly braces\"\n",
    "\n",
    "1. curly braces form a block of code, which evaluates to the last line of code (almost all languages do this)  \n",
    "2. a function if desired can be generated with the block of code (follows rule 1)  \n",
    "3. curly braces can be omitted for one-line code **EXCEPT** for a case clause (Scala choice)  \n",
    "\n",
    "**\"Can be omitted\"**:  \n",
    "\n",
    "1. parentheses can be omitted in function call with code block as a parameter (Scala choice)"
   ]
  },
  {
   "cell_type": "code",
   "execution_count": 39,
   "metadata": {
    "ExecuteTime": {
     "end_time": "2021-09-25T06:09:44.613016Z",
     "start_time": "2021-09-25T06:09:44.434Z"
    }
   },
   "outputs": [
    {
     "data": {
      "text/plain": [
       "\u001b[36mtupleList\u001b[39m: \u001b[32mList\u001b[39m[(\u001b[32mString\u001b[39m, \u001b[32mString\u001b[39m)] = \u001b[33mList\u001b[39m(\n",
       "  (\u001b[32m\"bar\"\u001b[39m, \u001b[32m\"foo\"\u001b[39m),\n",
       "  (\u001b[32m\"foo\"\u001b[39m, \u001b[32m\"foo\"\u001b[39m),\n",
       "  (\u001b[32m\"foo\"\u001b[39m, \u001b[32m\"bar\"\u001b[39m)\n",
       ")"
      ]
     },
     "execution_count": 39,
     "metadata": {},
     "output_type": "execute_result"
    }
   ],
   "source": [
    "val tupleList: List[(String, String)] = List((\"bar\",\"foo\"),(\"foo\",\"foo\"),(\"foo\",\"bar\"))"
   ]
  },
  {
   "cell_type": "markdown",
   "metadata": {},
   "source": [
    "Either  \n",
    "- braces can't be omitted\n",
    "- parenths can be omitted  "
   ]
  },
  {
   "cell_type": "code",
   "execution_count": 46,
   "metadata": {
    "ExecuteTime": {
     "end_time": "2021-09-25T06:17:52.593733Z",
     "start_time": "2021-09-25T06:17:52.482Z"
    }
   },
   "outputs": [
    {
     "data": {
      "text/plain": [
       "\u001b[36mres45\u001b[39m: \u001b[32mList\u001b[39m[(\u001b[32mString\u001b[39m, \u001b[32mString\u001b[39m)] = \u001b[33mList\u001b[39m((\u001b[32m\"bar\"\u001b[39m, \u001b[32m\"foo\"\u001b[39m))"
      ]
     },
     "execution_count": 46,
     "metadata": {},
     "output_type": "execute_result"
    }
   ],
   "source": [
    "// block of code as a partial function and parentheses omission,\n",
    "// i.e. tupleList.takeWhile({ case (s1, s2) => s1 == s2 })\n",
    "tupleList.takeWhile({ case (s1, s2) => s1 != s2 })"
   ]
  },
  {
   "cell_type": "code",
   "execution_count": 48,
   "metadata": {
    "ExecuteTime": {
     "end_time": "2021-09-25T06:24:14.816974Z",
     "start_time": "2021-09-25T06:24:14.683Z"
    }
   },
   "outputs": [
    {
     "data": {
      "text/plain": [
       "\u001b[36mres47\u001b[39m: \u001b[32mList\u001b[39m[(\u001b[32mString\u001b[39m, \u001b[32mString\u001b[39m)] = \u001b[33mList\u001b[39m((\u001b[32m\"bar\"\u001b[39m, \u001b[32m\"foo\"\u001b[39m))"
      ]
     },
     "execution_count": 48,
     "metadata": {},
     "output_type": "execute_result"
    }
   ],
   "source": [
    "// block of code as a partial function and parentheses omission,\n",
    "// i.e. tupleList.takeWhile({ case (s1, s2) => s1 == s2 })\n",
    "tupleList.takeWhile { case (s1, s2) => s1 != s2 }"
   ]
  },
  {
   "cell_type": "code",
   "execution_count": 45,
   "metadata": {
    "ExecuteTime": {
     "end_time": "2021-09-25T06:17:19.510068Z",
     "start_time": "2021-09-25T06:17:19.362Z"
    }
   },
   "outputs": [
    {
     "data": {
      "text/plain": [
       "\u001b[36mres44\u001b[39m: (\u001b[32mList\u001b[39m[(\u001b[32mString\u001b[39m, \u001b[32mString\u001b[39m)], \u001b[32mList\u001b[39m[(\u001b[32mString\u001b[39m, \u001b[32mString\u001b[39m)]) = (\n",
       "  \u001b[33mList\u001b[39m((\u001b[32m\"bar\"\u001b[39m, \u001b[32m\"foo\"\u001b[39m)),\n",
       "  \u001b[33mList\u001b[39m((\u001b[32m\"foo\"\u001b[39m, \u001b[32m\"foo\"\u001b[39m), (\u001b[32m\"foo\"\u001b[39m, \u001b[32m\"bar\"\u001b[39m))\n",
       ")"
      ]
     },
     "execution_count": 45,
     "metadata": {},
     "output_type": "execute_result"
    }
   ],
   "source": [
    "tupleList.span({ case (s1, s2) => s1 != s2 })"
   ]
  },
  {
   "cell_type": "code",
   "execution_count": 49,
   "metadata": {
    "ExecuteTime": {
     "end_time": "2021-09-25T06:24:29.037168Z",
     "start_time": "2021-09-25T06:24:28.913Z"
    }
   },
   "outputs": [
    {
     "data": {
      "text/plain": [
       "\u001b[36mres48\u001b[39m: (\u001b[32mList\u001b[39m[(\u001b[32mString\u001b[39m, \u001b[32mString\u001b[39m)], \u001b[32mList\u001b[39m[(\u001b[32mString\u001b[39m, \u001b[32mString\u001b[39m)]) = (\n",
       "  \u001b[33mList\u001b[39m((\u001b[32m\"bar\"\u001b[39m, \u001b[32m\"foo\"\u001b[39m)),\n",
       "  \u001b[33mList\u001b[39m((\u001b[32m\"foo\"\u001b[39m, \u001b[32m\"foo\"\u001b[39m), (\u001b[32m\"foo\"\u001b[39m, \u001b[32m\"bar\"\u001b[39m))\n",
       ")"
      ]
     },
     "execution_count": 49,
     "metadata": {},
     "output_type": "execute_result"
    }
   ],
   "source": [
    "tupleList.span { case (s1, s2) => s1 != s2 }"
   ]
  },
  {
   "cell_type": "code",
   "execution_count": 47,
   "metadata": {
    "ExecuteTime": {
     "end_time": "2021-09-25T06:18:46.032351Z",
     "start_time": "2021-09-25T06:18:46.014Z"
    }
   },
   "outputs": [
    {
     "name": "stderr",
     "output_type": "stream",
     "text": [
      "(console):1:17 expected \")\"\n",
      "tupleList.span( case (s1, s2) => s1 != s2 )\n",
      "                ^"
     ]
    },
    {
     "ename": "",
     "evalue": "",
     "output_type": "error",
     "traceback": [
      "(console):1:17 expected \")\"\ntupleList.span( case (s1, s2) => s1 != s2 )\n                ^"
     ]
    }
   ],
   "source": [
    "tupleList.span( case (s1, s2) => s1 != s2 )"
   ]
  },
  {
   "cell_type": "code",
   "execution_count": 50,
   "metadata": {
    "ExecuteTime": {
     "end_time": "2021-09-25T06:34:01.480883Z",
     "start_time": "2021-09-25T06:34:01.245Z"
    }
   },
   "outputs": [
    {
     "data": {
      "text/plain": [
       "defined \u001b[32mclass\u001b[39m \u001b[36mTakeUntilListWrapper\u001b[39m\n",
       "\u001b[36mres49_1\u001b[39m: \u001b[32mList\u001b[39m[(\u001b[32mString\u001b[39m, \u001b[32mString\u001b[39m)] = \u001b[33mList\u001b[39m((\u001b[32m\"bar\"\u001b[39m, \u001b[32m\"foo\"\u001b[39m))"
      ]
     },
     "execution_count": 50,
     "metadata": {},
     "output_type": "execute_result"
    }
   ],
   "source": [
    "implicit class TakeUntilListWrapper[T](list: List[T]) {\n",
    "    def takeUntil(predicate: T => Boolean):List[T] = {\n",
    "        list.span(predicate) match {\n",
    "        case (head, tail) => head ::: tail.take(1)\n",
    "        }\n",
    "    }\n",
    "}\n",
    "\n",
    "tupleList.takeUntil( {case (s1,s2) => s1==s2})"
   ]
  },
  {
   "cell_type": "code",
   "execution_count": 51,
   "metadata": {
    "ExecuteTime": {
     "end_time": "2021-09-25T06:36:46.932543Z",
     "start_time": "2021-09-25T06:36:46.777Z"
    }
   },
   "outputs": [
    {
     "data": {
      "text/plain": [
       "defined \u001b[32mfunction\u001b[39m \u001b[36mtakeUntil\u001b[39m\n",
       "\u001b[36mres50_1\u001b[39m: \u001b[32mList\u001b[39m[(\u001b[32mString\u001b[39m, \u001b[32mString\u001b[39m)] = \u001b[33mList\u001b[39m((\u001b[32m\"bar\"\u001b[39m, \u001b[32m\"foo\"\u001b[39m))"
      ]
     },
     "execution_count": 51,
     "metadata": {},
     "output_type": "execute_result"
    }
   ],
   "source": [
    "def takeUntil[A](list: List[A])(p: A => Boolean): List[A] = list.takeWhile(!p(_))\n",
    "\n",
    "takeUntil(tupleList)({case (s1,s2) => s1==s2})"
   ]
  },
  {
   "cell_type": "code",
   "execution_count": 52,
   "metadata": {
    "ExecuteTime": {
     "end_time": "2021-09-25T06:36:57.059330Z",
     "start_time": "2021-09-25T06:36:56.928Z"
    }
   },
   "outputs": [
    {
     "data": {
      "text/plain": [
       "\u001b[36mres51\u001b[39m: \u001b[32mList\u001b[39m[(\u001b[32mString\u001b[39m, \u001b[32mString\u001b[39m)] = \u001b[33mList\u001b[39m((\u001b[32m\"bar\"\u001b[39m, \u001b[32m\"foo\"\u001b[39m))"
      ]
     },
     "execution_count": 52,
     "metadata": {},
     "output_type": "execute_result"
    }
   ],
   "source": [
    "tupleList.takeWhile {case (s1,s2) => s1!=s2}"
   ]
  },
  {
   "cell_type": "code",
   "execution_count": 53,
   "metadata": {
    "ExecuteTime": {
     "end_time": "2021-09-25T06:37:49.686616Z",
     "start_time": "2021-09-25T06:37:49.519Z"
    }
   },
   "outputs": [
    {
     "data": {
      "text/plain": [
       "\u001b[36ml\u001b[39m: \u001b[32mList\u001b[39m[\u001b[32mInt\u001b[39m] = \u001b[33mList\u001b[39m(\u001b[32m-2\u001b[39m, \u001b[32m-1\u001b[39m, \u001b[32m1\u001b[39m, \u001b[32m2\u001b[39m, \u001b[32m3\u001b[39m)\n",
       "\u001b[36mres52_1\u001b[39m: \u001b[32mMap\u001b[39m[\u001b[32mBoolean\u001b[39m, \u001b[32mInt\u001b[39m] = \u001b[33mMap\u001b[39m(false -> \u001b[32m2\u001b[39m, true -> \u001b[32m3\u001b[39m)\n",
       "\u001b[36mres52_2\u001b[39m: \u001b[32mMap\u001b[39m[\u001b[32mBoolean\u001b[39m, \u001b[32mInt\u001b[39m] = \u001b[33mMap\u001b[39m(false -> \u001b[32m2\u001b[39m, true -> \u001b[32m3\u001b[39m)"
      ]
     },
     "execution_count": 53,
     "metadata": {},
     "output_type": "execute_result"
    }
   ],
   "source": [
    "val l = List(-2,-1,1,2,3)\n",
    "\n",
    "l.groupBy(_ > 0).map( x => x._1 -> x._2.size )\n",
    "\n",
    "// or\n",
    "\n",
    "l.groupBy(_ >0).map( x => (x._1, x._2.size))"
   ]
  },
  {
   "cell_type": "code",
   "execution_count": 53,
   "metadata": {
    "ExecuteTime": {
     "end_time": "2021-09-25T06:38:02.131437Z",
     "start_time": "2021-09-25T06:38:02.109Z"
    }
   },
   "outputs": [
    {
     "name": "stderr",
     "output_type": "stream",
     "text": [
      "(console):2:37 expected \")\"\n",
      "val filtered = tupleList.takeWhile( case (s1, s2) => s1 == s2 )\n",
      "                                    ^"
     ]
    },
    {
     "ename": "",
     "evalue": "",
     "output_type": "error",
     "traceback": [
      "(console):2:37 expected \")\"\nval filtered = tupleList.takeWhile( case (s1, s2) => s1 == s2 )\n                                    ^"
     ]
    }
   ],
   "source": [
    "// doesn't compile, violates \"case clause\" requirement\n",
    "val filtered = tupleList.takeWhile( case (s1, s2) => s1 == s2 )"
   ]
  },
  {
   "cell_type": "code",
   "execution_count": 54,
   "metadata": {
    "ExecuteTime": {
     "end_time": "2021-09-25T06:38:29.788351Z",
     "start_time": "2021-09-25T06:38:29.658Z"
    }
   },
   "outputs": [
    {
     "data": {
      "text/plain": [
       "\u001b[36mfiltered\u001b[39m: \u001b[32mList\u001b[39m[(\u001b[32mString\u001b[39m, \u001b[32mString\u001b[39m)] = \u001b[33mList\u001b[39m((\u001b[32m\"bar\"\u001b[39m, \u001b[32m\"foo\"\u001b[39m))"
      ]
     },
     "execution_count": 54,
     "metadata": {},
     "output_type": "execute_result"
    }
   ],
   "source": [
    "// block of code as a partial function and parentheses omission,\n",
    "// i.e. tupleList.takeWhile({ case (s1, s2) => s1 != s2 })\n",
    "val filtered = tupleList.takeWhile { case (s1, s2) => s1 != s2 }"
   ]
  },
  {
   "cell_type": "code",
   "execution_count": 57,
   "metadata": {},
   "outputs": [
    {
     "data": {
      "text/plain": [
       "\u001b[36mres56\u001b[0m: \u001b[32mInt\u001b[0m = \u001b[32m6\u001b[0m"
      ]
     },
     "metadata": {},
     "output_type": "display_data"
    }
   ],
   "source": [
    "// curly braces omission, i.e. List(1, 2, 3).reduceLeft({_+_})\n",
    "List(1, 2, 3).reduceLeft(_+_)"
   ]
  },
  {
   "cell_type": "code",
   "execution_count": 58,
   "metadata": {},
   "outputs": [
    {
     "data": {
      "text/plain": [
       "\u001b[36mres57\u001b[0m: \u001b[32mInt\u001b[0m = \u001b[32m6\u001b[0m"
      ]
     },
     "metadata": {},
     "output_type": "display_data"
    }
   ],
   "source": [
    "// parentheses omission, i.e. List(1, 2, 3).reduceLeft({_+_})\n",
    "List(1, 2, 3).reduceRight {_+_}"
   ]
  },
  {
   "cell_type": "code",
   "execution_count": 19,
   "metadata": {},
   "outputs": [
    {
     "data": {
      "text/plain": [
       "\u001b[36mres18\u001b[0m: \u001b[32mString\u001b[0m => \u001b[32mString\u001b[0m = <function1>"
      ]
     },
     "metadata": {},
     "output_type": "display_data"
    }
   ],
   "source": [
    "// not both though it compiles, because meaning totally changes due to precedence\n",
    "List(1, 2, 3).reduceLeft _+_ // res1: String => String = <function1>"
   ]
  },
  {
   "cell_type": "code",
   "execution_count": 20,
   "metadata": {},
   "outputs": [
    {
     "data": {
      "text/plain": [
       "\u001b[36mres19\u001b[0m: \u001b[32mInt\u001b[0m = \u001b[32m6\u001b[0m"
      ]
     },
     "metadata": {},
     "output_type": "display_data"
    }
   ],
   "source": [
    "// This is possible\n",
    "List(1, 2, 3) reduceLeft {_+_}"
   ]
  },
  {
   "cell_type": "code",
   "execution_count": 57,
   "metadata": {
    "ExecuteTime": {
     "end_time": "2021-09-25T06:43:07.713729Z",
     "start_time": "2021-09-25T06:43:07.597Z"
    }
   },
   "outputs": [
    {
     "data": {
      "text/plain": [
       "defined \u001b[32mfunction\u001b[39m \u001b[36mifPositive\u001b[39m\n",
       "\u001b[36mres56_1\u001b[39m: \u001b[32mBoolean\u001b[39m = true"
      ]
     },
     "execution_count": 57,
     "metadata": {},
     "output_type": "execute_result"
    }
   ],
   "source": [
    "def ifPositive(x: Int): Boolean = {\n",
    "    val out = (x > 0) match {\n",
    "        case true => true\n",
    "        case _ => false\n",
    "    }\n",
    "    return out}\n",
    "\n",
    "ifPositive(5)"
   ]
  },
  {
   "cell_type": "code",
   "execution_count": 55,
   "metadata": {
    "ExecuteTime": {
     "end_time": "2021-09-25T06:42:09.004645Z",
     "start_time": "2021-09-25T06:42:08.872Z"
    }
   },
   "outputs": [
    {
     "data": {
      "text/plain": [
       "defined \u001b[32mfunction\u001b[39m \u001b[36mifPositive2\u001b[39m\n",
       "\u001b[36mres54_1\u001b[39m: \u001b[32mBoolean\u001b[39m = true"
      ]
     },
     "execution_count": 55,
     "metadata": {},
     "output_type": "execute_result"
    }
   ],
   "source": [
    "def ifPositive2(x:Int) = x>0 match {\n",
    "        case true => true\n",
    "        case false => false\n",
    "    }\n",
    "\n",
    "ifPositive2(5)"
   ]
  },
  {
   "cell_type": "code",
   "execution_count": 23,
   "metadata": {},
   "outputs": [
    {
     "data": {
      "text/plain": [
       "defined \u001b[32mfunction \u001b[36mifPositive3\u001b[0m\n",
       "\u001b[36mres22_1\u001b[0m: \u001b[32mBoolean\u001b[0m = \u001b[32mtrue\u001b[0m"
      ]
     },
     "metadata": {},
     "output_type": "display_data"
    }
   ],
   "source": [
    "def ifPositive3(x:Int) = x > 0\n",
    "\n",
    "ifPositive3(5)"
   ]
  },
  {
   "cell_type": "code",
   "execution_count": 58,
   "metadata": {
    "ExecuteTime": {
     "end_time": "2021-09-25T06:44:29.395103Z",
     "start_time": "2021-09-25T06:44:29.295Z"
    }
   },
   "outputs": [
    {
     "data": {
      "text/plain": [
       "defined \u001b[32mclass\u001b[39m \u001b[36mimproveInt\u001b[39m\n",
       "\u001b[36mres57_1\u001b[39m: \u001b[32mBoolean\u001b[39m = true"
      ]
     },
     "execution_count": 58,
     "metadata": {},
     "output_type": "execute_result"
    }
   ],
   "source": [
    "implicit class improveInt(x: Int) {\n",
    "    def ifPositive = if (x > 0) true else false\n",
    "}\n",
    "\n",
    "5.ifPositive"
   ]
  },
  {
   "cell_type": "markdown",
   "metadata": {},
   "source": [
    "#### Beware!!! :"
   ]
  },
  {
   "cell_type": "code",
   "execution_count": 57,
   "metadata": {
    "ExecuteTime": {
     "end_time": "2021-09-25T06:43:58.183434Z",
     "start_time": "2021-09-25T06:43:58.154Z"
    }
   },
   "outputs": [
    {
     "name": "stderr",
     "output_type": "stream",
     "text": [
      "(console):2: ':' expected but ')' found.\n",
      "    def ifPositive(x) = if (x > 0) true else false // argument in function def is not allowed\n",
      "                    ^\n",
      "(console):3: identifier expected but '}' found.\n",
      "}\n",
      "^"
     ]
    },
    {
     "ename": "",
     "evalue": "",
     "output_type": "error",
     "traceback": [
      "(console):2: ':' expected but ')' found.\n    def ifPositive(x) = if (x > 0) true else false // argument in function def is not allowed\n                    ^\n(console):3: identifier expected but '}' found.\n}\n^"
     ]
    }
   ],
   "source": [
    "implicit class improveInt(x: Int) {\n",
    "    def ifPositive(x) = if (x > 0) true else false // argument in function def is not allowed\n",
    "}\n",
    "\n",
    "5.ifPositive"
   ]
  },
  {
   "cell_type": "code",
   "execution_count": 59,
   "metadata": {
    "ExecuteTime": {
     "end_time": "2021-09-25T06:45:14.382685Z",
     "start_time": "2021-09-25T06:45:14.269Z"
    }
   },
   "outputs": [
    {
     "data": {
      "text/plain": [
       "defined \u001b[32mclass\u001b[39m \u001b[36mimproveInt2\u001b[39m\n",
       "\u001b[36mres58_1\u001b[39m: \u001b[32mBoolean\u001b[39m = true"
      ]
     },
     "execution_count": 59,
     "metadata": {},
     "output_type": "execute_result"
    }
   ],
   "source": [
    "implicit class improveInt2(x:Int) {\n",
    "    def ifPositive2 = x>0\n",
    "}\n",
    "\n",
    "5.ifPositive2"
   ]
  },
  {
   "cell_type": "markdown",
   "metadata": {},
   "source": [
    "Execution of a `case` statement returns the result on the RHS of the arrow `=>`; thus, a simplification is possible:"
   ]
  },
  {
   "cell_type": "code",
   "execution_count": 60,
   "metadata": {
    "ExecuteTime": {
     "end_time": "2021-09-25T06:46:11.407870Z",
     "start_time": "2021-09-25T06:46:11.290Z"
    },
    "scrolled": true
   },
   "outputs": [
    {
     "data": {
      "text/plain": [
       "defined \u001b[32mfunction\u001b[39m \u001b[36mifPositive\u001b[39m\n",
       "\u001b[36mres59_1\u001b[39m: \u001b[32mBoolean\u001b[39m = true"
      ]
     },
     "execution_count": 60,
     "metadata": {},
     "output_type": "execute_result"
    }
   ],
   "source": [
    "def ifPositive(x: Int): Boolean = x > 0 match {\n",
    "     case true => true\n",
    "     case _ => false\n",
    "    }\n",
    "\n",
    "ifPositive(5)"
   ]
  },
  {
   "cell_type": "code",
   "execution_count": 23,
   "metadata": {},
   "outputs": [
    {
     "data": {
      "text/plain": [
       "defined \u001b[32mfunction \u001b[36mcolorToNumber\u001b[0m"
      ]
     },
     "metadata": {},
     "output_type": "display_data"
    }
   ],
   "source": [
    "def colorToNumber(color: String): Int = {\n",
    "    val num = color match {\n",
    "        case \"Red\" => 1\n",
    "        case \"Blue\" => 2\n",
    "        case \"Green\" => 3\n",
    "        case \"Yellow\" => 4\n",
    "        case _ => 0\n",
    "    }\n",
    "    num\n",
    "}"
   ]
  },
  {
   "cell_type": "code",
   "execution_count": 61,
   "metadata": {
    "ExecuteTime": {
     "end_time": "2021-09-25T06:47:06.904866Z",
     "start_time": "2021-09-25T06:47:06.790Z"
    }
   },
   "outputs": [
    {
     "data": {
      "text/plain": [
       "\u001b[36mcolor\u001b[39m: \u001b[32mString\u001b[39m = \u001b[32m\"Red\"\u001b[39m\n",
       "\u001b[36mres60_1\u001b[39m: \u001b[32mInt\u001b[39m = \u001b[32m1\u001b[39m"
      ]
     },
     "execution_count": 61,
     "metadata": {},
     "output_type": "execute_result"
    }
   ],
   "source": [
    "val color = \"Red\"\n",
    "\n",
    "color match {\n",
    "    case \"Red\" => 1\n",
    "    case \"Blue\" => 2\n",
    "    case \"Green\" => 3\n",
    "    case \"Yellow\" => 4\n",
    "    case _ => 0\n",
    "}"
   ]
  },
  {
   "cell_type": "code",
   "execution_count": 25,
   "metadata": {},
   "outputs": [
    {
     "name": "stdout",
     "output_type": "stream",
     "text": [
      "The string is ABC\n"
     ]
    },
    {
     "data": {
      "text/plain": [
       "\u001b[36mstr\u001b[0m: \u001b[32mString\u001b[0m = \u001b[32m\"ABC\"\u001b[0m"
      ]
     },
     "metadata": {},
     "output_type": "display_data"
    }
   ],
   "source": [
    "val str = \"ABC\"\n",
    "\n",
    "val out = str match {\n",
    "    case x if !x.isEmpty => {\n",
    "        println(s\"The string is $x\")\n",
    "    }\n",
    "    case _ => {\n",
    "        println(s\"The string is n/a\")\n",
    "    }\n",
    "}"
   ]
  },
  {
   "cell_type": "markdown",
   "metadata": {},
   "source": [
    "## Matching with wildcards:\n",
    "\n",
    "1. `n => n` -- will return match's expression\n",
    "2. `{n | _ } => <expression>` -- will return expression"
   ]
  },
  {
   "cell_type": "markdown",
   "metadata": {},
   "source": [
    "The value ` n ` is defined for the duration of the case block and is assigned the value\n",
    "of ` str ` , the input to the match expression."
   ]
  },
  {
   "cell_type": "code",
   "execution_count": 62,
   "metadata": {
    "ExecuteTime": {
     "end_time": "2021-09-25T06:50:01.355408Z",
     "start_time": "2021-09-25T06:50:01.215Z"
    }
   },
   "outputs": [
    {
     "name": "stdout",
     "output_type": "stream",
     "text": [
      "Value of str is XYZ\n",
      "Value of out is str is non empty\n"
     ]
    },
    {
     "data": {
      "text/plain": [
       "\u001b[36mstr\u001b[39m: \u001b[32mString\u001b[39m = \u001b[32m\"XYZ\"\u001b[39m\n",
       "\u001b[36mout\u001b[39m: \u001b[32mString\u001b[39m = \u001b[32m\"str is non empty\"\u001b[39m"
      ]
     },
     "execution_count": 62,
     "metadata": {},
     "output_type": "execute_result"
    }
   ],
   "source": [
    "val str = \"XYZ\"\n",
    "\n",
    "val out = str match {\n",
    "    case \"\" => \"n/a\"\n",
    "    case n => \"str is non empty\"\n",
    "}\n",
    "\n",
    "\n",
    "println(s\"Value of str is $str\")\n",
    "println(s\"Value of out is $out\")"
   ]
  },
  {
   "cell_type": "code",
   "execution_count": 7,
   "metadata": {},
   "outputs": [
    {
     "name": "stdout",
     "output_type": "stream",
     "text": [
      "Value of out is XYZ\n",
      "Value of str is XYZ\n"
     ]
    },
    {
     "data": {
      "text/plain": [
       "\u001b[36mstr\u001b[0m: \u001b[32mString\u001b[0m = \u001b[32m\"XYZ\"\u001b[0m\n",
       "\u001b[36mout\u001b[0m: \u001b[32mString\u001b[0m = \u001b[32m\"XYZ\"\u001b[0m"
      ]
     },
     "metadata": {},
     "output_type": "display_data"
    }
   ],
   "source": [
    "val str = \"XYZ\"\n",
    "\n",
    "val out = str match {\n",
    "    case \"\" => \"n/a\"\n",
    "    case n => n\n",
    "}\n",
    "\n",
    "println(s\"Value of out is $out\")\n",
    "println(s\"Value of str is $str\")"
   ]
  },
  {
   "cell_type": "code",
   "execution_count": 27,
   "metadata": {},
   "outputs": [
    {
     "data": {
      "text/plain": [
       "\u001b[36mstr\u001b[0m: \u001b[32mString\u001b[0m = \u001b[32m\"ABC\"\u001b[0m\n",
       "\u001b[36mout\u001b[0m: \u001b[32mString\u001b[0m = \u001b[32m\"ABC\"\u001b[0m"
      ]
     },
     "metadata": {},
     "output_type": "display_data"
    }
   ],
   "source": [
    "val str = \"ABC\"\n",
    "\n",
    "val out = str match {\n",
    "    case \"\" => \"n/a\"\n",
    "    case n => n\n",
    "}"
   ]
  },
  {
   "cell_type": "code",
   "execution_count": 28,
   "metadata": {},
   "outputs": [
    {
     "data": {
      "text/plain": [
       "\u001b[36mstr\u001b[0m: \u001b[32mString\u001b[0m = \u001b[32m\"ABC\"\u001b[0m\n",
       "\u001b[36mout\u001b[0m: \u001b[32mAny\u001b[0m = -1"
      ]
     },
     "metadata": {},
     "output_type": "display_data"
    }
   ],
   "source": [
    "val str = \"ABC\"\n",
    "\n",
    "val out = str match {\n",
    "    case \"\" => \"n/a\"\n",
    "    case n => -1\n",
    "}"
   ]
  },
  {
   "cell_type": "code",
   "execution_count": 29,
   "metadata": {},
   "outputs": [
    {
     "data": {
      "text/plain": [
       "\u001b[36mstr\u001b[0m: \u001b[32mString\u001b[0m = \u001b[32m\"ABC\"\u001b[0m\n",
       "\u001b[36mout\u001b[0m: \u001b[32mAny\u001b[0m = -1"
      ]
     },
     "metadata": {},
     "output_type": "display_data"
    }
   ],
   "source": [
    "val str = \"ABC\"\n",
    "\n",
    "val out = str match {\n",
    "    case \"\" => \"n/a\"\n",
    "    case _ => -1\n",
    "}"
   ]
  },
  {
   "cell_type": "code",
   "execution_count": 30,
   "metadata": {},
   "outputs": [
    {
     "data": {
      "text/plain": [
       "\u001b[36mstr\u001b[0m: \u001b[32mString\u001b[0m = \u001b[32m\"abcdEFG\"\u001b[0m\n",
       "\u001b[36mout\u001b[0m: \u001b[32mString\u001b[0m = \u001b[32m\"abcdEFG\"\u001b[0m"
      ]
     },
     "metadata": {},
     "output_type": "display_data"
    }
   ],
   "source": [
    "val str = \"abcdEFG\"\n",
    "\n",
    "val out = str match {\n",
    "    case \"abc\" => \"hack\"\n",
    "    case \"\" => \"n/a\"\n",
    "    case n => n\n",
    "}"
   ]
  },
  {
   "cell_type": "code",
   "execution_count": 2,
   "metadata": {},
   "outputs": [
    {
     "name": "stdout",
     "output_type": "stream",
     "text": [
      "Match is found!\n"
     ]
    },
    {
     "data": {
      "text/plain": []
     },
     "metadata": {},
     "output_type": "display_data"
    }
   ],
   "source": [
    "\"abcdEFG\" match {\n",
    "    case \"abcdEFG\" => println(\"Match is found!\")\n",
    "    case _ => println(\"There is no match!\")\n",
    "}"
   ]
  },
  {
   "cell_type": "code",
   "execution_count": null,
   "metadata": {
    "collapsed": true,
    "jupyter": {
     "outputs_hidden": true
    }
   },
   "outputs": [],
   "source": [
    "val amount:Double = 100.0\n",
    "\n",
    "val x = if (amount > 0) \"greater\" else if (amount == 0) \"equal\" else \"less\""
   ]
  },
  {
   "cell_type": "markdown",
   "metadata": {},
   "source": [
    "## Pattern guards\n",
    "\n",
    "Adds ` if ` statement to ` <pattern> `\n",
    "\n",
    "\n",
    "case `<pattern>` if `<Boolean expression> ` =>  ` <one or more expressions> `"
   ]
  },
  {
   "cell_type": "code",
   "execution_count": 4,
   "metadata": {},
   "outputs": [
    {
     "name": "stdout",
     "output_type": "stream",
     "text": [
      "Less than 0\n",
      "Value of x is ()\n"
     ]
    },
    {
     "data": {
      "text/plain": [
       "\u001b[36mamount\u001b[0m: \u001b[32mDouble\u001b[0m = \u001b[32m-100.0\u001b[0m"
      ]
     },
     "metadata": {},
     "output_type": "display_data"
    }
   ],
   "source": [
    "val amount:Double = -100.0\n",
    "\n",
    "val x = amount match {\n",
    "    case n if n > 0 => println(\"Greater than 0\")\n",
    "    case n if n == 0 => println(\"Equal to 0\")\n",
    "    case other => println(\"Less than 0\")\n",
    "}\n",
    "\n",
    "println(s\"Value of x is $x\")"
   ]
  },
  {
   "cell_type": "markdown",
   "metadata": {},
   "source": [
    "## \"for\" loop"
   ]
  },
  {
   "cell_type": "code",
   "execution_count": 13,
   "metadata": {},
   "outputs": [
    {
     "data": {
      "text/plain": [
       "\u001b[36mres12\u001b[0m: \u001b[32mcollection\u001b[0m.\u001b[32mimmutable\u001b[0m.\u001b[32mRange\u001b[0m.\u001b[32mInclusive\u001b[0m = \u001b[33mRange\u001b[0m(\u001b[32m1\u001b[0m, \u001b[32m2\u001b[0m, \u001b[32m3\u001b[0m)"
      ]
     },
     "metadata": {},
     "output_type": "display_data"
    }
   ],
   "source": [
    "1 to 3"
   ]
  },
  {
   "cell_type": "code",
   "execution_count": 14,
   "metadata": {},
   "outputs": [
    {
     "data": {
      "text/plain": [
       "\u001b[36mres13\u001b[0m: \u001b[32mRange\u001b[0m = \u001b[33mRange\u001b[0m(\u001b[32m1\u001b[0m, \u001b[32m2\u001b[0m)"
      ]
     },
     "metadata": {},
     "output_type": "display_data"
    }
   ],
   "source": [
    "1 until 3"
   ]
  },
  {
   "cell_type": "code",
   "execution_count": 11,
   "metadata": {},
   "outputs": [
    {
     "data": {
      "text/plain": [
       "\u001b[36mres10\u001b[0m: \u001b[32mRange\u001b[0m = \u001b[33mRange\u001b[0m(\u001b[32m2\u001b[0m, \u001b[32m4\u001b[0m, \u001b[32m6\u001b[0m)"
      ]
     },
     "metadata": {},
     "output_type": "display_data"
    }
   ],
   "source": [
    "(2 to 10 by 2).takeWhile(x => x <=6)"
   ]
  },
  {
   "cell_type": "code",
   "execution_count": 6,
   "metadata": {},
   "outputs": [
    {
     "name": "stdout",
     "output_type": "stream",
     "text": [
      "Vector(Day is 1, Day is 2, Day is 3, Day is 4, Day is 5, Day is 6, Day is 7)\n"
     ]
    },
    {
     "data": {
      "text/plain": [
       "\u001b[36mx\u001b[0m: \u001b[32mcollection\u001b[0m.\u001b[32mimmutable\u001b[0m.\u001b[32mIndexedSeq\u001b[0m[\u001b[32mString\u001b[0m] = \u001b[33mVector\u001b[0m(\n",
       "  \u001b[32m\"Day is 1\"\u001b[0m,\n",
       "  \u001b[32m\"Day is 2\"\u001b[0m,\n",
       "  \u001b[32m\"Day is 3\"\u001b[0m,\n",
       "  \u001b[32m\"Day is 4\"\u001b[0m,\n",
       "  \u001b[32m\"Day is 5\"\u001b[0m,\n",
       "  \u001b[32m\"Day is 6\"\u001b[0m,\n",
       "  \u001b[32m\"Day is 7\"\u001b[0m\n",
       ")"
      ]
     },
     "metadata": {},
     "output_type": "display_data"
    }
   ],
   "source": [
    "val x = for (i <- 1 to 7) yield {s\"Day is $i\"}\n",
    "println(x)"
   ]
  },
  {
   "cell_type": "code",
   "execution_count": 63,
   "metadata": {
    "ExecuteTime": {
     "end_time": "2021-09-25T07:18:21.965347Z",
     "start_time": "2021-09-25T07:18:21.818Z"
    }
   },
   "outputs": [
    {
     "data": {
      "text/plain": [
       "\u001b[36mx\u001b[39m: \u001b[32mcollection\u001b[39m.\u001b[32mimmutable\u001b[39m.\u001b[32mIndexedSeq\u001b[39m[(\u001b[32mInt\u001b[39m, \u001b[32mInt\u001b[39m)] = \u001b[33mVector\u001b[39m(\n",
       "  (\u001b[32m1\u001b[39m, \u001b[32m1\u001b[39m),\n",
       "  (\u001b[32m1\u001b[39m, \u001b[32m2\u001b[39m),\n",
       "  (\u001b[32m1\u001b[39m, \u001b[32m3\u001b[39m),\n",
       "  (\u001b[32m1\u001b[39m, \u001b[32m4\u001b[39m),\n",
       "  (\u001b[32m1\u001b[39m, \u001b[32m5\u001b[39m),\n",
       "  (\u001b[32m2\u001b[39m, \u001b[32m1\u001b[39m),\n",
       "  (\u001b[32m2\u001b[39m, \u001b[32m2\u001b[39m),\n",
       "  (\u001b[32m2\u001b[39m, \u001b[32m3\u001b[39m),\n",
       "  (\u001b[32m2\u001b[39m, \u001b[32m4\u001b[39m),\n",
       "  (\u001b[32m2\u001b[39m, \u001b[32m5\u001b[39m),\n",
       "  (\u001b[32m3\u001b[39m, \u001b[32m1\u001b[39m),\n",
       "  (\u001b[32m3\u001b[39m, \u001b[32m2\u001b[39m),\n",
       "  (\u001b[32m3\u001b[39m, \u001b[32m3\u001b[39m),\n",
       "  (\u001b[32m3\u001b[39m, \u001b[32m4\u001b[39m),\n",
       "  (\u001b[32m3\u001b[39m, \u001b[32m5\u001b[39m)\n",
       ")"
      ]
     },
     "execution_count": 63,
     "metadata": {},
     "output_type": "execute_result"
    }
   ],
   "source": [
    "val x = for {\n",
    "    i <- 1 to 3\n",
    "    j <- 1 to 5\n",
    "} \n",
    "yield i->j"
   ]
  },
  {
   "cell_type": "code",
   "execution_count": 17,
   "metadata": {},
   "outputs": [
    {
     "data": {
      "text/plain": [
       "\u001b[36mx\u001b[0m: \u001b[32mcollection\u001b[0m.\u001b[32mimmutable\u001b[0m.\u001b[32mIndexedSeq\u001b[0m[(\u001b[32mInt\u001b[0m, \u001b[32mInt\u001b[0m)] = \u001b[33mVector\u001b[0m(\u001b[33m\u001b[0m(\u001b[32m2\u001b[0m, \u001b[32m2\u001b[0m), \u001b[33m\u001b[0m(\u001b[32m2\u001b[0m, \u001b[32m4\u001b[0m))"
      ]
     },
     "metadata": {},
     "output_type": "display_data"
    }
   ],
   "source": [
    "val x = ((for {i <- 1 to 3; j <- 1 to 5} yield i->j)\n",
    "         .filter(x => x._1 % 2 == 0 & x._2 %2 ==0))"
   ]
  },
  {
   "cell_type": "code",
   "execution_count": 34,
   "metadata": {},
   "outputs": [
    {
     "data": {
      "text/plain": [
       "\u001b[36mres33\u001b[0m: \u001b[32mcollection\u001b[0m.\u001b[32mimmutable\u001b[0m.\u001b[32mIndexedSeq\u001b[0m[\u001b[32mString\u001b[0m] = \u001b[33mVector\u001b[0m(\n",
       "  \u001b[32m\"Day is 1\"\u001b[0m,\n",
       "  \u001b[32m\"Day is 2\"\u001b[0m,\n",
       "  \u001b[32m\"Day is 3\"\u001b[0m,\n",
       "  \u001b[32m\"Day is 4\"\u001b[0m,\n",
       "  \u001b[32m\"Day is 5\"\u001b[0m,\n",
       "  \u001b[32m\"Day is 6\"\u001b[0m,\n",
       "  \u001b[32m\"Day is 7\"\u001b[0m\n",
       ")"
      ]
     },
     "metadata": {},
     "output_type": "display_data"
    }
   ],
   "source": [
    "1.to(7).map(x=> s\"Day is $x\")"
   ]
  },
  {
   "cell_type": "code",
   "execution_count": 19,
   "metadata": {},
   "outputs": [
    {
     "name": "stdout",
     "output_type": "stream",
     "text": [
      "Days is 1\n",
      "Days is 2\n",
      "Days is 3\n",
      "Days is 4\n",
      "Days is 5\n",
      "Days is 6\n",
      "Days is 7\n"
     ]
    },
    {
     "data": {
      "text/plain": [
       "\u001b[36mres18\u001b[0m: \u001b[32mcollection\u001b[0m.\u001b[32mimmutable\u001b[0m.\u001b[32mIndexedSeq\u001b[0m[\u001b[32mUnit\u001b[0m] = \u001b[33mVector\u001b[0m(\u001b[32m()\u001b[0m, \u001b[32m()\u001b[0m, \u001b[32m()\u001b[0m, \u001b[32m()\u001b[0m, \u001b[32m()\u001b[0m, \u001b[32m()\u001b[0m, \u001b[32m()\u001b[0m)"
      ]
     },
     "metadata": {},
     "output_type": "display_data"
    }
   ],
   "source": [
    "1.to(7).map { x => println(s\"Days is $x\")}"
   ]
  },
  {
   "cell_type": "code",
   "execution_count": 29,
   "metadata": {},
   "outputs": [
    {
     "name": "stdout",
     "output_type": "stream",
     "text": [
      "Day is 1\n",
      "Day is 2\n",
      "Day is 3\n",
      "Day is 4\n",
      "Day is 5\n",
      "Day is 6\n",
      "Day is 7\n"
     ]
    },
    {
     "data": {
      "text/plain": []
     },
     "metadata": {},
     "output_type": "display_data"
    }
   ],
   "source": [
    "1 to 7 foreach(x => println(s\"Day is $x\"))"
   ]
  },
  {
   "cell_type": "code",
   "execution_count": 18,
   "metadata": {},
   "outputs": [
    {
     "name": "stdout",
     "output_type": "stream",
     "text": [
      "Days is 1\n",
      "Days is 2\n",
      "Days is 3\n",
      "Days is 4\n",
      "Days is 5\n",
      "Days is 6\n",
      "Days is 7\n"
     ]
    },
    {
     "data": {
      "text/plain": [
       "\u001b[36mres17\u001b[0m: \u001b[32mcollection\u001b[0m.\u001b[32mimmutable\u001b[0m.\u001b[32mIndexedSeq\u001b[0m[\u001b[32mUnit\u001b[0m] = \u001b[33mVector\u001b[0m(\u001b[32m()\u001b[0m, \u001b[32m()\u001b[0m, \u001b[32m()\u001b[0m, \u001b[32m()\u001b[0m, \u001b[32m()\u001b[0m, \u001b[32m()\u001b[0m, \u001b[32m()\u001b[0m)"
      ]
     },
     "metadata": {},
     "output_type": "display_data"
    }
   ],
   "source": [
    "1.to(7).collect { case x => println(s\"Days is $x\")}"
   ]
  },
  {
   "cell_type": "code",
   "execution_count": 7,
   "metadata": {},
   "outputs": [
    {
     "data": {
      "text/plain": [
       "\u001b[36mres6\u001b[0m: \u001b[32mcollection\u001b[0m.\u001b[32mimmutable\u001b[0m.\u001b[32mIndexedSeq\u001b[0m[\u001b[32mString\u001b[0m] = \u001b[33mVector\u001b[0m(\n",
       "  \u001b[32m\"Day is 1\"\u001b[0m,\n",
       "  \u001b[32m\"Day is 2\"\u001b[0m,\n",
       "  \u001b[32m\"Day is 3\"\u001b[0m,\n",
       "  \u001b[32m\"Day is 4\"\u001b[0m,\n",
       "  \u001b[32m\"Day is 5\"\u001b[0m,\n",
       "  \u001b[32m\"Day is 6\"\u001b[0m,\n",
       "  \u001b[32m\"Day is 7\"\u001b[0m\n",
       ")"
      ]
     },
     "metadata": {},
     "output_type": "display_data"
    }
   ],
   "source": [
    "1 to 7 map {x=> s\"Day is $x\"}"
   ]
  },
  {
   "cell_type": "code",
   "execution_count": 36,
   "metadata": {},
   "outputs": [
    {
     "name": "stdout",
     "output_type": "stream",
     "text": [
      "Day is 7\n",
      "Day is 7\n"
     ]
    },
    {
     "data": {
      "text/plain": []
     },
     "metadata": {},
     "output_type": "display_data"
    }
   ],
   "source": [
    "// Arrays have 0 based indexing\n",
    "println(x(6))\n",
    "println(x.toList(6))"
   ]
  },
  {
   "cell_type": "code",
   "execution_count": 8,
   "metadata": {},
   "outputs": [
    {
     "data": {
      "text/plain": [
       "\u001b[36mres7\u001b[0m: \u001b[32mInt\u001b[0m = \u001b[32m1\u001b[0m"
      ]
     },
     "metadata": {},
     "output_type": "display_data"
    }
   ],
   "source": [
    "// Tuples have 1 based indexing\n",
    "(1,2)._1"
   ]
  },
  {
   "cell_type": "markdown",
   "metadata": {},
   "source": [
    "## Iterator Guards  \n",
    "\n",
    "for (`<identifier>  <- <iterator> if <Boolean expression>) ... {expression}`"
   ]
  },
  {
   "cell_type": "code",
   "execution_count": 38,
   "metadata": {},
   "outputs": [
    {
     "name": "stdout",
     "output_type": "stream",
     "text": [
      "50\n",
      "100\n"
     ]
    },
    {
     "data": {
      "text/plain": []
     },
     "metadata": {},
     "output_type": "display_data"
    }
   ],
   "source": [
    "for (x <- 1 to 100 if x%50 == 0) {\n",
    "    println(x)\n",
    "}"
   ]
  },
  {
   "cell_type": "code",
   "execution_count": 66,
   "metadata": {
    "ExecuteTime": {
     "end_time": "2021-09-25T07:22:39.262156Z",
     "start_time": "2021-09-25T07:22:39.108Z"
    }
   },
   "outputs": [
    {
     "name": "stdout",
     "output_type": "stream",
     "text": [
      "Vector((2,2), (2,4))\n"
     ]
    },
    {
     "data": {
      "text/plain": [
       "\u001b[36ma\u001b[39m: \u001b[32mcollection\u001b[39m.\u001b[32mimmutable\u001b[39m.\u001b[32mIndexedSeq\u001b[39m[(\u001b[32mInt\u001b[39m, \u001b[32mInt\u001b[39m)] = \u001b[33mVector\u001b[39m((\u001b[32m2\u001b[39m, \u001b[32m2\u001b[39m), (\u001b[32m2\u001b[39m, \u001b[32m4\u001b[39m))"
      ]
     },
     "execution_count": 66,
     "metadata": {},
     "output_type": "execute_result"
    }
   ],
   "source": [
    "val a = for {\n",
    "    x <- 1 to 3 if (x%2 == 0)\n",
    "    y <- 1 to 5 if (y%2 == 0)} \n",
    "yield x -> y\n",
    "\n",
    "println(a)"
   ]
  },
  {
   "cell_type": "code",
   "execution_count": 39,
   "metadata": {},
   "outputs": [
    {
     "data": {
      "text/plain": [
       "\u001b[36mtens\u001b[0m: \u001b[32mcollection\u001b[0m.\u001b[32mimmutable\u001b[0m.\u001b[32mIndexedSeq\u001b[0m[\u001b[32mInt\u001b[0m] = \u001b[33mVector\u001b[0m(\u001b[32m10\u001b[0m, \u001b[32m20\u001b[0m, \u001b[32m30\u001b[0m, \u001b[32m40\u001b[0m, \u001b[32m50\u001b[0m, \u001b[32m60\u001b[0m, \u001b[32m70\u001b[0m, \u001b[32m80\u001b[0m, \u001b[32m90\u001b[0m, \u001b[32m100\u001b[0m)"
      ]
     },
     "metadata": {},
     "output_type": "display_data"
    }
   ],
   "source": [
    "val tens = for (i <- 1 to 100 if i%10 == 0) yield i"
   ]
  },
  {
   "cell_type": "code",
   "execution_count": 31,
   "metadata": {},
   "outputs": [
    {
     "data": {
      "text/plain": [
       "\u001b[36mres30\u001b[0m: \u001b[32mcollection\u001b[0m.\u001b[32mimmutable\u001b[0m.\u001b[32mIndexedSeq\u001b[0m[\u001b[32mInt\u001b[0m] = \u001b[33mVector\u001b[0m(\u001b[32m10\u001b[0m, \u001b[32m20\u001b[0m, \u001b[32m30\u001b[0m, \u001b[32m40\u001b[0m, \u001b[32m50\u001b[0m, \u001b[32m60\u001b[0m, \u001b[32m70\u001b[0m, \u001b[32m80\u001b[0m, \u001b[32m90\u001b[0m, \u001b[32m100\u001b[0m)"
      ]
     },
     "metadata": {},
     "output_type": "display_data"
    }
   ],
   "source": [
    "1 to 100 filter(_%10 == 0)"
   ]
  },
  {
   "cell_type": "code",
   "execution_count": 32,
   "metadata": {},
   "outputs": [
    {
     "data": {
      "text/plain": [
       "\u001b[36ma\u001b[0m: \u001b[32mcollection\u001b[0m.\u001b[32mimmutable\u001b[0m.\u001b[32mIndexedSeq\u001b[0m[(\u001b[32mInt\u001b[0m, \u001b[32mChar\u001b[0m)] = \u001b[33mVector\u001b[0m(\u001b[33m\u001b[0m(\u001b[32m1\u001b[0m, \u001b[32m'a'\u001b[0m), \u001b[33m\u001b[0m(\u001b[32m1\u001b[0m, \u001b[32m'b'\u001b[0m), \u001b[33m\u001b[0m(\u001b[32m2\u001b[0m, \u001b[32m'a'\u001b[0m), \u001b[33m\u001b[0m(\u001b[32m2\u001b[0m, \u001b[32m'b'\u001b[0m), \u001b[33m\u001b[0m(\u001b[32m3\u001b[0m, \u001b[32m'a'\u001b[0m), \u001b[33m\u001b[0m(\u001b[32m3\u001b[0m, \u001b[32m'b'\u001b[0m))"
      ]
     },
     "metadata": {},
     "output_type": "display_data"
    }
   ],
   "source": [
    "val a = for {x <- 1 to 3; y <- (\"abc\").takeWhile(s => s != 'c')} yield x->y"
   ]
  },
  {
   "cell_type": "code",
   "execution_count": 33,
   "metadata": {},
   "outputs": [
    {
     "data": {
      "text/plain": [
       "\u001b[36mres32\u001b[0m: \u001b[32mClass\u001b[0m[\u001b[32m?0\u001b[0m] = class scala.collection.immutable.Vector"
      ]
     },
     "metadata": {},
     "output_type": "display_data"
    }
   ],
   "source": [
    "a.getClass"
   ]
  },
  {
   "cell_type": "code",
   "execution_count": 11,
   "metadata": {},
   "outputs": [
    {
     "data": {
      "text/plain": [
       "\u001b[36mres10\u001b[0m: \u001b[32mcollection\u001b[0m.\u001b[32mimmutable\u001b[0m.\u001b[32mIndexedSeq\u001b[0m[(\u001b[32mInt\u001b[0m, \u001b[32mChar\u001b[0m)] = \u001b[33mVector\u001b[0m(\u001b[33m\u001b[0m(\u001b[32m3\u001b[0m, \u001b[32m'a'\u001b[0m), \u001b[33m\u001b[0m(\u001b[32m3\u001b[0m, \u001b[32m'b'\u001b[0m), \u001b[33m\u001b[0m(\u001b[32m3\u001b[0m, \u001b[32m'c'\u001b[0m))"
      ]
     },
     "metadata": {},
     "output_type": "display_data"
    }
   ],
   "source": [
    "a.filter(_._1 > 2)"
   ]
  },
  {
   "cell_type": "code",
   "execution_count": 14,
   "metadata": {},
   "outputs": [
    {
     "name": "stdout",
     "output_type": "stream",
     "text": [
      " 1 , 2 , 3 , 4 , 5 ,\n",
      " 6 , 7 , 8 , 9 ,10 ,\n",
      "11 ,12 ,13 ,14 ,15 ,\n"
     ]
    },
    {
     "data": {
      "text/plain": [
       "\u001b[36mk\u001b[0m: \u001b[32mInt\u001b[0m = \u001b[32m16\u001b[0m"
      ]
     },
     "metadata": {},
     "output_type": "display_data"
    }
   ],
   "source": [
    "var k = 1\n",
    "\n",
    "for (i <- 1 to 3) {\n",
    "    for (j <- 1 to 5) {\n",
    "        print(f\"$k%2d ,\")\n",
    "        k+=1\n",
    "    }\n",
    "    print(\"\\n\")\n",
    "} "
   ]
  },
  {
   "cell_type": "code",
   "execution_count": 1,
   "metadata": {},
   "outputs": [
    {
     "name": "stdout",
     "output_type": "stream",
     "text": [
      " 1,  2,  3,  4,  5, \n",
      " 6,  7,  8,  9, 10, \n",
      "11, 12, 13, 14, 15, \n",
      "16, 17, 18, 19, 20, \n",
      "21, 22, 23, 24, 25, \n",
      "26, 27, 28, 29, 30\n"
     ]
    },
    {
     "data": {
      "text/plain": []
     },
     "metadata": {},
     "output_type": "display_data"
    }
   ],
   "source": [
    "for (i <- 1 to 6) {\n",
    "    for (j <- 1 to 5) {\n",
    "        val s = {j + (i-1)*5}\n",
    "        s match {\n",
    "            case s if s != 30 => print(f\"$s%2d, \")\n",
    "            case _  => print(f\"$s%2d\")\n",
    "        }\n",
    "        \n",
    "    }\n",
    "    print(\"\\n\")\n",
    "}"
   ]
  },
  {
   "cell_type": "code",
   "execution_count": 2,
   "metadata": {},
   "outputs": [
    {
     "name": "stdout",
     "output_type": "stream",
     "text": [
      " 1 , 2 , 3 , 4 , 5 ,\n",
      " 6 , 7 , 8 , 9 ,10 ,\n",
      "11 ,12 ,13 ,14 ,15 ,\n"
     ]
    },
    {
     "data": {
      "text/plain": []
     },
     "metadata": {},
     "output_type": "display_data"
    }
   ],
   "source": [
    "// A common tactic in for-loops is to define temporary values or variables inside the ex‐\n",
    "// pression block based on the current iteration. An alternate way to do this in Scala is to\n",
    "// use value binding in the for-loop’s definition\n",
    "\n",
    "for (i <- 1 to 3) {\n",
    "    for (j <- 1 to 5; k=j + (i-1)*5) {\n",
    "        print(f\"$k%2d ,\")\n",
    "    }\n",
    "    print(\"\\n\")\n",
    "} "
   ]
  },
  {
   "cell_type": "code",
   "execution_count": 3,
   "metadata": {},
   "outputs": [
    {
     "name": "stdout",
     "output_type": "stream",
     "text": [
      " 1 , 2 ,type , 4 ,safe ,\n",
      "type , 7 , 8 ,type ,safe ,\n",
      "11 ,type ,13 ,14 ,typesafe ,\n"
     ]
    },
    {
     "data": {
      "text/plain": []
     },
     "metadata": {},
     "output_type": "display_data"
    }
   ],
   "source": [
    "for (i <- 1 to 3) {\n",
    "    for (j <- 1 to 5; k=j + (i-1)*5) {\n",
    "        k match {\n",
    "            case x if x%3==0 & x%5 == 0 => print(\"typesafe ,\")\n",
    "            case x if x%3 == 0 => print(\"type ,\")\n",
    "            case x if x%5 == 0 => print(\"safe ,\")\n",
    "            case x => print(f\"$x%2d ,\")\n",
    "        }\n",
    "        \n",
    "    }\n",
    "    print(\"\\n\")\n",
    "} "
   ]
  },
  {
   "cell_type": "markdown",
   "metadata": {},
   "source": [
    "# Chapter_4: Functions"
   ]
  },
  {
   "cell_type": "code",
   "execution_count": 44,
   "metadata": {},
   "outputs": [
    {
     "data": {
      "text/plain": [
       "defined \u001b[32mfunction \u001b[36mtoUpper\u001b[0m\n",
       "\u001b[36mres43_1\u001b[0m: \u001b[32mString\u001b[0m = \u001b[32m\"HI\"\u001b[0m"
      ]
     },
     "metadata": {},
     "output_type": "display_data"
    }
   ],
   "source": [
    "def toUpper(s:String) = s.toUpperCase()\n",
    "toUpper(\"Hi\")"
   ]
  },
  {
   "cell_type": "markdown",
   "metadata": {},
   "source": [
    "Usually, functions do not need `return` keyword:"
   ]
  },
  {
   "cell_type": "code",
   "execution_count": 45,
   "metadata": {},
   "outputs": [
    {
     "data": {
      "text/plain": [
       "defined \u001b[32mfunction \u001b[36marea\u001b[0m"
      ]
     },
     "metadata": {},
     "output_type": "display_data"
    }
   ],
   "source": [
    "def area(radius:Double):Double = {\n",
    "    math.Pi * math.pow(radius, 2)\n",
    "}"
   ]
  },
  {
   "cell_type": "code",
   "execution_count": 46,
   "metadata": {},
   "outputs": [
    {
     "data": {
      "text/plain": [
       "\u001b[36mres45\u001b[0m: \u001b[32mDouble\u001b[0m = \u001b[32m12.566370614359172\u001b[0m"
      ]
     },
     "metadata": {},
     "output_type": "display_data"
    }
   ],
   "source": [
    "area(2.0)"
   ]
  },
  {
   "cell_type": "markdown",
   "metadata": {},
   "source": [
    "However, when a function needs early termination, `return` keyword may be justified:"
   ]
  },
  {
   "cell_type": "code",
   "execution_count": 11,
   "metadata": {},
   "outputs": [
    {
     "data": {
      "text/plain": [
       "\u001b[36mstr\u001b[0m: \u001b[32mString\u001b[0m = \u001b[32m\"  abc  \"\u001b[0m\n",
       "defined \u001b[32mclass \u001b[36menhanceString\u001b[0m\n",
       "\u001b[36mres10_2\u001b[0m: \u001b[32mString\u001b[0m = \u001b[32m\"abc\"\u001b[0m\n",
       "\u001b[36mres10_3\u001b[0m: \u001b[32mString\u001b[0m = \u001b[32m\"abc\"\u001b[0m"
      ]
     },
     "metadata": {},
     "output_type": "display_data"
    }
   ],
   "source": [
    "val str = \"  abc  \"\n",
    "\n",
    "implicit class enhanceString(s:String) {\n",
    "    def safeTrim = {\n",
    "        if (s==null) null\n",
    "        s.trim\n",
    "    }\n",
    "}\n",
    "\n",
    "safeTrim(str)\n",
    "str.safeTrim"
   ]
  },
  {
   "cell_type": "code",
   "execution_count": 47,
   "metadata": {},
   "outputs": [
    {
     "data": {
      "text/plain": [
       "defined \u001b[32mfunction \u001b[36marea\u001b[0m"
      ]
     },
     "metadata": {},
     "output_type": "display_data"
    }
   ],
   "source": [
    "def area(rad:String) = {\n",
    "    if (rad.isEmpty()) {\n",
    "        println(\"Input is empty\")\n",
    "    } \n",
    "    else {\n",
    "        math.Pi * math.pow(rad.toDouble, 2)\n",
    "    }\n",
    "}"
   ]
  },
  {
   "cell_type": "code",
   "execution_count": 48,
   "metadata": {
    "scrolled": true
   },
   "outputs": [
    {
     "data": {
      "text/plain": [
       "\u001b[36mres47\u001b[0m: \u001b[32mAnyVal\u001b[0m = 30.974846927333925"
      ]
     },
     "metadata": {},
     "output_type": "display_data"
    }
   ],
   "source": [
    "area(\"3.14\")"
   ]
  },
  {
   "cell_type": "code",
   "execution_count": 49,
   "metadata": {},
   "outputs": [
    {
     "data": {
      "text/plain": [
       "defined \u001b[32mfunction \u001b[36marea\u001b[0m"
      ]
     },
     "metadata": {},
     "output_type": "display_data"
    }
   ],
   "source": [
    "def area(rad:Any) = {\n",
    "    rad match {\n",
    "        case x:String => {\n",
    "            if (x.isEmpty()) {\n",
    "                println(\"Input is empty\")\n",
    "            } else {\n",
    "                math.Pi * math.pow(x.toDouble, 2)\n",
    "            }\n",
    "        }\n",
    "        case x:Double => {\n",
    "            math.Pi * math.pow(x, 2)\n",
    "        }\n",
    "    }\n",
    "}"
   ]
  },
  {
   "cell_type": "code",
   "execution_count": 50,
   "metadata": {},
   "outputs": [
    {
     "name": "stdout",
     "output_type": "stream",
     "text": [
      "Input is empty\n"
     ]
    },
    {
     "data": {
      "text/plain": [
       "\u001b[36mres49\u001b[0m: \u001b[32mAnyVal\u001b[0m = ()"
      ]
     },
     "metadata": {},
     "output_type": "display_data"
    }
   ],
   "source": [
    "area(\"\")"
   ]
  },
  {
   "cell_type": "markdown",
   "metadata": {},
   "source": [
    "Recursive"
   ]
  },
  {
   "cell_type": "code",
   "execution_count": 51,
   "metadata": {},
   "outputs": [
    {
     "data": {
      "text/plain": [
       "defined \u001b[32mfunction \u001b[36mfives\u001b[0m"
      ]
     },
     "metadata": {},
     "output_type": "display_data"
    }
   ],
   "source": [
    "def fives(st:Int, end:Int):Unit = {\n",
    "    if (st <= end) {\n",
    "    println(st)\n",
    "    fives(st+5, end)\n",
    "    }\n",
    "}"
   ]
  },
  {
   "cell_type": "code",
   "execution_count": 52,
   "metadata": {},
   "outputs": [
    {
     "name": "stdout",
     "output_type": "stream",
     "text": [
      "0\n",
      "5\n",
      "10\n",
      "15\n",
      "20\n",
      "25\n",
      "30\n"
     ]
    },
    {
     "data": {
      "text/plain": []
     },
     "metadata": {},
     "output_type": "display_data"
    }
   ],
   "source": [
    "fives(0,30)"
   ]
  },
  {
   "cell_type": "code",
   "execution_count": 67,
   "metadata": {
    "ExecuteTime": {
     "end_time": "2021-09-25T07:29:21.549362Z",
     "start_time": "2021-09-25T07:29:21.427Z"
    }
   },
   "outputs": [
    {
     "name": "stdout",
     "output_type": "stream",
     "text": [
      "11\n",
      "16\n",
      "21\n",
      "26\n"
     ]
    },
    {
     "data": {
      "text/plain": [
       "defined \u001b[32mfunction\u001b[39m \u001b[36mprintFives\u001b[39m"
      ]
     },
     "execution_count": 67,
     "metadata": {},
     "output_type": "execute_result"
    }
   ],
   "source": [
    "def printFives(start: Int, end: Int): Unit = {\n",
    "    if (start < end) {\n",
    "        println(start)\n",
    "        printFives(start+5, end)\n",
    "    }\n",
    "}\n",
    "\n",
    "printFives(11,31)"
   ]
  },
  {
   "cell_type": "code",
   "execution_count": 53,
   "metadata": {},
   "outputs": [
    {
     "data": {
      "text/plain": [
       "defined \u001b[32mfunction \u001b[36mmiliseconds\u001b[0m"
      ]
     },
     "metadata": {},
     "output_type": "display_data"
    }
   ],
   "source": [
    "def miliseconds(x:Long):String = {\n",
    "    val secs = x / 1000\n",
    "    val days = secs / (60*60*24)\n",
    "    val hours = (secs - days * (60*60*24)) / (60*60)\n",
    "    val minutes = (secs - days * (60*60*24) -hours * (60*60)) / 60\n",
    "    val seconds = (secs - days * (60*60*24) -hours * (60*60) - minutes * 60)\n",
    "    s\"$days:$hours:$minutes:$seconds\"\n",
    "}"
   ]
  },
  {
   "cell_type": "code",
   "execution_count": 54,
   "metadata": {},
   "outputs": [
    {
     "data": {
      "text/plain": [
       "\u001b[36mres53\u001b[0m: \u001b[32mString\u001b[0m = \u001b[32m\"1428:21:33:9\"\u001b[0m"
      ]
     },
     "metadata": {},
     "output_type": "display_data"
    }
   ],
   "source": [
    "miliseconds(123456789000L)"
   ]
  },
  {
   "cell_type": "code",
   "execution_count": 55,
   "metadata": {},
   "outputs": [
    {
     "data": {
      "text/plain": [
       "defined \u001b[32mfunction \u001b[36mpower\u001b[0m"
      ]
     },
     "metadata": {},
     "output_type": "display_data"
    }
   ],
   "source": [
    "def power(n:Double, p:Double):Double = {\n",
    "    math.pow(n,p)\n",
    "}"
   ]
  },
  {
   "cell_type": "code",
   "execution_count": 56,
   "metadata": {},
   "outputs": [
    {
     "data": {
      "text/plain": [
       "\u001b[36mres55\u001b[0m: \u001b[32mDouble\u001b[0m = \u001b[32m8.0\u001b[0m"
      ]
     },
     "metadata": {},
     "output_type": "display_data"
    }
   ],
   "source": [
    "power(2,3)"
   ]
  },
  {
   "cell_type": "code",
   "execution_count": 57,
   "metadata": {},
   "outputs": [
    {
     "data": {
      "text/plain": [
       "defined \u001b[32mfunction \u001b[36mpower\u001b[0m"
      ]
     },
     "metadata": {},
     "output_type": "display_data"
    }
   ],
   "source": [
    "def power(n:Double, p:Int):Double = {\n",
    "    var x:Double =1\n",
    "    for (i<-1 to p) {\n",
    "        x *=n\n",
    "    }\n",
    "    x\n",
    "}"
   ]
  },
  {
   "cell_type": "code",
   "execution_count": 58,
   "metadata": {},
   "outputs": [
    {
     "data": {
      "text/plain": [
       "\u001b[36mres57\u001b[0m: \u001b[32mDouble\u001b[0m = \u001b[32m8.0\u001b[0m"
      ]
     },
     "metadata": {},
     "output_type": "display_data"
    }
   ],
   "source": [
    "power(2,3)"
   ]
  },
  {
   "cell_type": "markdown",
   "metadata": {},
   "source": [
    "Recursive"
   ]
  },
  {
   "cell_type": "code",
   "execution_count": 59,
   "metadata": {},
   "outputs": [
    {
     "data": {
      "text/plain": [
       "defined \u001b[32mfunction \u001b[36mpower\u001b[0m"
      ]
     },
     "metadata": {},
     "output_type": "display_data"
    }
   ],
   "source": [
    "def power(x:Double, y:Int, accum:Double = 1.0):Double = {\n",
    "    if (y<1) accum\n",
    "    else power(x,y-1, x*accum)\n",
    "}"
   ]
  },
  {
   "cell_type": "code",
   "execution_count": 60,
   "metadata": {},
   "outputs": [
    {
     "data": {
      "text/plain": [
       "defined \u001b[32mfunction \u001b[36mpower\u001b[0m"
      ]
     },
     "metadata": {},
     "output_type": "display_data"
    }
   ],
   "source": [
    "def power(x:Double, y:Int, accum:Double = 1.0):Double = {\n",
    "    if (y<1) accum\n",
    "    else x*power(x,y-1)\n",
    "}"
   ]
  },
  {
   "cell_type": "code",
   "execution_count": 61,
   "metadata": {},
   "outputs": [
    {
     "data": {
      "text/plain": [
       "\u001b[36mres60\u001b[0m: \u001b[32mDouble\u001b[0m = \u001b[32m32.0\u001b[0m"
      ]
     },
     "metadata": {},
     "output_type": "display_data"
    }
   ],
   "source": [
    "power(2,5)"
   ]
  },
  {
   "cell_type": "code",
   "execution_count": 62,
   "metadata": {},
   "outputs": [
    {
     "data": {
      "text/plain": [
       "defined \u001b[32mfunction \u001b[36mdiff\u001b[0m"
      ]
     },
     "metadata": {},
     "output_type": "display_data"
    }
   ],
   "source": [
    "def diff(a:Tuple2[Double,Double],b:Tuple2[Double,Double]) = {\n",
    "    (a._1 - b._1, a._2 - b._2)\n",
    "}"
   ]
  },
  {
   "cell_type": "code",
   "execution_count": 63,
   "metadata": {},
   "outputs": [
    {
     "data": {
      "text/plain": [
       "\u001b[36mres62\u001b[0m: (\u001b[32mDouble\u001b[0m, \u001b[32mDouble\u001b[0m) = \u001b[33m\u001b[0m(\u001b[32m-2.0\u001b[0m, \u001b[32m-2.0\u001b[0m)"
      ]
     },
     "metadata": {},
     "output_type": "display_data"
    }
   ],
   "source": [
    "diff((1,2),(3,4))"
   ]
  },
  {
   "cell_type": "code",
   "execution_count": 64,
   "metadata": {},
   "outputs": [
    {
     "data": {
      "text/plain": [
       "defined \u001b[32mfunction \u001b[36mdiff\u001b[0m"
      ]
     },
     "metadata": {},
     "output_type": "display_data"
    }
   ],
   "source": [
    "def diff(src:(Int,Int), dest:(Int,Int)):(Int,Int) = {\n",
    "    (dest._1-src._1, dest._2 - src._2)\n",
    "}"
   ]
  },
  {
   "cell_type": "code",
   "execution_count": 65,
   "metadata": {},
   "outputs": [
    {
     "data": {
      "text/plain": [
       "\u001b[36mres64\u001b[0m: (\u001b[32mInt\u001b[0m, \u001b[32mInt\u001b[0m) = \u001b[33m\u001b[0m(\u001b[32m2\u001b[0m, \u001b[32m2\u001b[0m)"
      ]
     },
     "metadata": {},
     "output_type": "display_data"
    }
   ],
   "source": [
    "diff((1,2),(3,4))"
   ]
  },
  {
   "cell_type": "code",
   "execution_count": 69,
   "metadata": {
    "ExecuteTime": {
     "end_time": "2021-09-25T07:34:24.424475Z",
     "start_time": "2021-09-25T07:34:24.326Z"
    }
   },
   "outputs": [
    {
     "data": {
      "text/plain": [
       "defined \u001b[32mfunction\u001b[39m \u001b[36mint_first\u001b[39m"
      ]
     },
     "execution_count": 69,
     "metadata": {},
     "output_type": "execute_result"
    }
   ],
   "source": [
    "def int_first(a:Tuple2[Any,Any])={\n",
    "    if (a._1.isInstanceOf[Int]) {\n",
    "        (a)\n",
    "    } else if (a._2.isInstanceOf[Int]) {\n",
    "        (a._2,a._1)\n",
    "    } else println(\"No integer in the tuple\")\n",
    "}"
   ]
  },
  {
   "cell_type": "code",
   "execution_count": 68,
   "metadata": {
    "ExecuteTime": {
     "end_time": "2021-09-25T07:33:22.681361Z",
     "start_time": "2021-09-25T07:33:22.564Z"
    }
   },
   "outputs": [
    {
     "data": {
      "text/plain": [
       "defined \u001b[32mfunction\u001b[39m \u001b[36mintFirst\u001b[39m"
      ]
     },
     "execution_count": 68,
     "metadata": {},
     "output_type": "execute_result"
    }
   ],
   "source": [
    "def intFirst[A,B](t:(A,B)) = {\n",
    "    def isInt(x:Any) = x.isInstanceOf[Int]\n",
    "    (isInt(t._1), isInt(t._2)) match {\n",
    "        case (false,true) => (t._2,t._1)\n",
    "        case (false, false) => println(\"No integer in the tuple\")\n",
    "        case other => other\n",
    "    }\n",
    "}"
   ]
  },
  {
   "cell_type": "code",
   "execution_count": 68,
   "metadata": {},
   "outputs": [
    {
     "name": "stdout",
     "output_type": "stream",
     "text": [
      "No integer in the tuple\n"
     ]
    },
    {
     "data": {
      "text/plain": [
       "\u001b[36mres67\u001b[0m: \u001b[32mAny\u001b[0m = ()"
      ]
     },
     "metadata": {},
     "output_type": "display_data"
    }
   ],
   "source": [
    "intFirst(4.0, 5.0)"
   ]
  },
  {
   "cell_type": "code",
   "execution_count": 70,
   "metadata": {
    "ExecuteTime": {
     "end_time": "2021-09-25T07:34:29.242005Z",
     "start_time": "2021-09-25T07:34:29.139Z"
    }
   },
   "outputs": [
    {
     "data": {
      "text/plain": [
       "\u001b[36mres69\u001b[39m: \u001b[32mAny\u001b[39m = (\u001b[32m3\u001b[39m, \u001b[32m4.0\u001b[39m)"
      ]
     },
     "execution_count": 70,
     "metadata": {},
     "output_type": "execute_result"
    }
   ],
   "source": [
    "int_first((4.0, 3))"
   ]
  },
  {
   "cell_type": "code",
   "execution_count": 71,
   "metadata": {
    "ExecuteTime": {
     "end_time": "2021-09-25T07:34:59.870174Z",
     "start_time": "2021-09-25T07:34:59.762Z"
    }
   },
   "outputs": [
    {
     "data": {
      "text/plain": [
       "defined \u001b[32mfunction\u001b[39m \u001b[36mdoubleTuple\u001b[39m"
      ]
     },
     "execution_count": 71,
     "metadata": {},
     "output_type": "execute_result"
    }
   ],
   "source": [
    "def doubleTuple[A,B,C](a:Tuple3[A,B,C]):(A,String,B,String,C,String) = {\n",
    "    (a._1, a._1.toString, a._2, a._2.toString, a._3, a._3.toString)\n",
    "}"
   ]
  },
  {
   "cell_type": "code",
   "execution_count": 72,
   "metadata": {
    "ExecuteTime": {
     "end_time": "2021-09-25T07:35:05.214739Z",
     "start_time": "2021-09-25T07:35:05.097Z"
    }
   },
   "outputs": [
    {
     "data": {
      "text/plain": [
       "\u001b[36mres71\u001b[39m: (\u001b[32mBoolean\u001b[39m, \u001b[32mString\u001b[39m, \u001b[32mDouble\u001b[39m, \u001b[32mString\u001b[39m, \u001b[32mString\u001b[39m, \u001b[32mString\u001b[39m) = (\n",
       "  true,\n",
       "  \u001b[32m\"true\"\u001b[39m,\n",
       "  \u001b[32m2.0\u001b[39m,\n",
       "  \u001b[32m\"2.0\"\u001b[39m,\n",
       "  \u001b[32m\"hello\"\u001b[39m,\n",
       "  \u001b[32m\"hello\"\u001b[39m\n",
       ")"
      ]
     },
     "execution_count": 72,
     "metadata": {},
     "output_type": "execute_result"
    }
   ],
   "source": [
    "doubleTuple((true,2.0,\"hello\"))"
   ]
  },
  {
   "cell_type": "markdown",
   "metadata": {},
   "source": [
    "## Tail recursion"
   ]
  },
  {
   "cell_type": "code",
   "execution_count": 72,
   "metadata": {},
   "outputs": [
    {
     "data": {
      "text/plain": [
       "\u001b[32mimport \u001b[36mscala.annotation.tailrec\u001b[0m\n",
       "defined \u001b[32mfunction \u001b[36mfactorial\u001b[0m\n",
       "\u001b[36mres71_2\u001b[0m: \u001b[32mBigInt\u001b[0m = 2846259680917054518906413212119868890148051401702799230794179994274411340003764443772990786757784775815884062142317528830042339940153518739052421161382716174819824199827592418289259787898124253120594659962598670656016157203603239792632873671705574197596209947972034615369811989709261127750048419884541047554464244213657330307670362882580354896746111709736957860367019107151273058728104115864056128116538532596842582599558468814643042558983664931705925171720427659740744613340005419405246230343686915405940406622782824837151203832217864462718382292389963899282722187970245938769380309462733229257055545969002787528224254434802112755901916942542902891690721909708369053987374745248337289952180236328274121704026808676921045155584056717255537201585213282903427998981844931361064038148930449962159999935967089298019033699848440466541923625842494716317896119204123310826865107135451684554093603300960721034694437798234943078062606942230268188522759205702923084312618849760656074258627944882715595683153344053442544664841689458042570946167361318760523498228632645292152942347987060334429073715868849917893258069148316885425195600617237263632397442078692464295601230628872012265295296409150830133663098273380635397290150658182257429547589439976511386554120812578868370423920876448476156900126488927159070630640966162803878404448519164379080718611237062213341541506599184387596102392671327654698616365770662643863802984805195276953619525924093090861447190739076858575593478698172073437209310482547562856777769408156407496227525499338411280928963751699021987049240561753178634693979802461973707904186832993101\u001b[33m...\u001b[0m"
      ]
     },
     "metadata": {},
     "output_type": "display_data"
    }
   ],
   "source": [
    "import scala.annotation.tailrec\n",
    "\n",
    "@tailrec\n",
    "final def factorial(n:BigInt, acc:BigInt):BigInt = {\n",
    "    if (n <= 1) acc\n",
    "    else factorial(n-1, acc*n)\n",
    "}\n",
    "\n",
    "factorial(10000,1)"
   ]
  },
  {
   "cell_type": "code",
   "execution_count": 73,
   "metadata": {},
   "outputs": [
    {
     "data": {
      "text/plain": [
       "defined \u001b[32mfunction \u001b[36mfactorial\u001b[0m\n",
       "\u001b[36mres72_1\u001b[0m: \u001b[32mBigInt\u001b[0m = 2846259680917054518906413212119868890148051401702799230794179994274411340003764443772990786757784775815884062142317528830042339940153518739052421161382716174819824199827592418289259787898124253120594659962598670656016157203603239792632873671705574197596209947972034615369811989709261127750048419884541047554464244213657330307670362882580354896746111709736957860367019107151273058728104115864056128116538532596842582599558468814643042558983664931705925171720427659740744613340005419405246230343686915405940406622782824837151203832217864462718382292389963899282722187970245938769380309462733229257055545969002787528224254434802112755901916942542902891690721909708369053987374745248337289952180236328274121704026808676921045155584056717255537201585213282903427998981844931361064038148930449962159999935967089298019033699848440466541923625842494716317896119204123310826865107135451684554093603300960721034694437798234943078062606942230268188522759205702923084312618849760656074258627944882715595683153344053442544664841689458042570946167361318760523498228632645292152942347987060334429073715868849917893258069148316885425195600617237263632397442078692464295601230628872012265295296409150830133663098273380635397290150658182257429547589439976511386554120812578868370423920876448476156900126488927159070630640966162803878404448519164379080718611237062213341541506599184387596102392671327654698616365770662643863802984805195276953619525924093090861447190739076858575593478698172073437209310482547562856777769408156407496227525499338411280928963751699021987049240561753178634693979802461973707904186832993101\u001b[33m...\u001b[0m"
      ]
     },
     "metadata": {},
     "output_type": "display_data"
    }
   ],
   "source": [
    "def factorial(n:Int) = {\n",
    "    @tailrec\n",
    "    def fact(n:BigInt, acc:BigInt):BigInt = {\n",
    "            if (n<= 1) acc\n",
    "            else fact(n-1, n*acc)\n",
    "        }\n",
    "    fact(n,1)\n",
    "}\n",
    "\n",
    "factorial(10000)"
   ]
  },
  {
   "cell_type": "markdown",
   "metadata": {},
   "source": [
    "Recursion consists of:\n",
    "\n",
    "> 1. Base case, which defines the rule for stopping recursion  \n",
    "> 2. Recursion function itself, which is defined in terms of the same function with decremented argument(s), which brings recursive function closer to the base case\n",
    "\n",
    "e.g. :\n",
    "\n",
    "\\begin{equation}\n",
    "  sum(n)=\\begin{cases}\n",
    "    1, & \\text{if $n==1$}.\\\\\n",
    "    n + sum(n-1), & \\text{otherwise}.\n",
    "  \\end{cases}\n",
    "\\end{equation}"
   ]
  },
  {
   "cell_type": "code",
   "execution_count": 1,
   "metadata": {
    "ExecuteTime": {
     "end_time": "2021-06-23T14:03:55.948400Z",
     "start_time": "2021-06-23T14:03:50.749Z"
    }
   },
   "outputs": [
    {
     "data": {
      "text/plain": [
       "defined \u001b[32mfunction\u001b[39m \u001b[36msum\u001b[39m\n",
       "\u001b[36mres0_1\u001b[39m: \u001b[32mInt\u001b[39m = \u001b[32m6\u001b[39m"
      ]
     },
     "execution_count": 1,
     "metadata": {},
     "output_type": "execute_result"
    }
   ],
   "source": [
    "def sum(n: Int): Int = {\n",
    "    if (n==1) 1\n",
    "    else n + sum(n-1)\n",
    "}\n",
    "\n",
    "sum(3)"
   ]
  },
  {
   "cell_type": "code",
   "execution_count": 73,
   "metadata": {
    "ExecuteTime": {
     "end_time": "2021-09-25T07:38:03.579800Z",
     "start_time": "2021-09-25T07:38:03.457Z"
    }
   },
   "outputs": [
    {
     "data": {
      "text/plain": [
       "defined \u001b[32mfunction\u001b[39m \u001b[36mfact\u001b[39m\n",
       "\u001b[36mres72_1\u001b[39m: \u001b[32mInt\u001b[39m = \u001b[32m5040\u001b[39m"
      ]
     },
     "execution_count": 73,
     "metadata": {},
     "output_type": "execute_result"
    }
   ],
   "source": [
    "def fact(n:Int): Int = {\n",
    "    if (n <= 1) 1\n",
    "    else n * fact(n-1)\n",
    "}\n",
    "\n",
    "fact(7)"
   ]
  },
  {
   "cell_type": "code",
   "execution_count": 3,
   "metadata": {
    "ExecuteTime": {
     "end_time": "2021-06-23T16:41:43.999033Z",
     "start_time": "2021-06-23T16:41:43.149Z"
    }
   },
   "outputs": [
    {
     "data": {
      "text/plain": [
       "\u001b[36mres2\u001b[39m: \u001b[32mInt\u001b[39m = \u001b[32m-2102132736\u001b[39m"
      ]
     },
     "execution_count": 3,
     "metadata": {},
     "output_type": "execute_result"
    }
   ],
   "source": [
    "fact(20)"
   ]
  },
  {
   "cell_type": "code",
   "execution_count": 3,
   "metadata": {
    "ExecuteTime": {
     "end_time": "2021-06-23T13:21:22.368287Z",
     "start_time": "2021-06-23T13:21:21.175Z"
    }
   },
   "outputs": [
    {
     "name": "stdout",
     "output_type": "stream",
     "text": [
      "true\n",
      "false\n"
     ]
    },
    {
     "data": {
      "text/plain": [
       "defined \u001b[32mfunction\u001b[39m \u001b[36mifPrime\u001b[39m"
      ]
     },
     "execution_count": 3,
     "metadata": {},
     "output_type": "execute_result"
    }
   ],
   "source": [
    "def ifPrime(n: Int): Boolean = {\n",
    "    def func(t: Int): Boolean = {\n",
    "        if (t == 1) true\n",
    "        else (n%t != 0) && func(t-1)\n",
    "    }\n",
    "    func(n/2)\n",
    "}\n",
    "\n",
    "println(ifPrime(2003))\n",
    "println(ifPrime(17*13))"
   ]
  },
  {
   "cell_type": "code",
   "execution_count": 4,
   "metadata": {
    "ExecuteTime": {
     "end_time": "2021-06-23T13:24:12.975305Z",
     "start_time": "2021-06-23T13:24:11.953Z"
    }
   },
   "outputs": [
    {
     "data": {
      "text/plain": [
       "defined \u001b[32mfunction\u001b[39m \u001b[36mproduct\u001b[39m\n",
       "\u001b[36mres3_1\u001b[39m: \u001b[32mInt\u001b[39m = \u001b[32m99\u001b[39m"
      ]
     },
     "execution_count": 4,
     "metadata": {},
     "output_type": "execute_result"
    }
   ],
   "source": [
    "def product(m: Int, n: Int): Int = {\n",
    "    if (n==1) m\n",
    "    else m + product(m, n-1)\n",
    "}\n",
    "\n",
    "product(3,33)"
   ]
  },
  {
   "cell_type": "code",
   "execution_count": 5,
   "metadata": {
    "ExecuteTime": {
     "end_time": "2021-06-23T16:53:41.680508Z",
     "start_time": "2021-06-23T16:53:40.938Z"
    }
   },
   "outputs": [
    {
     "name": "stdout",
     "output_type": "stream",
     "text": [
      "5\n",
      "4\n",
      "3\n",
      "2\n",
      "1\n",
      "0\n"
     ]
    },
    {
     "data": {
      "text/plain": [
       "defined \u001b[32mfunction\u001b[39m \u001b[36mcountDown\u001b[39m"
      ]
     },
     "execution_count": 5,
     "metadata": {},
     "output_type": "execute_result"
    }
   ],
   "source": [
    "def countDown(i: Int): Unit = {\n",
    "    if (i>=0) {\n",
    "        println(i)\n",
    "        countDown(i-1)\n",
    "    }\n",
    "}\n",
    "\n",
    "countDown(5)"
   ]
  },
  {
   "cell_type": "code",
   "execution_count": 6,
   "metadata": {
    "ExecuteTime": {
     "end_time": "2021-06-23T16:57:33.339924Z",
     "start_time": "2021-06-23T16:57:32.618Z"
    }
   },
   "outputs": [
    {
     "data": {
      "text/plain": [
       "defined \u001b[32mfunction\u001b[39m \u001b[36mcountFromTo\u001b[39m\n",
       "\u001b[36mres5_1\u001b[39m: \u001b[32mInt\u001b[39m = \u001b[32m2\u001b[39m"
      ]
     },
     "execution_count": 6,
     "metadata": {},
     "output_type": "execute_result"
    }
   ],
   "source": [
    "def countFromTo(i: Int, j: Int): Int = {\n",
    "    if (j == i) 0\n",
    "    else 1 + countFromTo(i+1, j)\n",
    "}\n",
    "\n",
    "countFromTo(3,5)"
   ]
  },
  {
   "cell_type": "code",
   "execution_count": 8,
   "metadata": {
    "ExecuteTime": {
     "end_time": "2021-06-23T19:08:06.172019Z",
     "start_time": "2021-06-23T19:08:05.413Z"
    }
   },
   "outputs": [
    {
     "name": "stdout",
     "output_type": "stream",
     "text": [
      "5\n",
      "2\n"
     ]
    },
    {
     "data": {
      "text/plain": [
       "defined \u001b[32mfunction\u001b[39m \u001b[36mgcd\u001b[39m"
      ]
     },
     "execution_count": 8,
     "metadata": {},
     "output_type": "execute_result"
    }
   ],
   "source": [
    "def gcd(i: Int, j: Int): Int = {\n",
    "    if (i%j == 0) j\n",
    "    else gcd(i, j-1)\n",
    "}\n",
    "\n",
    "println(gcd(10,5))\n",
    "println(gcd(10,3))"
   ]
  },
  {
   "cell_type": "markdown",
   "metadata": {},
   "source": [
    "# Chapter # 5: First Class Functions"
   ]
  },
  {
   "cell_type": "code",
   "execution_count": 74,
   "metadata": {
    "ExecuteTime": {
     "end_time": "2021-09-25T07:40:49.608392Z",
     "start_time": "2021-09-25T07:40:49.504Z"
    }
   },
   "outputs": [
    {
     "data": {
      "text/plain": [
       "defined \u001b[32mfunction\u001b[39m \u001b[36mdouble\u001b[39m\n",
       "\u001b[36mres73_1\u001b[39m: \u001b[32mInt\u001b[39m = \u001b[32m20\u001b[39m"
      ]
     },
     "execution_count": 74,
     "metadata": {},
     "output_type": "execute_result"
    }
   ],
   "source": [
    "def double(x:Int):Int = x*2\n",
    "double(10)"
   ]
  },
  {
   "cell_type": "markdown",
   "metadata": {},
   "source": [
    "1. Function type is defined as `(type1, type2, type3 ...) => type`  \n",
    "1. Assignment is made with `=` that follows next  \n",
    "1. Finally, the name of the function being asigned follows  \n",
    "\n",
    "The explicit type for the `anotherDouble` value is required to distinguish it as a function\n",
    "value and not a function invocation."
   ]
  },
  {
   "cell_type": "code",
   "execution_count": 75,
   "metadata": {
    "ExecuteTime": {
     "end_time": "2021-09-25T07:40:55.515499Z",
     "start_time": "2021-09-25T07:40:55.398Z"
    }
   },
   "outputs": [
    {
     "data": {
      "text/plain": [
       "\u001b[36manotherDouble\u001b[39m: \u001b[32mInt\u001b[39m => \u001b[32mInt\u001b[39m = ammonite.$sess.cmd74$Helper$$Lambda$3198/773589099@8f0e1ae\n",
       "\u001b[36mres74_1\u001b[39m: \u001b[32mInt\u001b[39m = \u001b[32m20\u001b[39m"
      ]
     },
     "execution_count": 75,
     "metadata": {},
     "output_type": "execute_result"
    }
   ],
   "source": [
    "val anotherDouble: (Int) => Int = double\n",
    "anotherDouble(10)"
   ]
  },
  {
   "cell_type": "markdown",
   "metadata": {},
   "source": [
    "An alternate way to define function values, assigned with a function, is with the wildcard operator, `_`"
   ]
  },
  {
   "cell_type": "code",
   "execution_count": 76,
   "metadata": {
    "ExecuteTime": {
     "end_time": "2021-09-25T07:41:35.894249Z",
     "start_time": "2021-09-25T07:41:35.786Z"
    }
   },
   "outputs": [
    {
     "data": {
      "text/plain": [
       "\u001b[36manotherDouble\u001b[39m: \u001b[32mInt\u001b[39m => \u001b[32mInt\u001b[39m = ammonite.$sess.cmd75$Helper$$Lambda$3205/1883354036@2c2d6797\n",
       "\u001b[36mres75_1\u001b[39m: \u001b[32mInt\u001b[39m = \u001b[32m20\u001b[39m"
      ]
     },
     "execution_count": 76,
     "metadata": {},
     "output_type": "execute_result"
    }
   ],
   "source": [
    "val anotherDouble = double _\n",
    "anotherDouble(10)"
   ]
  },
  {
   "cell_type": "markdown",
   "metadata": {},
   "source": [
    "For a single argument dropping braces is possible:"
   ]
  },
  {
   "cell_type": "code",
   "execution_count": 77,
   "metadata": {
    "ExecuteTime": {
     "end_time": "2021-09-25T07:41:48.385350Z",
     "start_time": "2021-09-25T07:41:48.277Z"
    }
   },
   "outputs": [
    {
     "data": {
      "text/plain": [
       "\u001b[36manotherDouble\u001b[39m: \u001b[32mInt\u001b[39m => \u001b[32mInt\u001b[39m = ammonite.$sess.cmd76$Helper$$Lambda$3211/290662704@1f827e1b\n",
       "\u001b[36mres76_1\u001b[39m: \u001b[32mInt\u001b[39m = \u001b[32m20\u001b[39m"
      ]
     },
     "execution_count": 77,
     "metadata": {},
     "output_type": "execute_result"
    }
   ],
   "source": [
    "val anotherDouble: Int => Int = double\n",
    "anotherDouble(10)"
   ]
  },
  {
   "cell_type": "code",
   "execution_count": 78,
   "metadata": {
    "ExecuteTime": {
     "end_time": "2021-09-25T07:42:14.846933Z",
     "start_time": "2021-09-25T07:42:14.758Z"
    }
   },
   "outputs": [
    {
     "data": {
      "text/plain": [
       "defined \u001b[32mfunction\u001b[39m \u001b[36mmax\u001b[39m\n",
       "\u001b[36mres77_1\u001b[39m: \u001b[32mDouble\u001b[39m = \u001b[32m10.0\u001b[39m"
      ]
     },
     "execution_count": 78,
     "metadata": {},
     "output_type": "execute_result"
    }
   ],
   "source": [
    "def max(x:Double,y:Double) = if ( x>y ) x else y\n",
    "max(10,3)"
   ]
  },
  {
   "cell_type": "code",
   "execution_count": 79,
   "metadata": {
    "ExecuteTime": {
     "end_time": "2021-09-25T07:42:18.523740Z",
     "start_time": "2021-09-25T07:42:18.404Z"
    }
   },
   "outputs": [
    {
     "data": {
      "text/plain": [
       "\u001b[36mmaximize\u001b[39m: (\u001b[32mDouble\u001b[39m, \u001b[32mDouble\u001b[39m) => \u001b[32mDouble\u001b[39m = ammonite.$sess.cmd78$Helper$$Lambda$3219/913758490@56d30cec\n",
       "\u001b[36mres78_1\u001b[39m: \u001b[32mDouble\u001b[39m = \u001b[32m10.0\u001b[39m"
      ]
     },
     "execution_count": 79,
     "metadata": {},
     "output_type": "execute_result"
    }
   ],
   "source": [
    "val maximize = max _\n",
    "maximize(10,3)"
   ]
  },
  {
   "cell_type": "code",
   "execution_count": 80,
   "metadata": {
    "ExecuteTime": {
     "end_time": "2021-09-25T07:42:27.332505Z",
     "start_time": "2021-09-25T07:42:27.222Z"
    }
   },
   "outputs": [
    {
     "data": {
      "text/plain": [
       "\u001b[36mmaximize\u001b[39m: (\u001b[32mDouble\u001b[39m, \u001b[32mDouble\u001b[39m) => \u001b[32mDouble\u001b[39m = ammonite.$sess.cmd79$Helper$$Lambda$3227/1761690651@52acc51b\n",
       "\u001b[36mres79_1\u001b[39m: \u001b[32mDouble\u001b[39m = \u001b[32m10.0\u001b[39m"
      ]
     },
     "execution_count": 80,
     "metadata": {},
     "output_type": "execute_result"
    }
   ],
   "source": [
    "val maximize: (Double,Double) => Double = max\n",
    "maximize(10,3)"
   ]
  },
  {
   "cell_type": "code",
   "execution_count": 81,
   "metadata": {
    "ExecuteTime": {
     "end_time": "2021-09-25T07:42:34.229209Z",
     "start_time": "2021-09-25T07:42:34.129Z"
    }
   },
   "outputs": [
    {
     "data": {
      "text/plain": [
       "defined \u001b[32mfunction\u001b[39m \u001b[36mlogStart\u001b[39m\n",
       "\u001b[36mres80_1\u001b[39m: \u001b[32mString\u001b[39m = \u001b[32m\"\"\"==================================================\n",
       "Log starts here\n",
       "==================================================\"\"\"\u001b[39m"
      ]
     },
     "execution_count": 81,
     "metadata": {},
     "output_type": "execute_result"
    }
   ],
   "source": [
    "def logStart() = \"=\"*50 + \"\\n\"+ \"Log starts here\" + \"\\n\"+\"=\"*50\n",
    "logStart()"
   ]
  },
  {
   "cell_type": "code",
   "execution_count": 79,
   "metadata": {},
   "outputs": [
    {
     "data": {
      "text/plain": [
       "\u001b[36manotherLogStart\u001b[0m: () => \u001b[32mString\u001b[0m = <function0>\n",
       "\u001b[36mres78_1\u001b[0m: \u001b[32mString\u001b[0m = \u001b[32m\"\"\"\n",
       "==================================================\n",
       "Log starts here\n",
       "==================================================\n",
       "\"\"\"\u001b[0m"
      ]
     },
     "metadata": {},
     "output_type": "display_data"
    }
   ],
   "source": [
    "val anotherLogStart: () => String = logStart\n",
    "anotherLogStart()"
   ]
  },
  {
   "cell_type": "markdown",
   "metadata": {},
   "source": [
    "Define function as a parameter input to a higher order function:  \n",
    "\n",
    "`\" funcName: input_type => output_type \"` // one arg  \n",
    "`\" funcName: (input_type1, input_type2) => output_type \"`  // two args   \n",
    "`\" funcName: () => output_type \"`"
   ]
  },
  {
   "cell_type": "code",
   "execution_count": 80,
   "metadata": {},
   "outputs": [
    {
     "data": {
      "text/plain": [
       "defined \u001b[32mfunction \u001b[36mreverseString\u001b[0m\n",
       "defined \u001b[32mfunction \u001b[36mreverser\u001b[0m\n",
       "\u001b[36mres79_2\u001b[0m: \u001b[32mString\u001b[0m = null"
      ]
     },
     "metadata": {},
     "output_type": "display_data"
    }
   ],
   "source": [
    "def reverseString(s:String, f:String => String):String = {\n",
    "    if (s == null) s else f(s)\n",
    "}\n",
    "\n",
    "def reverser(s:String):String = {\n",
    "    s.reverse\n",
    "}\n",
    "\n",
    "reverseString(null, reverser)"
   ]
  },
  {
   "cell_type": "markdown",
   "metadata": {},
   "source": [
    "## Anonymous function\n",
    "\n",
    "Define anonymous function as a parameter input to a higher order function:   \n",
    "\n",
    "` x => f(x) `  \n",
    "` () => Unit )`  \n",
    "\n",
    "\n",
    "http://alvinalexander.com/scala/passing-function-to-function-argument-anonymous"
   ]
  },
  {
   "cell_type": "code",
   "execution_count": 82,
   "metadata": {
    "ExecuteTime": {
     "end_time": "2021-09-25T07:44:23.803354Z",
     "start_time": "2021-09-25T07:44:23.687Z"
    }
   },
   "outputs": [
    {
     "data": {
      "text/plain": [
       "\u001b[36mdoubler\u001b[39m: \u001b[32mInt\u001b[39m => \u001b[32mInt\u001b[39m = ammonite.$sess.cmd81$Helper$$Lambda$3237/484283892@74a5baf9\n",
       "\u001b[36mres81_1\u001b[39m: \u001b[32mInt\u001b[39m = \u001b[32m22\u001b[39m"
      ]
     },
     "execution_count": 82,
     "metadata": {},
     "output_type": "execute_result"
    }
   ],
   "source": [
    "val doubler = (x:Int) => x*2\n",
    "doubler(11)"
   ]
  },
  {
   "cell_type": "code",
   "execution_count": 82,
   "metadata": {},
   "outputs": [
    {
     "data": {
      "text/plain": [
       "\u001b[36mres81\u001b[0m: \u001b[32mInt\u001b[0m => \u001b[32mInt\u001b[0m = <function1>"
      ]
     },
     "metadata": {},
     "output_type": "display_data"
    }
   ],
   "source": [
    "doubler"
   ]
  },
  {
   "cell_type": "markdown",
   "metadata": {},
   "source": [
    "## Anonymous without args"
   ]
  },
  {
   "cell_type": "code",
   "execution_count": 83,
   "metadata": {},
   "outputs": [
    {
     "data": {
      "text/plain": [
       "\u001b[36mstart\u001b[0m: () => \u001b[32mString\u001b[0m = <function0>\n",
       "\u001b[36mres82_1\u001b[0m: () => \u001b[32mString\u001b[0m = <function0>"
      ]
     },
     "metadata": {},
     "output_type": "display_data"
    }
   ],
   "source": [
    "val start = () => \"=\"*50+\"\\n\"+\"Log starts here\"+\"\\n\"+\"=\"*50\n",
    "start"
   ]
  },
  {
   "cell_type": "code",
   "execution_count": 84,
   "metadata": {},
   "outputs": [
    {
     "data": {
      "text/plain": [
       "\u001b[36mres83\u001b[0m: \u001b[32mString\u001b[0m = \u001b[32m\"\"\"\n",
       "==================================================\n",
       "Log starts here\n",
       "==================================================\n",
       "\"\"\"\u001b[0m"
      ]
     },
     "metadata": {},
     "output_type": "display_data"
    }
   ],
   "source": [
    "start()"
   ]
  },
  {
   "cell_type": "code",
   "execution_count": 85,
   "metadata": {},
   "outputs": [
    {
     "data": {
      "text/plain": [
       "defined \u001b[32mfunction \u001b[36msafeReverse\u001b[0m"
      ]
     },
     "metadata": {},
     "output_type": "display_data"
    }
   ],
   "source": [
    "def safeReverse(s:String, f: String => String )={\n",
    "if (s!=null) f(s) else s\n",
    "}"
   ]
  },
  {
   "cell_type": "code",
   "execution_count": 86,
   "metadata": {},
   "outputs": [
    {
     "data": {
      "text/plain": [
       "\u001b[36mres85\u001b[0m: \u001b[32mString\u001b[0m = \u001b[32m\"esrever\"\u001b[0m"
      ]
     },
     "metadata": {},
     "output_type": "display_data"
    }
   ],
   "source": [
    "safeReverse(\"reverse\", x => x.reverse)"
   ]
  },
  {
   "cell_type": "markdown",
   "metadata": {},
   "source": [
    "# 5 ways to define functions\n",
    "\n",
    "## def keyeword"
   ]
  },
  {
   "cell_type": "code",
   "execution_count": 83,
   "metadata": {
    "ExecuteTime": {
     "end_time": "2021-09-25T07:48:37.107672Z",
     "start_time": "2021-09-25T07:48:36.993Z"
    }
   },
   "outputs": [
    {
     "data": {
      "text/plain": [
       "defined \u001b[32mfunction\u001b[39m \u001b[36mmax\u001b[39m\n",
       "\u001b[36mres82_1\u001b[39m: \u001b[32mDouble\u001b[39m = \u001b[32m12.0\u001b[39m"
      ]
     },
     "execution_count": 83,
     "metadata": {},
     "output_type": "execute_result"
    }
   ],
   "source": [
    "def max(x:Double, y:Double) = \n",
    "    if\n",
    "        (x>y) x\n",
    "    else\n",
    "        y\n",
    "max(12, 2)"
   ]
  },
  {
   "cell_type": "markdown",
   "metadata": {},
   "source": [
    "## assigned function val"
   ]
  },
  {
   "cell_type": "code",
   "execution_count": 84,
   "metadata": {
    "ExecuteTime": {
     "end_time": "2021-09-25T07:49:45.891198Z",
     "start_time": "2021-09-25T07:49:45.766Z"
    }
   },
   "outputs": [
    {
     "data": {
      "text/plain": [
       "\u001b[36mmaximize\u001b[39m: (\u001b[32mDouble\u001b[39m, \u001b[32mDouble\u001b[39m) => \u001b[32mDouble\u001b[39m = ammonite.$sess.cmd83$Helper$$Lambda$3245/1324547752@62baac2a\n",
       "\u001b[36mres83_1\u001b[39m: \u001b[32mDouble\u001b[39m = \u001b[32m12.0\u001b[39m"
      ]
     },
     "execution_count": 84,
     "metadata": {},
     "output_type": "execute_result"
    }
   ],
   "source": [
    "val maximize: (Double,Double) => Double = max\n",
    "maximize(12,3)"
   ]
  },
  {
   "cell_type": "code",
   "execution_count": 88,
   "metadata": {},
   "outputs": [
    {
     "data": {
      "text/plain": [
       "\u001b[36mmaximize\u001b[0m: (\u001b[32mDouble\u001b[0m, \u001b[32mDouble\u001b[0m) => \u001b[32mDouble\u001b[0m = <function2>\n",
       "\u001b[36mres87_1\u001b[0m: \u001b[32mDouble\u001b[0m = \u001b[32m7.0\u001b[0m"
      ]
     },
     "metadata": {},
     "output_type": "display_data"
    }
   ],
   "source": [
    "val maximize = max _ // placeholder for the function parameter (argument)\n",
    "maximize(3,7)"
   ]
  },
  {
   "cell_type": "markdown",
   "metadata": {},
   "source": [
    "## anonimous function"
   ]
  },
  {
   "cell_type": "code",
   "execution_count": 89,
   "metadata": {},
   "outputs": [
    {
     "data": {
      "text/plain": [
       "\u001b[36mmaximize\u001b[0m: (\u001b[32mDouble\u001b[0m, \u001b[32mDouble\u001b[0m) => \u001b[32mDouble\u001b[0m = <function2>\n",
       "\u001b[36mres88_1\u001b[0m: \u001b[32mDouble\u001b[0m = \u001b[32m12.0\u001b[0m"
      ]
     },
     "metadata": {},
     "output_type": "display_data"
    }
   ],
   "source": [
    "val maximize = (x:Double, y:Double) => if (x>y) x else y\n",
    "maximize(12,3)"
   ]
  },
  {
   "cell_type": "markdown",
   "metadata": {},
   "source": [
    "## placeholder syntax\n",
    "\n",
    "Placeholder sintax is possible when two conditions are met (p.72):   \n",
    "\n",
    "1. function type is explicitely specified outside the function literal  \n",
    "2. the function is a funtion of **ONE** parameter"
   ]
  },
  {
   "cell_type": "code",
   "execution_count": 90,
   "metadata": {},
   "outputs": [
    {
     "data": {
      "text/plain": [
       "\u001b[36mdoubler\u001b[0m: \u001b[32mDouble\u001b[0m => \u001b[32mDouble\u001b[0m = <function1>\n",
       "\u001b[36mres89_1\u001b[0m: \u001b[32mDouble\u001b[0m = \u001b[32m22.0\u001b[0m"
      ]
     },
     "metadata": {},
     "output_type": "display_data"
    }
   ],
   "source": [
    "val doubler: Double => Double = _ * 2\n",
    "doubler(11)"
   ]
  },
  {
   "cell_type": "code",
   "execution_count": 91,
   "metadata": {},
   "outputs": [
    {
     "data": {
      "text/plain": [
       "\u001b[36mreverse\u001b[0m: \u001b[32mString\u001b[0m => \u001b[32mString\u001b[0m = <function1>\n",
       "\u001b[36mres90_1\u001b[0m: \u001b[32mString\u001b[0m = \u001b[32m\"olleh\"\u001b[0m"
      ]
     },
     "metadata": {},
     "output_type": "display_data"
    }
   ],
   "source": [
    "val reverse: String => String = _.reverse\n",
    "reverse(\"hello\")"
   ]
  },
  {
   "cell_type": "code",
   "execution_count": 92,
   "metadata": {},
   "outputs": [
    {
     "data": {
      "text/plain": [
       "\u001b[36mdoubler\u001b[0m: \u001b[32mDouble\u001b[0m => \u001b[32mDouble\u001b[0m = <function1>\n",
       "\u001b[36mres91_1\u001b[0m: \u001b[32mDouble\u001b[0m = \u001b[32m22.0\u001b[0m"
      ]
     },
     "metadata": {},
     "output_type": "display_data"
    }
   ],
   "source": [
    "val doubler = (x:Double) => x*2\n",
    "doubler(11)"
   ]
  },
  {
   "cell_type": "markdown",
   "metadata": {},
   "source": [
    "More powerfull way is initializing anonymous function like:  \n",
    "\n",
    "`val name = (x1:type, x2:type, x3:type .....) => {expression}"
   ]
  },
  {
   "cell_type": "code",
   "execution_count": 93,
   "metadata": {},
   "outputs": [
    {
     "data": {
      "text/plain": [
       "\u001b[36mreverse\u001b[0m: \u001b[32mString\u001b[0m => \u001b[32mString\u001b[0m = <function1>\n",
       "\u001b[36mres92_1\u001b[0m: \u001b[32mString\u001b[0m = \u001b[32m\"olleh\"\u001b[0m"
      ]
     },
     "metadata": {},
     "output_type": "display_data"
    }
   ],
   "source": [
    "val reverse = (x:String) => {x.reverse}\n",
    "reverse(\"hello\")"
   ]
  },
  {
   "cell_type": "code",
   "execution_count": 94,
   "metadata": {},
   "outputs": [
    {
     "data": {
      "text/plain": [
       "defined \u001b[32mfunction \u001b[36msafeReverse\u001b[0m\n",
       "\u001b[36mres93_1\u001b[0m: \u001b[32mString\u001b[0m = \u001b[32m\"esrever\"\u001b[0m"
      ]
     },
     "metadata": {},
     "output_type": "display_data"
    }
   ],
   "source": [
    "def safeReverse(s:String, f:String => String) = {\n",
    "if (s!=null) f(s) else s\n",
    "}\n",
    "\n",
    "safeReverse(\"reverse\",_.reverse)"
   ]
  },
  {
   "cell_type": "code",
   "execution_count": 95,
   "metadata": {},
   "outputs": [
    {
     "data": {
      "text/plain": [
       "defined \u001b[32mfunction \u001b[36mmultiply\u001b[0m\n",
       "\u001b[36mres94_1\u001b[0m: \u001b[32mDouble\u001b[0m = \u001b[32m156.0\u001b[0m"
      ]
     },
     "metadata": {},
     "output_type": "display_data"
    }
   ],
   "source": [
    "def multiply(x:Double, y:Double, f:(Double, Double) => Double) = f(x,y)\n",
    "multiply(12, 13, _*_)"
   ]
  },
  {
   "cell_type": "code",
   "execution_count": 96,
   "metadata": {},
   "outputs": [
    {
     "data": {
      "text/plain": [
       "\u001b[36mfactorOf\u001b[0m: (\u001b[32mInt\u001b[0m, \u001b[32mInt\u001b[0m) => \u001b[32mBoolean\u001b[0m = <function2>"
      ]
     },
     "metadata": {},
     "output_type": "display_data"
    }
   ],
   "source": [
    "val factorOf = (x:Int, y:Int) => x%y == 0"
   ]
  },
  {
   "cell_type": "code",
   "execution_count": 97,
   "metadata": {},
   "outputs": [
    {
     "data": {
      "text/plain": [
       "\u001b[36mres96\u001b[0m: \u001b[32mBoolean\u001b[0m = \u001b[32mtrue\u001b[0m"
      ]
     },
     "metadata": {},
     "output_type": "display_data"
    }
   ],
   "source": [
    "factorOf(10,2)"
   ]
  },
  {
   "cell_type": "code",
   "execution_count": 98,
   "metadata": {},
   "outputs": [
    {
     "data": {
      "text/plain": [
       "\u001b[36misEven\u001b[0m: \u001b[32mInt\u001b[0m => \u001b[32mBoolean\u001b[0m = <function1>"
      ]
     },
     "metadata": {},
     "output_type": "display_data"
    }
   ],
   "source": [
    "val isEven: Int => Boolean = _ %2 ==0"
   ]
  },
  {
   "cell_type": "code",
   "execution_count": 99,
   "metadata": {},
   "outputs": [
    {
     "data": {
      "text/plain": [
       "\u001b[36mres98\u001b[0m: \u001b[32mBoolean\u001b[0m = \u001b[32mfalse\u001b[0m"
      ]
     },
     "metadata": {},
     "output_type": "display_data"
    }
   ],
   "source": [
    "isEven(5)"
   ]
  },
  {
   "cell_type": "markdown",
   "metadata": {},
   "source": [
    "## partially applied functions"
   ]
  },
  {
   "cell_type": "code",
   "execution_count": 100,
   "metadata": {},
   "outputs": [
    {
     "data": {
      "text/plain": [
       "\u001b[36mfactorOf3\u001b[0m: \u001b[32mInt\u001b[0m => \u001b[32mBoolean\u001b[0m = <function1>"
      ]
     },
     "metadata": {},
     "output_type": "display_data"
    }
   ],
   "source": [
    "val factorOf3 = factorOf(_:Int,3)"
   ]
  },
  {
   "cell_type": "code",
   "execution_count": 101,
   "metadata": {},
   "outputs": [
    {
     "data": {
      "text/plain": [
       "\u001b[36mres100\u001b[0m: \u001b[32mBoolean\u001b[0m = \u001b[32mfalse\u001b[0m"
      ]
     },
     "metadata": {},
     "output_type": "display_data"
    }
   ],
   "source": [
    "factorOf3(8)"
   ]
  },
  {
   "cell_type": "markdown",
   "metadata": {},
   "source": [
    "# Currying\n",
    "\n",
    "__Currying__ is splitting list of arguments into several parts and filling one of them with a _placeholder_ while fixing the other"
   ]
  },
  {
   "cell_type": "code",
   "execution_count": 4,
   "metadata": {
    "ExecuteTime": {
     "end_time": "2022-03-08T11:25:40.319871Z",
     "start_time": "2022-03-08T11:25:39.662Z"
    }
   },
   "outputs": [
    {
     "data": {
      "text/plain": [
       "defined \u001b[32mfunction\u001b[39m \u001b[36mfactorOf\u001b[39m\n",
       "\u001b[36mres3_1\u001b[39m: \u001b[32mBoolean\u001b[39m = true"
      ]
     },
     "execution_count": 4,
     "metadata": {},
     "output_type": "execute_result"
    }
   ],
   "source": [
    "def factorOf(x:Int)(y:Int):Boolean = x%y == 0\n",
    "factorOf(8)(2)"
   ]
  },
  {
   "cell_type": "code",
   "execution_count": 5,
   "metadata": {
    "ExecuteTime": {
     "end_time": "2022-03-08T11:25:45.713951Z",
     "start_time": "2022-03-08T11:25:45.148Z"
    }
   },
   "outputs": [
    {
     "data": {
      "text/plain": [
       "\u001b[36mfactorOf2\u001b[39m: \u001b[32mInt\u001b[39m => \u001b[32mBoolean\u001b[39m = ammonite.$sess.cmd4$Helper$$Lambda$1930/2026265905@5e00a9ab"
      ]
     },
     "execution_count": 5,
     "metadata": {},
     "output_type": "execute_result"
    }
   ],
   "source": [
    "val factorOf2: (Int) => Boolean = factorOf(_)(2)"
   ]
  },
  {
   "cell_type": "code",
   "execution_count": 6,
   "metadata": {
    "ExecuteTime": {
     "end_time": "2022-03-08T11:25:52.648585Z",
     "start_time": "2022-03-08T11:25:52.235Z"
    }
   },
   "outputs": [
    {
     "data": {
      "text/plain": [
       "\u001b[36mres5\u001b[39m: \u001b[32mBoolean\u001b[39m = false"
      ]
     },
     "execution_count": 6,
     "metadata": {},
     "output_type": "execute_result"
    }
   ],
   "source": [
    "factorOf2(7)"
   ]
  },
  {
   "cell_type": "code",
   "execution_count": 8,
   "metadata": {
    "ExecuteTime": {
     "end_time": "2022-03-08T11:26:47.079951Z",
     "start_time": "2022-03-08T11:26:46.680Z"
    }
   },
   "outputs": [
    {
     "data": {
      "text/plain": [
       "\u001b[36mFactorOf2\u001b[39m: \u001b[32mInt\u001b[39m => \u001b[32mBoolean\u001b[39m = ammonite.$sess.cmd7$Helper$$Lambda$2099/1766165824@48dabf69"
      ]
     },
     "execution_count": 8,
     "metadata": {},
     "output_type": "execute_result"
    }
   ],
   "source": [
    "val FactorOf2: (Int) => Boolean = factorOf(2)(_)"
   ]
  },
  {
   "cell_type": "code",
   "execution_count": 10,
   "metadata": {
    "ExecuteTime": {
     "end_time": "2022-03-08T11:27:10.380064Z",
     "start_time": "2022-03-08T11:27:10.013Z"
    }
   },
   "outputs": [
    {
     "data": {
      "text/plain": [
       "\u001b[36mres9\u001b[39m: \u001b[32mBoolean\u001b[39m = false"
      ]
     },
     "execution_count": 10,
     "metadata": {},
     "output_type": "execute_result"
    }
   ],
   "source": [
    "FactorOf2(7)"
   ]
  },
  {
   "cell_type": "code",
   "execution_count": 105,
   "metadata": {},
   "outputs": [
    {
     "data": {
      "text/plain": [
       "\u001b[36mhigher\u001b[0m: (\u001b[32mInt\u001b[0m, \u001b[32mInt\u001b[0m) => \u001b[32mInt\u001b[0m = <function2>\n",
       "\u001b[36mres104_1\u001b[0m: \u001b[32mInt\u001b[0m = \u001b[32m5\u001b[0m"
      ]
     },
     "metadata": {},
     "output_type": "display_data"
    }
   ],
   "source": [
    "val higher = (x:Int,y:Int) => if (x>y) x else y\n",
    "higher(3,5)"
   ]
  },
  {
   "cell_type": "code",
   "execution_count": 106,
   "metadata": {},
   "outputs": [
    {
     "data": {
      "text/plain": [
       "defined \u001b[32mfunction \u001b[36mhigher3\u001b[0m\n",
       "\u001b[36mres105_1\u001b[0m: \u001b[32mInt\u001b[0m = \u001b[32m32\u001b[0m"
      ]
     },
     "metadata": {},
     "output_type": "display_data"
    }
   ],
   "source": [
    "def higher3(x:Tuple3[Int,Int,Int], f:(Int,Int)=>Int) = {\n",
    "    f(x._1,f(x._2,x._3))\n",
    "}\n",
    "\n",
    "higher3((32,4,5),higher)"
   ]
  },
  {
   "cell_type": "code",
   "execution_count": 107,
   "metadata": {},
   "outputs": [
    {
     "data": {
      "text/plain": [
       "\u001b[36mrandomInt\u001b[0m: () => \u001b[32mInt\u001b[0m = <function0>\n",
       "\u001b[36mres106_1\u001b[0m: \u001b[32mInt\u001b[0m = \u001b[32m814697481\u001b[0m"
      ]
     },
     "metadata": {},
     "output_type": "display_data"
    }
   ],
   "source": [
    "val randomInt: ()=>Int = util.Random.nextInt\n",
    "higher(randomInt(), randomInt())"
   ]
  },
  {
   "cell_type": "code",
   "execution_count": 108,
   "metadata": {},
   "outputs": [
    {
     "data": {
      "text/plain": [
       "defined \u001b[32mfunction \u001b[36mmulty\u001b[0m\n",
       "\u001b[36mtripler\u001b[0m: \u001b[32mInt\u001b[0m => \u001b[32mInt\u001b[0m = <function1>\n",
       "\u001b[36mres107_2\u001b[0m: \u001b[32mInt\u001b[0m = \u001b[32m36\u001b[0m"
      ]
     },
     "metadata": {},
     "output_type": "display_data"
    }
   ],
   "source": [
    "def multy(x: Int) = (y: Int) => x * y\n",
    "val tripler = multy(3)\n",
    "tripler(12)"
   ]
  },
  {
   "cell_type": "markdown",
   "metadata": {},
   "source": [
    "# Assigning functions with placeholder\n",
    "\n",
    "Assigning function to a value requires EITHER/OR :  \n",
    "\n",
    "1. `val new_function_name:(type1,type2,type3, ... ) => type of function output = old_function_name`  \n",
    "\n",
    "1. `val new_function_name = old_function_name _ `  \n",
    "\n",
    "The `function type` in the first way of assiging is necessary to inform compiler that this is not an initiation of a new function value; rather, this is reassignemnt of function literal."
   ]
  },
  {
   "cell_type": "code",
   "execution_count": 109,
   "metadata": {},
   "outputs": [
    {
     "data": {
      "text/plain": [
       "defined \u001b[32mfunction \u001b[36mmulty\u001b[0m\n",
       "\u001b[36mtripler\u001b[0m: \u001b[32mInt\u001b[0m => \u001b[32mInt\u001b[0m = <function1>\n",
       "\u001b[36mres108_2\u001b[0m: \u001b[32mInt\u001b[0m = \u001b[32m36\u001b[0m"
      ]
     },
     "metadata": {},
     "output_type": "display_data"
    }
   ],
   "source": [
    "def multy(x:Int, y:Int) = x*y\n",
    "val tripler: (Int)=>Int = multy(_, 3)\n",
    "tripler(12)"
   ]
  },
  {
   "cell_type": "code",
   "execution_count": 110,
   "metadata": {
    "scrolled": true
   },
   "outputs": [
    {
     "data": {
      "text/plain": [
       "defined \u001b[32mfunction \u001b[36mmulty\u001b[0m\n",
       "\u001b[36mtripler\u001b[0m: \u001b[32mInt\u001b[0m => \u001b[32mInt\u001b[0m = <function1>\n",
       "\u001b[36mres109_2\u001b[0m: \u001b[32mInt\u001b[0m = \u001b[32m36\u001b[0m"
      ]
     },
     "metadata": {},
     "output_type": "display_data"
    }
   ],
   "source": [
    "def multy(x:Int)(y:Int) = x*y\n",
    "val tripler: (Int)=>Int = multy(3)(_)\n",
    "tripler(12)"
   ]
  },
  {
   "cell_type": "code",
   "execution_count": 111,
   "metadata": {},
   "outputs": [
    {
     "data": {
      "text/plain": [
       "defined \u001b[32mfunction \u001b[36mmulty\u001b[0m\n",
       "\u001b[36mtripler\u001b[0m: \u001b[32mInt\u001b[0m => \u001b[32mInt\u001b[0m = <function1>\n",
       "\u001b[36mres110_2\u001b[0m: \u001b[32mInt\u001b[0m = \u001b[32m36\u001b[0m"
      ]
     },
     "metadata": {},
     "output_type": "display_data"
    }
   ],
   "source": [
    "def multy(x:Int)(y:Int) = x*y\n",
    "val tripler = multy(3) _\n",
    "tripler(12)"
   ]
  },
  {
   "cell_type": "code",
   "execution_count": 111,
   "metadata": {},
   "outputs": [
    {
     "ename": "",
     "evalue": "",
     "output_type": "error",
     "traceback": [
      "\u001b[31mMain.scala:32: missing argument list for method multy in class $user",
      "Unapplied methods are only converted to functions when a function type is expected.",
      "You can make this conversion explicit by writing `multy _` or `multy(_)(_)` instead of `multy`.",
      "multy(3) ",
      "     ^\u001b[0m"
     ]
    }
   ],
   "source": [
    "def multy(x:Int)(y:Int) = x*y\n",
    "val tripler = multy(3) // missing placeholder for a second argument\n",
    "tripler(12)"
   ]
  },
  {
   "cell_type": "code",
   "execution_count": 111,
   "metadata": {},
   "outputs": [
    {
     "ename": "",
     "evalue": "",
     "output_type": "error",
     "traceback": [
      "\u001b[31mMain.scala:27: missing argument list for method double in class $user",
      "Unapplied methods are only converted to functions when a function type is expected.",
      "You can make this conversion explicit by writing `double _` or `double(_)` instead of `double`.",
      "double ",
      "^\u001b[0m"
     ]
    }
   ],
   "source": [
    "def double(x:Int) = x*2\n",
    "val myDouble = double // missing placeholder for the argument\n",
    "myDouble(6)"
   ]
  },
  {
   "cell_type": "code",
   "execution_count": 112,
   "metadata": {},
   "outputs": [
    {
     "data": {
      "text/plain": [
       "defined \u001b[32mfunction \u001b[36mdouble\u001b[0m\n",
       "\u001b[36mmyDouble\u001b[0m: \u001b[32mInt\u001b[0m => \u001b[32mInt\u001b[0m = <function1>\n",
       "\u001b[36mres111_2\u001b[0m: \u001b[32mInt\u001b[0m = \u001b[32m12\u001b[0m"
      ]
     },
     "metadata": {},
     "output_type": "display_data"
    }
   ],
   "source": [
    "def double(x:Int) = x*2\n",
    "val myDouble = double _\n",
    "myDouble(6)"
   ]
  },
  {
   "cell_type": "code",
   "execution_count": 112,
   "metadata": {},
   "outputs": [
    {
     "ename": "",
     "evalue": "",
     "output_type": "error",
     "traceback": [
      "\u001b[31mMain.scala:30: not enough arguments for method double: (x: Int)Int.",
      "Unspecified value parameter x.",
      "double() ",
      "      ^\u001b[0m"
     ]
    }
   ],
   "source": [
    "def double(x:Int) = x*2\n",
    "val myDouble = double() // missing argument\n",
    "myDouble(6)"
   ]
  },
  {
   "cell_type": "code",
   "execution_count": 113,
   "metadata": {},
   "outputs": [
    {
     "data": {
      "text/plain": [
       "defined \u001b[32mfunction \u001b[36mdouble\u001b[0m\n",
       "\u001b[36mmyDouble\u001b[0m: \u001b[32mInt\u001b[0m => \u001b[32mInt\u001b[0m = <function1>\n",
       "\u001b[36mres112_2\u001b[0m: \u001b[32mInt\u001b[0m = \u001b[32m12\u001b[0m"
      ]
     },
     "metadata": {},
     "output_type": "display_data"
    }
   ],
   "source": [
    "def double(x:Int) = x*2\n",
    "val myDouble = double(_)\n",
    "myDouble(6)"
   ]
  },
  {
   "cell_type": "code",
   "execution_count": 113,
   "metadata": {},
   "outputs": [
    {
     "ename": "",
     "evalue": "",
     "output_type": "error",
     "traceback": [
      "\u001b[31mMain.scala:24: missing argument list for method square in class $user",
      "Unapplied methods are only converted to functions when a function type is expected.",
      "You can make this conversion explicit by writing `square _` or `square(_)` instead of `square`.",
      "square // no placeholder OR function type definition ",
      "^\u001b[0m"
     ]
    }
   ],
   "source": [
    "def square(m: Double) = m * m\n",
    "val sq = square // no placeholder OR function type definition"
   ]
  },
  {
   "cell_type": "code",
   "execution_count": 113,
   "metadata": {},
   "outputs": [
    {
     "ename": "",
     "evalue": "",
     "output_type": "error",
     "traceback": [
      "\u001b[31mMain.scala:24: not found: value square",
      "square ",
      "^\u001b[0m"
     ]
    }
   ],
   "source": [
    "val sq: (Double)=> Double = square // working in REPL\n",
    "sq(3)"
   ]
  },
  {
   "cell_type": "code",
   "execution_count": 113,
   "metadata": {},
   "outputs": [
    {
     "ename": "",
     "evalue": "",
     "output_type": "error",
     "traceback": [
      "\u001b[31mMain.scala:24: not found: value square",
      "square _ ",
      "^\u001b[0m"
     ]
    }
   ],
   "source": [
    "val sq = square _\n",
    "sq(3)"
   ]
  },
  {
   "cell_type": "code",
   "execution_count": 114,
   "metadata": {},
   "outputs": [
    {
     "name": "stdout",
     "output_type": "stream",
     "text": [
      "1\n",
      "2\n",
      "type\n",
      "4\n",
      "safe\n",
      "type\n",
      "7\n",
      "8\n",
      "type\n",
      "safe\n",
      "11\n",
      "type\n",
      "13\n",
      "14\n",
      "typesafe\n"
     ]
    },
    {
     "data": {
      "text/plain": []
     },
     "metadata": {},
     "output_type": "display_data"
    }
   ],
   "source": [
    "for (i<-1 to 15) i match {\n",
    "    case x if (x%15 == 0) => println(\"typesafe\")\n",
    "    case x if (x%3 == 0) => println(\"type\")\n",
    "    case x if (x%5 == 0) => println(\"safe\")\n",
    "    case _ => println(i)\n",
    "}"
   ]
  },
  {
   "cell_type": "code",
   "execution_count": 6,
   "metadata": {},
   "outputs": [
    {
     "data": {
      "text/plain": [
       "\u001b[36mdouble\u001b[39m: \u001b[32mInt\u001b[39m => \u001b[32mInt\u001b[39m = ammonite.$sess.cell6$Helper$$Lambda$2301/0x00007f5b605f6000@5da2266f"
      ]
     },
     "execution_count": 6,
     "metadata": {},
     "output_type": "execute_result"
    }
   ],
   "source": [
    "val double: Int => Int = x => 2*x"
   ]
  },
  {
   "cell_type": "markdown",
   "metadata": {},
   "source": [
    "# Chapter 6. Common Collections \n",
    "\n",
    "## Sequences -- ordered collection of elements:  \n",
    "- Array:\n",
    "    - Flat data structure  \n",
    "    - Same type, mutable, fixed length  \n",
    "    - Common operations:  \n",
    "        - fetching element by its index  \n",
    "        - updating element  \n",
    "- List:  \n",
    "    - Linear, recursive data structure  \n",
    "    - Same type, immutable  \n",
    "    - Accessing element by index in not efficient: access time proportional to element's position in the list  \n",
    "    - Common operations:  \n",
    "        - fetching first element: `first`  \n",
    "        - fetching all but first element: `tail`  \n",
    "        - checking weather `List` is empty: `isEmpty`  \n",
    "- Vector:\n",
    "    - combines charecteristics of both `Array` and `List`\n",
    "    \n",
    "    \n",
    "## Sets:\n",
    "Set is an unordered collection of distinct elements.\n",
    "\n",
    "Basic operations:  \n",
    "- `contains` : Returns true if a set contains the element passed as input to this method.\n",
    "- `isEmpty`  : Returns true if a set is empty.  \n",
    "\n",
    "## Collections methods are:\n",
    "\n",
    "> - map\n",
    "> - filter\n",
    "> - foreach\n",
    "> - head\n",
    "> - tail\n",
    "> - take\n",
    "> - takeWhile\n",
    "> - drop\n",
    "> - dropWhile\n",
    "> - reduce"
   ]
  },
  {
   "cell_type": "code",
   "execution_count": 17,
   "metadata": {
    "ExecuteTime": {
     "end_time": "2022-02-27T17:05:11.767275Z",
     "start_time": "2022-02-27T17:05:11.642Z"
    }
   },
   "outputs": [
    {
     "data": {
      "text/plain": [
       "\u001b[36mnumbers\u001b[39m: \u001b[32mList\u001b[39m[\u001b[32mInt\u001b[39m] = \u001b[33mList\u001b[39m(\u001b[32m1\u001b[39m, \u001b[32m2\u001b[39m, \u001b[32m3\u001b[39m, \u001b[32m5\u001b[39m, \u001b[32m8\u001b[39m, \u001b[32m4\u001b[39m)"
      ]
     },
     "execution_count": 17,
     "metadata": {},
     "output_type": "execute_result"
    }
   ],
   "source": [
    "val numbers = List(1,2,3,5,8,4)"
   ]
  },
  {
   "cell_type": "markdown",
   "metadata": {},
   "source": [
    "### Head"
   ]
  },
  {
   "cell_type": "code",
   "execution_count": 116,
   "metadata": {},
   "outputs": [
    {
     "data": {
      "text/plain": [
       "\u001b[36mres115\u001b[0m: \u001b[32mInt\u001b[0m = \u001b[32m1\u001b[0m"
      ]
     },
     "metadata": {},
     "output_type": "display_data"
    }
   ],
   "source": [
    "numbers.head"
   ]
  },
  {
   "cell_type": "code",
   "execution_count": 117,
   "metadata": {},
   "outputs": [
    {
     "data": {
      "text/plain": [
       "\u001b[36mres116\u001b[0m: \u001b[32mInt\u001b[0m = \u001b[32m6\u001b[0m"
      ]
     },
     "metadata": {},
     "output_type": "display_data"
    }
   ],
   "source": [
    "numbers.size"
   ]
  },
  {
   "cell_type": "markdown",
   "metadata": {},
   "source": [
    "### Foreach"
   ]
  },
  {
   "cell_type": "code",
   "execution_count": 118,
   "metadata": {},
   "outputs": [
    {
     "name": "stdout",
     "output_type": "stream",
     "text": [
      "1\n",
      "2\n",
      "3\n",
      "5\n",
      "8\n",
      "4\n"
     ]
    },
    {
     "data": {
      "text/plain": []
     },
     "metadata": {},
     "output_type": "display_data"
    }
   ],
   "source": [
    "for (int <- numbers) println(int)"
   ]
  },
  {
   "cell_type": "code",
   "execution_count": 119,
   "metadata": {},
   "outputs": [
    {
     "name": "stdout",
     "output_type": "stream",
     "text": [
      "2\n",
      "8\n",
      "4\n"
     ]
    },
    {
     "data": {
      "text/plain": []
     },
     "metadata": {},
     "output_type": "display_data"
    }
   ],
   "source": [
    "numbers.foreach((x:Int) => if (x%2==0) println(x))"
   ]
  },
  {
   "cell_type": "markdown",
   "metadata": {},
   "source": [
    "### Map    "
   ]
  },
  {
   "cell_type": "code",
   "execution_count": 120,
   "metadata": {},
   "outputs": [
    {
     "data": {
      "text/plain": [
       "\u001b[36mres119\u001b[0m: \u001b[32mList\u001b[0m[\u001b[32mInt\u001b[0m] = \u001b[33mList\u001b[0m(\u001b[32m1\u001b[0m, \u001b[32m4\u001b[0m, \u001b[32m9\u001b[0m, \u001b[32m25\u001b[0m, \u001b[32m64\u001b[0m, \u001b[32m16\u001b[0m)"
      ]
     },
     "metadata": {},
     "output_type": "display_data"
    }
   ],
   "source": [
    "numbers.map((x:Int)=>x*x)"
   ]
  },
  {
   "cell_type": "code",
   "execution_count": 121,
   "metadata": {},
   "outputs": [
    {
     "data": {
      "text/plain": [
       "\u001b[36mres120\u001b[0m: \u001b[32mList\u001b[0m[\u001b[32mInt\u001b[0m] = \u001b[33mList\u001b[0m(\u001b[32m1\u001b[0m, \u001b[32m4\u001b[0m, \u001b[32m9\u001b[0m, \u001b[32m25\u001b[0m, \u001b[32m64\u001b[0m, \u001b[32m16\u001b[0m)"
      ]
     },
     "metadata": {},
     "output_type": "display_data"
    }
   ],
   "source": [
    "numbers.map(x => x*x)"
   ]
  },
  {
   "cell_type": "markdown",
   "metadata": {},
   "source": [
    "### 5 Faces of `map` :\n",
    "\n",
    "#### Map with anonymous lambda"
   ]
  },
  {
   "cell_type": "code",
   "execution_count": 86,
   "metadata": {
    "ExecuteTime": {
     "end_time": "2021-09-25T07:55:39.514704Z",
     "start_time": "2021-09-25T07:55:39.397Z"
    }
   },
   "outputs": [
    {
     "data": {
      "text/plain": [
       "\u001b[36mres85\u001b[39m: \u001b[32mList\u001b[39m[\u001b[32mInt\u001b[39m] = \u001b[33mList\u001b[39m(\u001b[32m10\u001b[39m, \u001b[32m20\u001b[39m, \u001b[32m30\u001b[39m, \u001b[32m50\u001b[39m, \u001b[32m80\u001b[39m, \u001b[32m40\u001b[39m)"
      ]
     },
     "execution_count": 86,
     "metadata": {},
     "output_type": "execute_result"
    }
   ],
   "source": [
    "numbers.map((x:Int) => x*10)"
   ]
  },
  {
   "cell_type": "markdown",
   "metadata": {},
   "source": [
    "#### Map with curly braces\n",
    "\n",
    "If a function takes a single argument, opening and closing parentheses can be replaced with opening\n",
    "and closing curly braces, respectively"
   ]
  },
  {
   "cell_type": "code",
   "execution_count": 124,
   "metadata": {},
   "outputs": [
    {
     "data": {
      "text/plain": [
       "\u001b[36mres123\u001b[0m: \u001b[32mList\u001b[0m[\u001b[32mInt\u001b[0m] = \u001b[33mList\u001b[0m(\u001b[32m10\u001b[0m, \u001b[32m20\u001b[0m, \u001b[32m30\u001b[0m, \u001b[32m50\u001b[0m, \u001b[32m80\u001b[0m, \u001b[32m40\u001b[0m)"
      ]
     },
     "metadata": {},
     "output_type": "display_data"
    }
   ],
   "source": [
    "numbers.map{ (x:Int) => x*10 }"
   ]
  },
  {
   "cell_type": "markdown",
   "metadata": {},
   "source": [
    "#### Map in an operator notation"
   ]
  },
  {
   "cell_type": "code",
   "execution_count": 125,
   "metadata": {},
   "outputs": [
    {
     "data": {
      "text/plain": [
       "\u001b[36mres124\u001b[0m: \u001b[32mList\u001b[0m[\u001b[32mInt\u001b[0m] = \u001b[33mList\u001b[0m(\u001b[32m10\u001b[0m, \u001b[32m20\u001b[0m, \u001b[32m30\u001b[0m, \u001b[32m50\u001b[0m, \u001b[32m80\u001b[0m, \u001b[32m40\u001b[0m)"
      ]
     },
     "metadata": {},
     "output_type": "display_data"
    }
   ],
   "source": [
    "numbers map {(x:Int) => x*10}"
   ]
  },
  {
   "cell_type": "markdown",
   "metadata": {},
   "source": [
    "#### Map with type inference"
   ]
  },
  {
   "cell_type": "code",
   "execution_count": 126,
   "metadata": {},
   "outputs": [
    {
     "data": {
      "text/plain": [
       "\u001b[36mres125\u001b[0m: \u001b[32mList\u001b[0m[\u001b[32mInt\u001b[0m] = \u001b[33mList\u001b[0m(\u001b[32m10\u001b[0m, \u001b[32m20\u001b[0m, \u001b[32m30\u001b[0m, \u001b[32m50\u001b[0m, \u001b[32m80\u001b[0m, \u001b[32m40\u001b[0m)"
      ]
     },
     "metadata": {},
     "output_type": "display_data"
    }
   ],
   "source": [
    "numbers.map(x => x*10)"
   ]
  },
  {
   "cell_type": "markdown",
   "metadata": {},
   "source": [
    "#### Map with single variable in function body  \n",
    "\n",
    "If an input to a function literal is used only once in its body, **the right arrow and left-hand side of the right arrow can be dropped** from a function literal."
   ]
  },
  {
   "cell_type": "code",
   "execution_count": 127,
   "metadata": {},
   "outputs": [
    {
     "data": {
      "text/plain": [
       "\u001b[36mres126\u001b[0m: \u001b[32mList\u001b[0m[\u001b[32mInt\u001b[0m] = \u001b[33mList\u001b[0m(\u001b[32m10\u001b[0m, \u001b[32m20\u001b[0m, \u001b[32m30\u001b[0m, \u001b[32m50\u001b[0m, \u001b[32m80\u001b[0m, \u001b[32m40\u001b[0m)"
      ]
     },
     "metadata": {},
     "output_type": "display_data"
    }
   ],
   "source": [
    "numbers.map(_*10)"
   ]
  },
  {
   "cell_type": "code",
   "execution_count": 20,
   "metadata": {
    "ExecuteTime": {
     "end_time": "2022-02-27T17:07:19.415652Z",
     "start_time": "2022-02-27T17:07:19.372Z"
    }
   },
   "outputs": [
    {
     "name": "stderr",
     "output_type": "stream",
     "text": [
      "cmd20.sc:1: missing parameter type for expanded function ((<x$1: error>, x$2) => x$1.$times(x$2))\n",
      "val res20 = numbers.map(_*_)\n",
      "                        ^cmd20.sc:1: missing parameter type for expanded function ((<x$1: error>, <x$2: error>) => x$1.$times(x$2))\n",
      "val res20 = numbers.map(_*_)\n",
      "                          ^Compilation Failed"
     ]
    },
    {
     "ename": "",
     "evalue": "",
     "output_type": "error",
     "traceback": [
      "Compilation Failed"
     ]
    }
   ],
   "source": [
    "numbers.map(_*_)"
   ]
  },
  {
   "cell_type": "markdown",
   "metadata": {},
   "source": [
    "### Reduce family"
   ]
  },
  {
   "cell_type": "code",
   "execution_count": 21,
   "metadata": {
    "ExecuteTime": {
     "end_time": "2022-02-27T17:09:32.027070Z",
     "start_time": "2022-02-27T17:09:31.931Z"
    }
   },
   "outputs": [
    {
     "data": {
      "text/plain": [
       "\u001b[36mres20\u001b[39m: \u001b[32mInt\u001b[39m = \u001b[32m23\u001b[39m"
      ]
     },
     "execution_count": 21,
     "metadata": {},
     "output_type": "execute_result"
    }
   ],
   "source": [
    "numbers.reduce((a:Int,b:Int) => a+b)"
   ]
  },
  {
   "cell_type": "code",
   "execution_count": 22,
   "metadata": {
    "ExecuteTime": {
     "end_time": "2022-02-27T17:10:17.700184Z",
     "start_time": "2022-02-27T17:10:17.580Z"
    }
   },
   "outputs": [
    {
     "data": {
      "text/plain": [
       "\u001b[36mres21\u001b[39m: \u001b[32mList\u001b[39m[\u001b[32mInt\u001b[39m] = \u001b[33mList\u001b[39m(\u001b[32m1\u001b[39m, \u001b[32m2\u001b[39m, \u001b[32m3\u001b[39m, \u001b[32m5\u001b[39m, \u001b[32m8\u001b[39m, \u001b[32m4\u001b[39m)"
      ]
     },
     "execution_count": 22,
     "metadata": {},
     "output_type": "execute_result"
    }
   ],
   "source": [
    "numbers"
   ]
  },
  {
   "cell_type": "code",
   "execution_count": 129,
   "metadata": {},
   "outputs": [
    {
     "data": {
      "text/plain": [
       "\u001b[36mres128\u001b[0m: \u001b[32mInt\u001b[0m = \u001b[32m8\u001b[0m"
      ]
     },
     "metadata": {},
     "output_type": "display_data"
    }
   ],
   "source": [
    "numbers.reduce((x,y) => if (x>y) x else y)"
   ]
  },
  {
   "cell_type": "markdown",
   "metadata": {},
   "source": [
    "How `reduce` operates on a collection:   \n",
    "http://alvinalexander.com/scala/how-to-walk-scala-collections-reduceleft-foldright-cookbook"
   ]
  },
  {
   "cell_type": "code",
   "execution_count": 130,
   "metadata": {},
   "outputs": [
    {
     "name": "stdout",
     "output_type": "stream",
     "text": [
      "compared 1 to 2, 2 was larger\n",
      "compared 2 to 3, 3 was larger\n",
      "compared 3 to 5, 5 was larger\n",
      "compared 5 to 8, 8 was larger\n",
      "compared 8 to 4, 8 was larger\n"
     ]
    },
    {
     "data": {
      "text/plain": [
       "defined \u001b[32mfunction \u001b[36mfindMax\u001b[0m\n",
       "\u001b[36mres129_1\u001b[0m: \u001b[32mInt\u001b[0m = \u001b[32m8\u001b[0m"
      ]
     },
     "metadata": {},
     "output_type": "display_data"
    }
   ],
   "source": [
    "def findMax(x:Int, y:Int) = {\n",
    "    val max = if (x>y) x else y\n",
    "    println(s\"compared $x to $y, $max was larger\")\n",
    "    max\n",
    "}\n",
    "\n",
    "numbers.reduce(findMax)"
   ]
  },
  {
   "cell_type": "code",
   "execution_count": 23,
   "metadata": {
    "ExecuteTime": {
     "end_time": "2022-02-27T17:12:05.028707Z",
     "start_time": "2022-02-27T17:12:04.920Z"
    }
   },
   "outputs": [
    {
     "data": {
      "text/plain": [
       "\u001b[36mres22\u001b[39m: \u001b[32mInt\u001b[39m = \u001b[32m2\u001b[39m"
      ]
     },
     "execution_count": 23,
     "metadata": {},
     "output_type": "execute_result"
    }
   ],
   "source": [
    "math.max(1,2)"
   ]
  },
  {
   "cell_type": "code",
   "execution_count": 24,
   "metadata": {
    "ExecuteTime": {
     "end_time": "2022-02-27T17:12:52.298043Z",
     "start_time": "2022-02-27T17:12:52.172Z"
    }
   },
   "outputs": [
    {
     "data": {
      "text/plain": [
       "\u001b[36mres23\u001b[39m: \u001b[32mInt\u001b[39m = \u001b[32m8\u001b[39m"
      ]
     },
     "execution_count": 24,
     "metadata": {},
     "output_type": "execute_result"
    }
   ],
   "source": [
    "numbers.reduce(math.max)"
   ]
  },
  {
   "cell_type": "markdown",
   "metadata": {},
   "source": [
    "`Set` is a member of `Iterable`, thus, supporting the same operations as `List`"
   ]
  },
  {
   "cell_type": "code",
   "execution_count": 18,
   "metadata": {},
   "outputs": [
    {
     "data": {
      "text/plain": [
       "\u001b[36munique\u001b[0m: \u001b[32mSet\u001b[0m[\u001b[32mInt\u001b[0m] = \u001b[33mSet\u001b[0m(\u001b[32m10\u001b[0m, \u001b[32m20\u001b[0m, \u001b[32m30\u001b[0m)"
      ]
     },
     "metadata": {},
     "output_type": "display_data"
    }
   ],
   "source": [
    "val unique = Set(10,10,20,20,30,30)"
   ]
  },
  {
   "cell_type": "code",
   "execution_count": 20,
   "metadata": {},
   "outputs": [
    {
     "data": {
      "text/plain": [
       "\u001b[36mres19\u001b[0m: \u001b[32mInt\u001b[0m = \u001b[32m3\u001b[0m"
      ]
     },
     "metadata": {},
     "output_type": "display_data"
    }
   ],
   "source": [
    "unique.size"
   ]
  },
  {
   "cell_type": "code",
   "execution_count": 21,
   "metadata": {},
   "outputs": [
    {
     "data": {
      "text/plain": [
       "\u001b[36mres20\u001b[0m: \u001b[32mInt\u001b[0m = \u001b[32m10\u001b[0m"
      ]
     },
     "metadata": {},
     "output_type": "display_data"
    }
   ],
   "source": [
    "unique.head"
   ]
  },
  {
   "cell_type": "code",
   "execution_count": 19,
   "metadata": {},
   "outputs": [
    {
     "data": {
      "text/plain": [
       "\u001b[36mres18\u001b[0m: \u001b[32mSet\u001b[0m[\u001b[32mInt\u001b[0m] = \u001b[33mSet\u001b[0m(\u001b[32m11\u001b[0m, \u001b[32m21\u001b[0m, \u001b[32m31\u001b[0m)"
      ]
     },
     "metadata": {},
     "output_type": "display_data"
    }
   ],
   "source": [
    "unique.map(_+1)"
   ]
  },
  {
   "cell_type": "code",
   "execution_count": 22,
   "metadata": {},
   "outputs": [
    {
     "data": {
      "text/plain": [
       "\u001b[36mres21\u001b[0m: \u001b[32mInt\u001b[0m = \u001b[32m60\u001b[0m"
      ]
     },
     "metadata": {},
     "output_type": "display_data"
    }
   ],
   "source": [
    "unique.reduceLeft(_+_)"
   ]
  },
  {
   "cell_type": "code",
   "execution_count": 132,
   "metadata": {},
   "outputs": [
    {
     "data": {
      "text/plain": [
       "\u001b[36mcolorMap\u001b[0m: \u001b[32mMap\u001b[0m[\u001b[32mString\u001b[0m, \u001b[32mInt\u001b[0m] = \u001b[33mMap\u001b[0m(\u001b[32m\"red\"\u001b[0m -> \u001b[32m16711680\u001b[0m, \u001b[32m\"green\"\u001b[0m -> \u001b[32m65280\u001b[0m, \u001b[32m\"blue\"\u001b[0m -> \u001b[32m255\u001b[0m)"
      ]
     },
     "metadata": {},
     "output_type": "display_data"
    }
   ],
   "source": [
    "val colorMap = Map(\"red\" -> 0xFF0000, \"green\" -> 0xFF00, \"blue\" -> 0xFF)"
   ]
  },
  {
   "cell_type": "code",
   "execution_count": 133,
   "metadata": {},
   "outputs": [
    {
     "data": {
      "text/plain": [
       "\u001b[36mres132\u001b[0m: \u001b[32mBoolean\u001b[0m = \u001b[32mfalse\u001b[0m"
      ]
     },
     "metadata": {},
     "output_type": "display_data"
    }
   ],
   "source": [
    "colorMap.contains(\"white\")"
   ]
  },
  {
   "cell_type": "code",
   "execution_count": 134,
   "metadata": {},
   "outputs": [
    {
     "name": "stdout",
     "output_type": "stream",
     "text": [
      "(red,16711680)\n",
      "(green,65280)\n",
      "(blue,255)\n"
     ]
    },
    {
     "data": {
      "text/plain": []
     },
     "metadata": {},
     "output_type": "display_data"
    }
   ],
   "source": [
    "for (pairs <- colorMap) {println(pairs)}"
   ]
  },
  {
   "cell_type": "code",
   "execution_count": 135,
   "metadata": {},
   "outputs": [
    {
     "data": {
      "text/plain": [
       "\u001b[36mres134\u001b[0m: \u001b[32mIterable\u001b[0m[\u001b[32mInt\u001b[0m] = \u001b[33mMapLike\u001b[0m(\u001b[32m16711680\u001b[0m, \u001b[32m65280\u001b[0m, \u001b[32m255\u001b[0m)"
      ]
     },
     "metadata": {},
     "output_type": "display_data"
    }
   ],
   "source": [
    "colorMap.values"
   ]
  },
  {
   "cell_type": "code",
   "execution_count": 136,
   "metadata": {},
   "outputs": [
    {
     "data": {
      "text/plain": [
       "\u001b[36mlst\u001b[0m: \u001b[32mList\u001b[0m[\u001b[32mInt\u001b[0m] = \u001b[33mList\u001b[0m(\u001b[32m-1391599029\u001b[0m, \u001b[32m975723494\u001b[0m, \u001b[32m-1658412608\u001b[0m)"
      ]
     },
     "metadata": {},
     "output_type": "display_data"
    }
   ],
   "source": [
    "val lst = (1 to 3).toList.map(_ => util.Random.nextInt)"
   ]
  },
  {
   "cell_type": "code",
   "execution_count": 137,
   "metadata": {},
   "outputs": [
    {
     "name": "stdout",
     "output_type": "stream",
     "text": [
      "11\n",
      "13\n",
      "17\n",
      "19\n",
      "23\n",
      "29\n"
     ]
    },
    {
     "data": {
      "text/plain": [
       "\u001b[36mmax\u001b[0m: \u001b[32mInt\u001b[0m = \u001b[32m30\u001b[0m"
      ]
     },
     "metadata": {},
     "output_type": "display_data"
    }
   ],
   "source": [
    "val max = 30\n",
    "\n",
    "for ( num <- 8 to max) {\n",
    "    var iter = 0\n",
    "    for ( denom <- 3 to num/2 ) {\n",
    "        if (num.toDouble%denom !=0) iter +=1    \n",
    "    }\n",
    "    if (iter > (num/2 - 3 )) println(num) \n",
    "}"
   ]
  },
  {
   "cell_type": "code",
   "execution_count": 138,
   "metadata": {},
   "outputs": [
    {
     "data": {
      "text/plain": [
       "\u001b[36mps\u001b[0m: \u001b[32mStream\u001b[0m[\u001b[32mInt\u001b[0m] = \u001b[32m<lazy>\u001b[0m"
      ]
     },
     "metadata": {},
     "output_type": "display_data"
    }
   ],
   "source": [
    "lazy val ps: Stream[Int] = 2 #:: Stream.from(3).filter(i =>\n",
    "   ps.takeWhile{j => j * j <= i}.forall{ k => i % k > 0});"
   ]
  },
  {
   "cell_type": "code",
   "execution_count": 139,
   "metadata": {},
   "outputs": [
    {
     "data": {
      "text/plain": [
       "\u001b[36mres138\u001b[0m: \u001b[32mStream\u001b[0m[\u001b[32mInt\u001b[0m] = \u001b[33mStream\u001b[0m(\n",
       "  \u001b[32m2\u001b[0m,\n",
       "  \u001b[32m3\u001b[0m,\n",
       "  \u001b[32m5\u001b[0m,\n",
       "  \u001b[32m7\u001b[0m,\n",
       "  \u001b[32m11\u001b[0m,\n",
       "  \u001b[32m13\u001b[0m,\n",
       "  \u001b[32m17\u001b[0m,\n",
       "  \u001b[32m19\u001b[0m,\n",
       "  \u001b[32m23\u001b[0m,\n",
       "  \u001b[32m29\u001b[0m,\n",
       "  \u001b[32m31\u001b[0m,\n",
       "  \u001b[32m37\u001b[0m,\n",
       "  \u001b[32m41\u001b[0m,\n",
       "  \u001b[32m43\u001b[0m,\n",
       "  \u001b[32m47\u001b[0m,\n",
       "  \u001b[32m53\u001b[0m,\n",
       "  \u001b[32m59\u001b[0m,\n",
       "  \u001b[32m61\u001b[0m,\n",
       "  \u001b[32m67\u001b[0m,\n",
       "\u001b[33m...\u001b[0m"
      ]
     },
     "metadata": {},
     "output_type": "display_data"
    }
   ],
   "source": [
    "ps"
   ]
  },
  {
   "cell_type": "code",
   "execution_count": 17,
   "metadata": {},
   "outputs": [
    {
     "data": {
      "text/plain": [
       "\u001b[36mstr\u001b[0m: \u001b[32mString\u001b[0m = \u001b[32m\"abcdef\"\u001b[0m\n",
       "\u001b[36mres16_1\u001b[0m: \u001b[32mInt\u001b[0m = \u001b[32m6\u001b[0m\n",
       "\u001b[36mres16_2\u001b[0m: \u001b[32mChar\u001b[0m = \u001b[32m'a'\u001b[0m\n",
       "\u001b[36mres16_3\u001b[0m: \u001b[32mChar\u001b[0m = \u001b[32m'f'\u001b[0m"
      ]
     },
     "metadata": {},
     "output_type": "display_data"
    }
   ],
   "source": [
    "val str = \"abcdef\"\n",
    "\n",
    "str.size\n",
    "\n",
    "str.head\n",
    "str.tail(str.size - 2)"
   ]
  },
  {
   "cell_type": "markdown",
   "metadata": {},
   "source": [
    "## List operators: `append`, `prepend`, etc"
   ]
  },
  {
   "cell_type": "code",
   "execution_count": 89,
   "metadata": {
    "ExecuteTime": {
     "end_time": "2021-09-25T07:59:28.011614Z",
     "start_time": "2021-09-25T07:59:27.872Z"
    }
   },
   "outputs": [
    {
     "data": {
      "text/plain": [
       "\u001b[36mfirst\u001b[39m: \u001b[32mList\u001b[39m[\u001b[32mInt\u001b[39m] = \u001b[33mList\u001b[39m(\u001b[32m1\u001b[39m, \u001b[32m2\u001b[39m)\n",
       "\u001b[36msecond\u001b[39m: \u001b[32mList\u001b[39m[\u001b[32mInt\u001b[39m] = \u001b[33mList\u001b[39m(\u001b[32m2\u001b[39m, \u001b[32m3\u001b[39m, \u001b[32m4\u001b[39m)"
      ]
     },
     "execution_count": 89,
     "metadata": {},
     "output_type": "execute_result"
    }
   ],
   "source": [
    "val first = List(1,2)\n",
    "val second = List(2,3,4)"
   ]
  },
  {
   "cell_type": "code",
   "execution_count": 28,
   "metadata": {},
   "outputs": [
    {
     "data": {
      "text/plain": [
       "\u001b[36mres27\u001b[0m: \u001b[32mList\u001b[0m[\u001b[32mInt\u001b[0m] = \u001b[33mList\u001b[0m(\u001b[32m1\u001b[0m, \u001b[32m2\u001b[0m, \u001b[32m2\u001b[0m, \u001b[32m3\u001b[0m, \u001b[32m4\u001b[0m)"
      ]
     },
     "metadata": {},
     "output_type": "display_data"
    }
   ],
   "source": [
    "first ::: second"
   ]
  },
  {
   "cell_type": "code",
   "execution_count": 91,
   "metadata": {
    "ExecuteTime": {
     "end_time": "2021-09-25T07:59:38.489018Z",
     "start_time": "2021-09-25T07:59:38.374Z"
    }
   },
   "outputs": [
    {
     "data": {
      "text/plain": [
       "\u001b[36mres90\u001b[39m: \u001b[32mList\u001b[39m[\u001b[32mInt\u001b[39m] = \u001b[33mList\u001b[39m(\u001b[32m1\u001b[39m, \u001b[32m2\u001b[39m, \u001b[32m2\u001b[39m, \u001b[32m3\u001b[39m, \u001b[32m4\u001b[39m)"
      ]
     },
     "execution_count": 91,
     "metadata": {},
     "output_type": "execute_result"
    }
   ],
   "source": [
    "first ++ second"
   ]
  },
  {
   "cell_type": "code",
   "execution_count": 7,
   "metadata": {},
   "outputs": [
    {
     "data": {
      "text/plain": [
       "\u001b[36mres6\u001b[0m: \u001b[32mBoolean\u001b[0m = \u001b[32mfalse\u001b[0m"
      ]
     },
     "metadata": {},
     "output_type": "display_data"
    }
   ],
   "source": [
    "first == second"
   ]
  },
  {
   "cell_type": "code",
   "execution_count": 10,
   "metadata": {},
   "outputs": [
    {
     "data": {
      "text/plain": [
       "\u001b[36mres9\u001b[0m: \u001b[32mList\u001b[0m[\u001b[32mInt\u001b[0m] = \u001b[33mList\u001b[0m(\u001b[32m1\u001b[0m, \u001b[32m2\u001b[0m, \u001b[32m3\u001b[0m, \u001b[32m4\u001b[0m)"
      ]
     },
     "metadata": {},
     "output_type": "display_data"
    }
   ],
   "source": [
    "(first ++ second).distinct"
   ]
  },
  {
   "cell_type": "code",
   "execution_count": 13,
   "metadata": {},
   "outputs": [
    {
     "data": {
      "text/plain": [
       "\u001b[36mres12\u001b[0m: \u001b[32mList\u001b[0m[\u001b[32mInt\u001b[0m] = \u001b[33mList\u001b[0m(\u001b[32m2\u001b[0m)"
      ]
     },
     "metadata": {},
     "output_type": "display_data"
    }
   ],
   "source": [
    "List(1,2).drop(1)"
   ]
  },
  {
   "cell_type": "code",
   "execution_count": 15,
   "metadata": {},
   "outputs": [
    {
     "data": {
      "text/plain": [
       "\u001b[36mres14\u001b[0m: \u001b[32mList\u001b[0m[\u001b[32mInt\u001b[0m] = \u001b[33mList\u001b[0m(\u001b[32m10\u001b[0m, \u001b[32m30\u001b[0m)"
      ]
     },
     "metadata": {},
     "output_type": "display_data"
    }
   ],
   "source": [
    "List(1,2,10, 30).filter(_ >= 10)"
   ]
  },
  {
   "cell_type": "markdown",
   "metadata": {},
   "source": [
    "Dot notation:"
   ]
  },
  {
   "cell_type": "code",
   "execution_count": 18,
   "metadata": {},
   "outputs": [
    {
     "data": {
      "text/plain": [
       "\u001b[36mres17\u001b[0m: \u001b[32mList\u001b[0m[\u001b[32mInt\u001b[0m] = \u001b[33mList\u001b[0m(\u001b[32m1\u001b[0m, \u001b[32m2\u001b[0m, \u001b[32m3\u001b[0m, \u001b[32m4\u001b[0m, \u001b[32m5\u001b[0m)"
      ]
     },
     "metadata": {},
     "output_type": "display_data"
    }
   ],
   "source": [
    "List(List(1,2),List(3,4,5)).flatten"
   ]
  },
  {
   "cell_type": "markdown",
   "metadata": {},
   "source": [
    "Infix (or operator) notation:"
   ]
  },
  {
   "cell_type": "code",
   "execution_count": 26,
   "metadata": {},
   "outputs": [
    {
     "data": {
      "text/plain": [
       "\u001b[36mres25\u001b[0m: \u001b[32mList\u001b[0m[\u001b[32mInt\u001b[0m] = \u001b[33mList\u001b[0m(\u001b[32m1\u001b[0m, \u001b[32m2\u001b[0m, \u001b[32m3\u001b[0m, \u001b[32m4\u001b[0m, \u001b[32m5\u001b[0m)"
      ]
     },
     "metadata": {},
     "output_type": "display_data"
    }
   ],
   "source": [
    "List(List(1,2),List(3,4,5)) flatten"
   ]
  },
  {
   "cell_type": "code",
   "execution_count": 21,
   "metadata": {},
   "outputs": [
    {
     "data": {
      "text/plain": [
       "\u001b[36mres20\u001b[0m: (\u001b[32mList\u001b[0m[\u001b[32mInt\u001b[0m], \u001b[32mList\u001b[0m[\u001b[32mInt\u001b[0m]) = \u001b[33m\u001b[0m(\u001b[33mList\u001b[0m(\u001b[32m1\u001b[0m, \u001b[32m2\u001b[0m, \u001b[32m3\u001b[0m), \u001b[33mList\u001b[0m(\u001b[32m10\u001b[0m, \u001b[32m20\u001b[0m, \u001b[32m30\u001b[0m))"
      ]
     },
     "metadata": {},
     "output_type": "display_data"
    }
   ],
   "source": [
    "List(1,2,3,10,20,30).partition( _ < 10)"
   ]
  },
  {
   "cell_type": "code",
   "execution_count": 23,
   "metadata": {},
   "outputs": [
    {
     "data": {
      "text/plain": [
       "\u001b[36mres22\u001b[0m: \u001b[32mList\u001b[0m[\u001b[32mInt\u001b[0m] = \u001b[33mList\u001b[0m(\u001b[32m30\u001b[0m, \u001b[32m20\u001b[0m, \u001b[32m10\u001b[0m, \u001b[32m3\u001b[0m, \u001b[32m2\u001b[0m, \u001b[32m1\u001b[0m)"
      ]
     },
     "metadata": {},
     "output_type": "display_data"
    }
   ],
   "source": [
    "List(1,2,3,10,20,30).reverse"
   ]
  },
  {
   "cell_type": "code",
   "execution_count": 24,
   "metadata": {},
   "outputs": [
    {
     "data": {
      "text/plain": [
       "\u001b[36mres23\u001b[0m: \u001b[32mList\u001b[0m[(\u001b[32mInt\u001b[0m, \u001b[32mString\u001b[0m)] = \u001b[33mList\u001b[0m(\u001b[33m\u001b[0m(\u001b[32m1\u001b[0m, \u001b[32m\"a\"\u001b[0m), \u001b[33m\u001b[0m(\u001b[32m2\u001b[0m, \u001b[32m\"b\"\u001b[0m))"
      ]
     },
     "metadata": {},
     "output_type": "display_data"
    }
   ],
   "source": [
    "List(1,2,3).zip(List(\"a\",\"b\"))"
   ]
  },
  {
   "cell_type": "code",
   "execution_count": 25,
   "metadata": {},
   "outputs": [
    {
     "data": {
      "text/plain": [
       "\u001b[36mres24\u001b[0m: \u001b[32mList\u001b[0m[\u001b[32mString\u001b[0m] = \u001b[33mList\u001b[0m(\u001b[32m\"Apple\"\u001b[0m, \u001b[32m\"a\"\u001b[0m, \u001b[32m\"to\"\u001b[0m)"
      ]
     },
     "metadata": {},
     "output_type": "display_data"
    }
   ],
   "source": [
    "List(\"a\",\"to\",\"Apple\").sorted"
   ]
  },
  {
   "cell_type": "markdown",
   "metadata": {},
   "source": [
    "## Map methods"
   ]
  },
  {
   "cell_type": "code",
   "execution_count": 93,
   "metadata": {
    "ExecuteTime": {
     "end_time": "2021-09-25T08:01:46.990985Z",
     "start_time": "2021-09-25T08:01:46.874Z"
    }
   },
   "outputs": [
    {
     "data": {
      "text/plain": [
       "\u001b[36mres92\u001b[39m: \u001b[32mList\u001b[39m[\u001b[32mString\u001b[39m] = \u001b[33mList\u001b[39m(\u001b[32m\"ok\"\u001b[39m, \u001b[32m\"not ok\"\u001b[39m, \u001b[32m\"not ok\"\u001b[39m, \u001b[32m\"ok\"\u001b[39m)"
      ]
     },
     "execution_count": 93,
     "metadata": {},
     "output_type": "execute_result"
    }
   ],
   "source": [
    "// \"map\" maps one collection to another according to a specified rule\n",
    "List(1, 2, 3, 1).collect { \n",
    "    case 1 => \"ok\"\n",
    "    case _ => \"not ok\"\n",
    "}"
   ]
  },
  {
   "cell_type": "code",
   "execution_count": 33,
   "metadata": {},
   "outputs": [
    {
     "data": {
      "text/plain": [
       "\u001b[36mres32\u001b[0m: \u001b[32mList\u001b[0m[\u001b[32mInt\u001b[0m] = \u001b[33mList\u001b[0m(\u001b[32m1\u001b[0m, \u001b[32m2\u001b[0m, \u001b[32m3\u001b[0m)"
      ]
     },
     "metadata": {},
     "output_type": "display_data"
    }
   ],
   "source": [
    "List(1,2,3, \"a\",\"to\", \"Apple\").collect { case i:Int => i}"
   ]
  },
  {
   "cell_type": "code",
   "execution_count": 36,
   "metadata": {},
   "outputs": [
    {
     "data": {
      "text/plain": [
       "\u001b[36mstr\u001b[0m: \u001b[32mString\u001b[0m = \u001b[32m\"Milk, tea\"\u001b[0m\n",
       "\u001b[36mres35_1\u001b[0m: \u001b[32mArray\u001b[0m[\u001b[32mString\u001b[0m] = \u001b[33mArray\u001b[0m(\u001b[32m\"milk\"\u001b[0m, \u001b[32m\"tea\"\u001b[0m)"
      ]
     },
     "metadata": {},
     "output_type": "display_data"
    }
   ],
   "source": [
    "val str = \"Milk, tea\"\n",
    "\n",
    "str.split(\",\").map(_.trim.toLowerCase)"
   ]
  },
  {
   "cell_type": "code",
   "execution_count": 39,
   "metadata": {},
   "outputs": [
    {
     "data": {
      "text/plain": [
       "\u001b[36mres38\u001b[0m: \u001b[32mBoolean\u001b[0m = \u001b[32mtrue\u001b[0m"
      ]
     },
     "metadata": {},
     "output_type": "display_data"
    }
   ],
   "source": [
    "List(1,2,3).forall(_<=10)"
   ]
  },
  {
   "cell_type": "code",
   "execution_count": 44,
   "metadata": {},
   "outputs": [
    {
     "data": {
      "text/plain": [
       "\u001b[36mres43\u001b[0m: \u001b[32mBoolean\u001b[0m = \u001b[32mtrue\u001b[0m"
      ]
     },
     "metadata": {},
     "output_type": "display_data"
    }
   ],
   "source": [
    "List(1,2,3).contains(2)"
   ]
  },
  {
   "cell_type": "code",
   "execution_count": 41,
   "metadata": {},
   "outputs": [
    {
     "data": {
      "text/plain": [
       "\u001b[36mres40\u001b[0m: \u001b[32mBoolean\u001b[0m = \u001b[32mtrue\u001b[0m"
      ]
     },
     "metadata": {},
     "output_type": "display_data"
    }
   ],
   "source": [
    "\"Cucumber\".endsWith(\"r\")"
   ]
  },
  {
   "cell_type": "code",
   "execution_count": 43,
   "metadata": {},
   "outputs": [
    {
     "data": {
      "text/plain": [
       "\u001b[36mres42\u001b[0m: \u001b[32mBoolean\u001b[0m = \u001b[32mtrue\u001b[0m"
      ]
     },
     "metadata": {},
     "output_type": "display_data"
    }
   ],
   "source": [
    "\"Cucumber\".contains(\"cum\")"
   ]
  },
  {
   "cell_type": "code",
   "execution_count": 45,
   "metadata": {},
   "outputs": [
    {
     "data": {
      "text/plain": [
       "\u001b[36mres44\u001b[0m: \u001b[32mBoolean\u001b[0m = \u001b[32mfalse\u001b[0m"
      ]
     },
     "metadata": {},
     "output_type": "display_data"
    }
   ],
   "source": [
    "\"Cucumber\".startsWith(\"c\")"
   ]
  },
  {
   "cell_type": "code",
   "execution_count": 46,
   "metadata": {},
   "outputs": [
    {
     "data": {
      "text/plain": [
       "\u001b[36mres45\u001b[0m: \u001b[32mBoolean\u001b[0m = \u001b[32mtrue\u001b[0m"
      ]
     },
     "metadata": {},
     "output_type": "display_data"
    }
   ],
   "source": [
    "\"Cucumber\".startsWith(\"Cu\")"
   ]
  },
  {
   "cell_type": "code",
   "execution_count": 48,
   "metadata": {},
   "outputs": [
    {
     "data": {
      "text/plain": [
       "\u001b[36mres47\u001b[0m: \u001b[32mString\u001b[0m = \u001b[32m\"aabbcc\"\u001b[0m"
      ]
     },
     "metadata": {},
     "output_type": "display_data"
    }
   ],
   "source": [
    "List(\"a\",\"a\",\"b\",\"b\",\"c\",\"c\").mkString(\"\")"
   ]
  },
  {
   "cell_type": "markdown",
   "metadata": {},
   "source": [
    "`toBuffer` renders a `mutable` collection from an `immutable` one:"
   ]
  },
  {
   "cell_type": "code",
   "execution_count": 49,
   "metadata": {},
   "outputs": [
    {
     "data": {
      "text/plain": [
       "\u001b[36mlstImmutable\u001b[0m: \u001b[32mList\u001b[0m[\u001b[32mString\u001b[0m] = \u001b[33mList\u001b[0m(\u001b[32m\"a\"\u001b[0m, \u001b[32m\"b\"\u001b[0m, \u001b[32m\"c\"\u001b[0m)\n",
       "\u001b[36mres48_1\u001b[0m: \u001b[32mcollection\u001b[0m.\u001b[32mmutable\u001b[0m.\u001b[32mBuffer\u001b[0m[\u001b[32mString\u001b[0m] = \u001b[33mArrayBuffer\u001b[0m(\u001b[32m\"a\"\u001b[0m, \u001b[32m\"b\"\u001b[0m, \u001b[32m\"c\"\u001b[0m)"
      ]
     },
     "metadata": {},
     "output_type": "display_data"
    }
   ],
   "source": [
    "val lstImmutable = List(\"a\", \"b\", \"c\")\n",
    "lstImmutable.toBuffer"
   ]
  },
  {
   "cell_type": "markdown",
   "metadata": {},
   "source": [
    "## Chapter 7"
   ]
  },
  {
   "cell_type": "code",
   "execution_count": 3,
   "metadata": {},
   "outputs": [
    {
     "data": {
      "text/plain": [
       "\u001b[36mm\u001b[0m: \u001b[32mMap\u001b[0m[\u001b[32mString\u001b[0m, \u001b[32mInt\u001b[0m] = \u001b[33mMap\u001b[0m(\u001b[32m\"MSFT\"\u001b[0m -> \u001b[32m43\u001b[0m, \u001b[32m\"AAPL\"\u001b[0m -> \u001b[32m96\u001b[0m)"
      ]
     },
     "metadata": {},
     "output_type": "display_data"
    }
   ],
   "source": [
    "val m = Map(\"MSFT\" -> 43, \"AAPL\" -> 96)"
   ]
  },
  {
   "cell_type": "markdown",
   "metadata": {},
   "source": [
    "Remove an element from `Map` and add another one:"
   ]
  },
  {
   "cell_type": "code",
   "execution_count": 4,
   "metadata": {},
   "outputs": [
    {
     "data": {
      "text/plain": [
       "\u001b[36mn\u001b[0m: \u001b[32mMap\u001b[0m[\u001b[32mString\u001b[0m, \u001b[32mInt\u001b[0m] = \u001b[33mMap\u001b[0m(\u001b[32m\"MSFT\"\u001b[0m -> \u001b[32m43\u001b[0m, \u001b[32m\"GOOG\"\u001b[0m -> \u001b[32m68\u001b[0m)"
      ]
     },
     "metadata": {},
     "output_type": "display_data"
    }
   ],
   "source": [
    "val n = m - \"AAPL\" + (\"GOOG\" -> 68)"
   ]
  },
  {
   "cell_type": "code",
   "execution_count": 6,
   "metadata": {},
   "outputs": [
    {
     "data": {
      "text/plain": [
       "\u001b[36mres5\u001b[0m: \u001b[32mcollection\u001b[0m.\u001b[32mmutable\u001b[0m.\u001b[32mBuffer\u001b[0m[(\u001b[32mString\u001b[0m, \u001b[32mInt\u001b[0m)] = \u001b[33mArrayBuffer\u001b[0m(\u001b[33m\u001b[0m(\u001b[32m\"MSFT\"\u001b[0m, \u001b[32m43\u001b[0m), \u001b[33m\u001b[0m(\u001b[32m\"AAPL\"\u001b[0m, \u001b[32m96\u001b[0m))"
      ]
     },
     "metadata": {},
     "output_type": "display_data"
    }
   ],
   "source": [
    "m.toBuffer"
   ]
  },
  {
   "cell_type": "code",
   "execution_count": 18,
   "metadata": {},
   "outputs": [
    {
     "data": {
      "text/plain": [
       "\u001b[36mres17\u001b[0m: \u001b[32mcollection\u001b[0m.\u001b[32mmutable\u001b[0m.\u001b[32mBuffer\u001b[0m[\u001b[32mString\u001b[0m] = \u001b[33mArrayBuffer\u001b[0m(\u001b[32m\"MSFT\"\u001b[0m, \u001b[32m\"AAPL\"\u001b[0m)"
      ]
     },
     "metadata": {},
     "output_type": "display_data"
    }
   ],
   "source": [
    "m.map(_._1).toSet.toBuffer"
   ]
  },
  {
   "cell_type": "code",
   "execution_count": 19,
   "metadata": {},
   "outputs": [
    {
     "data": {
      "text/plain": [
       "\u001b[36ma\u001b[0m: \u001b[32mcollection\u001b[0m.\u001b[32mmutable\u001b[0m.\u001b[32mSet\u001b[0m[\u001b[32mInt\u001b[0m] = \u001b[33mSet\u001b[0m(\u001b[32m1\u001b[0m, \u001b[32m2\u001b[0m)"
      ]
     },
     "metadata": {},
     "output_type": "display_data"
    }
   ],
   "source": [
    "val a = collection.mutable.Set(1,1,1,1,2,2,2)"
   ]
  },
  {
   "cell_type": "code",
   "execution_count": 20,
   "metadata": {},
   "outputs": [
    {
     "data": {
      "text/plain": [
       "\u001b[36mb\u001b[0m: \u001b[32mcollection\u001b[0m.\u001b[32mmutable\u001b[0m.\u001b[32mMap\u001b[0m[\u001b[32mString\u001b[0m, \u001b[32mInt\u001b[0m] = \u001b[33mMap\u001b[0m(\u001b[32m\"MSFT\"\u001b[0m -> \u001b[32m23\u001b[0m, \u001b[32m\"AAPL\"\u001b[0m -> \u001b[32m49\u001b[0m)"
      ]
     },
     "metadata": {},
     "output_type": "display_data"
    }
   ],
   "source": [
    "val b = collection.mutable.Map(\"MSFT\" -> 23, \"AAPL\" -> 49)"
   ]
  },
  {
   "cell_type": "markdown",
   "metadata": {
    "collapsed": true,
    "jupyter": {
     "outputs_hidden": true
    }
   },
   "source": [
    "# Compiling Scala code\n",
    "\n",
    "```\n",
    "scalac del.scala          # compile\n",
    "ls                        # see what's been compiled\n",
    "java -p EmployeeClass     # see compiled Java code for the Scala EmployeeClass\n",
    "```"
   ]
  }
 ],
 "metadata": {
  "anaconda-cloud": {},
  "kernelspec": {
   "display_name": "Scala (2.13.14)",
   "language": "scala",
   "name": "scala213"
  },
  "language_info": {
   "codemirror_mode": "text/x-scala",
   "file_extension": ".sc",
   "mimetype": "text/x-scala",
   "name": "scala",
   "nbconvert_exporter": "script",
   "version": "2.13.14"
  },
  "toc": {
   "base_numbering": 1,
   "nav_menu": {},
   "number_sections": true,
   "sideBar": true,
   "skip_h1_title": false,
   "title_cell": "Table of Contents",
   "title_sidebar": "Contents",
   "toc_cell": true,
   "toc_position": {},
   "toc_section_display": true,
   "toc_window_display": false
  }
 },
 "nbformat": 4,
 "nbformat_minor": 4
}
